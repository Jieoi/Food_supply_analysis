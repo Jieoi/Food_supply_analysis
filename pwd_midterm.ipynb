{
 "cells": [
  {
   "cell_type": "markdown",
   "id": "fa2ba6ce",
   "metadata": {},
   "source": [
    "<h1>1. Introduction to the research space</h1>"
   ]
  },
  {
   "cell_type": "markdown",
   "id": "ffcd342f",
   "metadata": {},
   "source": [
    "<h3>1.1 Summary of research area</h3>"
   ]
  },
  {
   "cell_type": "markdown",
   "id": "71b11c6d",
   "metadata": {},
   "source": [
    "<p>This research is offers a novel way of understanding the issue of food supply in Singapore. It take into account of the number of Livestock Slaughtered and presents a graphical representation of how the Livestock Slaughtered changes over the years. It can assist in understanding the problem of food supply as the Livestock Slaughtered is one of the main source of fresh meat. This report should assits policy makers to gain a better understanding of the food security in Singapore.</p>"
   ]
  },
  {
   "cell_type": "markdown",
   "id": "60d976a2",
   "metadata": {},
   "source": [
    "<h3>1.2 Aims and objectives</h3>\n",
    "<p>This research project aims to understand the general trend of the food security in Singapore by analysing the supply of live stock from 2010 to 2021. While this may not be an accurate representation of the general food supply in Singapore, however, it offers a view of the local food security. Ideally, this research could help policymakers to understand the changes in the supply of meat and aid them in making policies concerning food. The research question is how the supply of live stock for food in Singapore changes over time.</p>"
   ]
  },
  {
   "cell_type": "markdown",
   "id": "053970f1",
   "metadata": {},
   "source": [
    "<h3>1.3 Acquire of dataset</h3>\n",
    "<p>The information regarding the historical data on the Livestock Slaughtered was acquired from the official website of the Singapore Department of Statistics (SingStats) via web API. The code for web scrapping is shown below.</p>"
   ]
  },
  {
   "cell_type": "code",
   "execution_count": 1,
   "id": "cc2b0552",
   "metadata": {},
   "outputs": [],
   "source": [
    "#importing the relevent library\n",
    "import requests\n",
    "import json\n",
    "import pandas as pd\n",
    "import numpy as np\n",
    "import matplotlib.pyplot as plt"
   ]
  },
  {
   "cell_type": "markdown",
   "id": "5edc7d59",
   "metadata": {},
   "source": [
    "<p>I have imported the above libraries for these following reasons:</p>\n",
    "<p>requests library is used to initiate HTTP get request to the website so that the python program is able to scrape for the data</p>\n",
    "<p>json library is used to load the data scraped from the website into text file so that it is readable by other parts of the program</p>\n",
    "<p>pandas library is used as it is a common data analytic tool to process and handle data frames in python. It is used to write to and read from csv files that saves the data. It also handles and processes the data to a proper format.</p> \n",
    "<p>numpy library is used to handle calculations and make use of the numpy array for statistical calculation</p>\n",
    "<p>The Matplotlib is used for ploting the data and represent it graphically after handled by numpy. </p>"
   ]
  },
  {
   "cell_type": "code",
   "execution_count": 2,
   "id": "8ccc9fb0",
   "metadata": {},
   "outputs": [],
   "source": [
    "#function to return the url for the data\n",
    "def getRequesturl():\n",
    "    url = \"https://tablebuilder.singstat.gov.sg/api/table/tabledata/M890521\"\n",
    "    return url"
   ]
  },
  {
   "cell_type": "code",
   "execution_count": 3,
   "id": "69edb523",
   "metadata": {},
   "outputs": [],
   "source": [
    "#functions to scrap the singstats website for the data\n",
    "def getApiData(requestUrl):\n",
    "    response = requests.get(requestUrl)\n",
    "    data = json.loads(response.text)\n",
    "    poultry =  data[\"Data\"][\"row\"][0][\"columns\"]\n",
    "    chicken = data[\"Data\"][\"row\"][1][\"columns\"]\n",
    "    duck = data[\"Data\"][\"row\"][2][\"columns\"]\n",
    "    quail = data[\"Data\"][\"row\"][2][\"columns\"]\n",
    "    pigs = data[\"Data\"][\"row\"][2][\"columns\"]\n",
    "\n",
    "    return poultry, chicken, duck, quail, pigs\n",
    "\n",
    "def getApiDataPoultry(requestUrl):\n",
    "    response = requests.get(requestUrl)\n",
    "    data = json.loads(response.text)\n",
    "    poultry =  data[\"Data\"][\"row\"][0][\"columns\"]\n",
    "    return poultry\n",
    "\n",
    "def getApiDataChickens(requestUrl):\n",
    "    response = requests.get(requestUrl)\n",
    "    data = json.loads(response.text)\n",
    "    chickens =  data[\"Data\"][\"row\"][1][\"columns\"]\n",
    "    return chickens\n",
    "\n",
    "def getApiDataDucks(requestUrl):\n",
    "    response = requests.get(requestUrl)\n",
    "    data = json.loads(response.text)\n",
    "    ducks =  data[\"Data\"][\"row\"][2][\"columns\"]\n",
    "    return ducks\n",
    "\n",
    "def getApiDataQuails(requestUrl):\n",
    "    response = requests.get(requestUrl)\n",
    "    data = json.loads(response.text)\n",
    "    quails =  data[\"Data\"][\"row\"][3][\"columns\"]\n",
    "    return quails\n",
    "\n",
    "def getApiDataPigs(requestUrl):\n",
    "    response = requests.get(requestUrl)\n",
    "    data = json.loads(response.text)\n",
    "    pigs =  data[\"Data\"][\"row\"][4][\"columns\"]\n",
    "    return pigs"
   ]
  },
  {
   "cell_type": "code",
   "execution_count": 4,
   "id": "a91e6837",
   "metadata": {},
   "outputs": [],
   "source": [
    "#scraping for poultry\n",
    "requestUrl = getRequesturl()\n",
    "\n",
    "poultry = getApiDataPoultry(requestUrl)\n",
    "dfPoul = pd.DataFrame(poultry)\n",
    "# dfPoul #uncomment to view the dataframe"
   ]
  },
  {
   "cell_type": "code",
   "execution_count": 5,
   "id": "8c26032a",
   "metadata": {},
   "outputs": [],
   "source": [
    "#scraping for chicken\n",
    "chicken = getApiDataChickens(requestUrl)\n",
    "dfChick = pd.DataFrame(chicken)\n",
    "# dfchick #uncomment to view the dataframe"
   ]
  },
  {
   "cell_type": "code",
   "execution_count": 6,
   "id": "41896ccd",
   "metadata": {},
   "outputs": [],
   "source": [
    "#scraping for Duck\n",
    "ducks = getApiDataDucks(requestUrl)\n",
    "dfDuck = pd.DataFrame(ducks)\n",
    "# dfduck #uncomment to view the dataframe"
   ]
  },
  {
   "cell_type": "code",
   "execution_count": 7,
   "id": "a626a967",
   "metadata": {},
   "outputs": [],
   "source": [
    "#scraping for Quails\n",
    "quail = getApiDataQuails(requestUrl)\n",
    "dfQuail = pd.DataFrame(quail)\n",
    "# dfquail #uncomment to view the dataframe"
   ]
  },
  {
   "cell_type": "code",
   "execution_count": 8,
   "id": "eab6fab1",
   "metadata": {},
   "outputs": [],
   "source": [
    "#scraping for pig\n",
    "pigs = getApiDataPigs(requestUrl)\n",
    "dfPig = pd.DataFrame(pigs)\n",
    "# dfpig #uncomment to view the dataframe"
   ]
  },
  {
   "cell_type": "markdown",
   "id": "f8bfd188",
   "metadata": {},
   "source": [
    "<p> The data acquired are saved in CSV files. (note, in case the website brokes down or prohibits web scrapping in the future, a backup of the files is available in the data folder. At the time of writing, both copies of data are identical.) Please run the code that is commended out below to continue if the website is unavaliable.</p>"
   ]
  },
  {
   "cell_type": "code",
   "execution_count": 9,
   "id": "b6712b07",
   "metadata": {},
   "outputs": [],
   "source": [
    "#save to csv\n",
    "dfPoul.to_csv(\"poul.csv\")\n",
    "dfChick.to_csv(\"chick.csv\")\n",
    "dfDuck.to_csv(\"duck.csv\")\n",
    "dfQuail.to_csv(\"quail.csv\")\n",
    "dfPig.to_csv(\"pig.csv\")\n",
    "\n",
    "########## The code below are for the backup incase the website fails###########\n",
    "# #read from saved files\n",
    "# dfPoul=pd.read_csv(\"data/poul.csv\")\n",
    "# dfChick=pd.read_csv(\"data/chick.csv\")\n",
    "# dfDuck=pd.read_csv(\"data/duck.csv\")\n",
    "# dfQuail=pd.read_csv(\"data/quail.csv\")\n",
    "# dfPig=pd.read_csv(\"data/pig.csv\")"
   ]
  },
  {
   "cell_type": "markdown",
   "id": "480859a6",
   "metadata": {},
   "source": [
    "</br>"
   ]
  },
  {
   "cell_type": "markdown",
   "id": "5f97420b",
   "metadata": {},
   "source": [
    "<h3> 1.4 Exploratory data analysis</h3>"
   ]
  },
  {
   "cell_type": "markdown",
   "id": "9ff65a23",
   "metadata": {},
   "source": [
    "<p>In the exploratory data analysis, I am finding the maximum value of the particular Livestock Slaughtered and the corresponding year. I am also finding the possible none values.</p>"
   ]
  },
  {
   "cell_type": "markdown",
   "id": "ff6da895",
   "metadata": {},
   "source": [
    "<p>notation used in the website: <img src=\"img/notation.jpg\" alt=\"original data in singstats\" width=\"200\" height=\"200\"> </p>"
   ]
  },
  {
   "cell_type": "markdown",
   "id": "b19730f9",
   "metadata": {},
   "source": [
    "<p>The picture above is a screen shot of the Singstats, it mentions the notation they use when the data is missing. With referece to this picture, the possible none values to be find will be \"na\", \"nec\", \"nes\" and \"-\"</p>"
   ]
  },
  {
   "cell_type": "markdown",
   "id": "a67a9944",
   "metadata": {},
   "source": [
    "<h4>Exploratory data analysis for Chicken:</h4>"
   ]
  },
  {
   "cell_type": "code",
   "execution_count": 10,
   "id": "d41ea7ae",
   "metadata": {
    "scrolled": true
   },
   "outputs": [
    {
     "name": "stdout",
     "output_type": "stream",
     "text": [
      "max number slaughtered:\n"
     ]
    },
    {
     "data": {
      "text/html": [
       "<div>\n",
       "<style scoped>\n",
       "    .dataframe tbody tr th:only-of-type {\n",
       "        vertical-align: middle;\n",
       "    }\n",
       "\n",
       "    .dataframe tbody tr th {\n",
       "        vertical-align: top;\n",
       "    }\n",
       "\n",
       "    .dataframe thead th {\n",
       "        text-align: right;\n",
       "    }\n",
       "</style>\n",
       "<table border=\"1\" class=\"dataframe\">\n",
       "  <thead>\n",
       "    <tr style=\"text-align: right;\">\n",
       "      <th></th>\n",
       "      <th>key</th>\n",
       "      <th>value</th>\n",
       "    </tr>\n",
       "  </thead>\n",
       "  <tbody>\n",
       "    <tr>\n",
       "      <th>25</th>\n",
       "      <td>2018</td>\n",
       "      <td>51400</td>\n",
       "    </tr>\n",
       "  </tbody>\n",
       "</table>\n",
       "</div>"
      ],
      "text/plain": [
       "     key  value\n",
       "25  2018  51400"
      ]
     },
     "metadata": {},
     "output_type": "display_data"
    },
    {
     "name": "stdout",
     "output_type": "stream",
     "text": [
      "starting year:\n"
     ]
    },
    {
     "data": {
      "text/html": [
       "<div>\n",
       "<style scoped>\n",
       "    .dataframe tbody tr th:only-of-type {\n",
       "        vertical-align: middle;\n",
       "    }\n",
       "\n",
       "    .dataframe tbody tr th {\n",
       "        vertical-align: top;\n",
       "    }\n",
       "\n",
       "    .dataframe thead th {\n",
       "        text-align: right;\n",
       "    }\n",
       "</style>\n",
       "<table border=\"1\" class=\"dataframe\">\n",
       "  <thead>\n",
       "    <tr style=\"text-align: right;\">\n",
       "      <th></th>\n",
       "      <th>key</th>\n",
       "      <th>value</th>\n",
       "    </tr>\n",
       "  </thead>\n",
       "  <tbody>\n",
       "    <tr>\n",
       "      <th>0</th>\n",
       "      <td>1993</td>\n",
       "      <td>35506</td>\n",
       "    </tr>\n",
       "  </tbody>\n",
       "</table>\n",
       "</div>"
      ],
      "text/plain": [
       "    key  value\n",
       "0  1993  35506"
      ]
     },
     "metadata": {},
     "output_type": "display_data"
    },
    {
     "name": "stdout",
     "output_type": "stream",
     "text": [
      "none value(s):\n"
     ]
    },
    {
     "data": {
      "text/html": [
       "<div>\n",
       "<style scoped>\n",
       "    .dataframe tbody tr th:only-of-type {\n",
       "        vertical-align: middle;\n",
       "    }\n",
       "\n",
       "    .dataframe tbody tr th {\n",
       "        vertical-align: top;\n",
       "    }\n",
       "\n",
       "    .dataframe thead th {\n",
       "        text-align: right;\n",
       "    }\n",
       "</style>\n",
       "<table border=\"1\" class=\"dataframe\">\n",
       "  <thead>\n",
       "    <tr style=\"text-align: right;\">\n",
       "      <th></th>\n",
       "      <th>key</th>\n",
       "      <th>value</th>\n",
       "    </tr>\n",
       "  </thead>\n",
       "  <tbody>\n",
       "  </tbody>\n",
       "</table>\n",
       "</div>"
      ],
      "text/plain": [
       "Empty DataFrame\n",
       "Columns: [key, value]\n",
       "Index: []"
      ]
     },
     "metadata": {},
     "output_type": "display_data"
    },
    {
     "data": {
      "text/html": [
       "<div>\n",
       "<style scoped>\n",
       "    .dataframe tbody tr th:only-of-type {\n",
       "        vertical-align: middle;\n",
       "    }\n",
       "\n",
       "    .dataframe tbody tr th {\n",
       "        vertical-align: top;\n",
       "    }\n",
       "\n",
       "    .dataframe thead th {\n",
       "        text-align: right;\n",
       "    }\n",
       "</style>\n",
       "<table border=\"1\" class=\"dataframe\">\n",
       "  <thead>\n",
       "    <tr style=\"text-align: right;\">\n",
       "      <th></th>\n",
       "      <th>key</th>\n",
       "      <th>value</th>\n",
       "    </tr>\n",
       "  </thead>\n",
       "  <tbody>\n",
       "  </tbody>\n",
       "</table>\n",
       "</div>"
      ],
      "text/plain": [
       "Empty DataFrame\n",
       "Columns: [key, value]\n",
       "Index: []"
      ]
     },
     "metadata": {},
     "output_type": "display_data"
    }
   ],
   "source": [
    "max=dfChick[dfChick['value']==dfChick['value'].max()]#check for max value\n",
    "min_year=dfChick[dfChick['key']==dfChick['key'].min()]#check for starting year\n",
    "\n",
    "\n",
    "none1=dfChick[dfChick.isna().any(axis=1)]#check for na value\n",
    "none2=dfChick.loc[dfChick['value'].isin(['na', 'nec', 'nes', '-'])]#possible none values\n",
    "\n",
    "#print the output\n",
    "print(\"max number slaughtered:\")\n",
    "display(max)\n",
    "\n",
    "print(\"starting year:\")\n",
    "display(min_year)\n",
    "\n",
    "print(\"none value(s):\")\n",
    "display(none1,none2)"
   ]
  },
  {
   "cell_type": "markdown",
   "id": "2decc586",
   "metadata": {},
   "source": [
    "<h4>Exploratory data analysis for Duck:</h4>"
   ]
  },
  {
   "cell_type": "code",
   "execution_count": 11,
   "id": "a22b2744",
   "metadata": {},
   "outputs": [
    {
     "name": "stdout",
     "output_type": "stream",
     "text": [
      "max number slaughtered:\n"
     ]
    },
    {
     "data": {
      "text/html": [
       "<div>\n",
       "<style scoped>\n",
       "    .dataframe tbody tr th:only-of-type {\n",
       "        vertical-align: middle;\n",
       "    }\n",
       "\n",
       "    .dataframe tbody tr th {\n",
       "        vertical-align: top;\n",
       "    }\n",
       "\n",
       "    .dataframe thead th {\n",
       "        text-align: right;\n",
       "    }\n",
       "</style>\n",
       "<table border=\"1\" class=\"dataframe\">\n",
       "  <thead>\n",
       "    <tr style=\"text-align: right;\">\n",
       "      <th></th>\n",
       "      <th>key</th>\n",
       "      <th>value</th>\n",
       "    </tr>\n",
       "  </thead>\n",
       "  <tbody>\n",
       "    <tr>\n",
       "      <th>7</th>\n",
       "      <td>2000</td>\n",
       "      <td>7428</td>\n",
       "    </tr>\n",
       "  </tbody>\n",
       "</table>\n",
       "</div>"
      ],
      "text/plain": [
       "    key value\n",
       "7  2000  7428"
      ]
     },
     "metadata": {},
     "output_type": "display_data"
    },
    {
     "name": "stdout",
     "output_type": "stream",
     "text": [
      "starting year:\n"
     ]
    },
    {
     "data": {
      "text/html": [
       "<div>\n",
       "<style scoped>\n",
       "    .dataframe tbody tr th:only-of-type {\n",
       "        vertical-align: middle;\n",
       "    }\n",
       "\n",
       "    .dataframe tbody tr th {\n",
       "        vertical-align: top;\n",
       "    }\n",
       "\n",
       "    .dataframe thead th {\n",
       "        text-align: right;\n",
       "    }\n",
       "</style>\n",
       "<table border=\"1\" class=\"dataframe\">\n",
       "  <thead>\n",
       "    <tr style=\"text-align: right;\">\n",
       "      <th></th>\n",
       "      <th>key</th>\n",
       "      <th>value</th>\n",
       "    </tr>\n",
       "  </thead>\n",
       "  <tbody>\n",
       "    <tr>\n",
       "      <th>0</th>\n",
       "      <td>1993</td>\n",
       "      <td>6318</td>\n",
       "    </tr>\n",
       "  </tbody>\n",
       "</table>\n",
       "</div>"
      ],
      "text/plain": [
       "    key value\n",
       "0  1993  6318"
      ]
     },
     "metadata": {},
     "output_type": "display_data"
    },
    {
     "name": "stdout",
     "output_type": "stream",
     "text": [
      "none value(s):\n"
     ]
    },
    {
     "data": {
      "text/html": [
       "<div>\n",
       "<style scoped>\n",
       "    .dataframe tbody tr th:only-of-type {\n",
       "        vertical-align: middle;\n",
       "    }\n",
       "\n",
       "    .dataframe tbody tr th {\n",
       "        vertical-align: top;\n",
       "    }\n",
       "\n",
       "    .dataframe thead th {\n",
       "        text-align: right;\n",
       "    }\n",
       "</style>\n",
       "<table border=\"1\" class=\"dataframe\">\n",
       "  <thead>\n",
       "    <tr style=\"text-align: right;\">\n",
       "      <th></th>\n",
       "      <th>key</th>\n",
       "      <th>value</th>\n",
       "    </tr>\n",
       "  </thead>\n",
       "  <tbody>\n",
       "  </tbody>\n",
       "</table>\n",
       "</div>"
      ],
      "text/plain": [
       "Empty DataFrame\n",
       "Columns: [key, value]\n",
       "Index: []"
      ]
     },
     "metadata": {},
     "output_type": "display_data"
    },
    {
     "data": {
      "text/html": [
       "<div>\n",
       "<style scoped>\n",
       "    .dataframe tbody tr th:only-of-type {\n",
       "        vertical-align: middle;\n",
       "    }\n",
       "\n",
       "    .dataframe tbody tr th {\n",
       "        vertical-align: top;\n",
       "    }\n",
       "\n",
       "    .dataframe thead th {\n",
       "        text-align: right;\n",
       "    }\n",
       "</style>\n",
       "<table border=\"1\" class=\"dataframe\">\n",
       "  <thead>\n",
       "    <tr style=\"text-align: right;\">\n",
       "      <th></th>\n",
       "      <th>key</th>\n",
       "      <th>value</th>\n",
       "    </tr>\n",
       "  </thead>\n",
       "  <tbody>\n",
       "  </tbody>\n",
       "</table>\n",
       "</div>"
      ],
      "text/plain": [
       "Empty DataFrame\n",
       "Columns: [key, value]\n",
       "Index: []"
      ]
     },
     "metadata": {},
     "output_type": "display_data"
    }
   ],
   "source": [
    "max=dfDuck[dfDuck['value']==dfDuck['value'].max()]#check for max value\n",
    "min_year=dfDuck[dfDuck['key']==dfDuck['key'].min()]#check for starting year\n",
    "\n",
    "none1=dfDuck[dfDuck.isna().any(axis=1)]#check for na value\n",
    "none2=dfDuck.loc[dfDuck['value'].isin(['na', 'nec', 'nes', '-'])]#possible none values\n",
    "\n",
    "#print the output\n",
    "print(\"max number slaughtered:\")\n",
    "display(max)\n",
    "\n",
    "print(\"starting year:\")\n",
    "display(min_year)\n",
    "\n",
    "print(\"none value(s):\")\n",
    "display(none1,none2)"
   ]
  },
  {
   "cell_type": "markdown",
   "id": "ea39d009",
   "metadata": {},
   "source": [
    "<h4>Exploratory data analysis for Quail:</h4>"
   ]
  },
  {
   "cell_type": "code",
   "execution_count": 12,
   "id": "6429f811",
   "metadata": {},
   "outputs": [
    {
     "name": "stdout",
     "output_type": "stream",
     "text": [
      "max number slaughtered:\n"
     ]
    },
    {
     "data": {
      "text/html": [
       "<div>\n",
       "<style scoped>\n",
       "    .dataframe tbody tr th:only-of-type {\n",
       "        vertical-align: middle;\n",
       "    }\n",
       "\n",
       "    .dataframe tbody tr th {\n",
       "        vertical-align: top;\n",
       "    }\n",
       "\n",
       "    .dataframe thead th {\n",
       "        text-align: right;\n",
       "    }\n",
       "</style>\n",
       "<table border=\"1\" class=\"dataframe\">\n",
       "  <thead>\n",
       "    <tr style=\"text-align: right;\">\n",
       "      <th></th>\n",
       "      <th>key</th>\n",
       "      <th>value</th>\n",
       "    </tr>\n",
       "  </thead>\n",
       "  <tbody>\n",
       "    <tr>\n",
       "      <th>7</th>\n",
       "      <td>2019</td>\n",
       "      <td>85</td>\n",
       "    </tr>\n",
       "  </tbody>\n",
       "</table>\n",
       "</div>"
      ],
      "text/plain": [
       "    key value\n",
       "7  2019    85"
      ]
     },
     "metadata": {},
     "output_type": "display_data"
    },
    {
     "name": "stdout",
     "output_type": "stream",
     "text": [
      "starting year:\n"
     ]
    },
    {
     "data": {
      "text/html": [
       "<div>\n",
       "<style scoped>\n",
       "    .dataframe tbody tr th:only-of-type {\n",
       "        vertical-align: middle;\n",
       "    }\n",
       "\n",
       "    .dataframe tbody tr th {\n",
       "        vertical-align: top;\n",
       "    }\n",
       "\n",
       "    .dataframe thead th {\n",
       "        text-align: right;\n",
       "    }\n",
       "</style>\n",
       "<table border=\"1\" class=\"dataframe\">\n",
       "  <thead>\n",
       "    <tr style=\"text-align: right;\">\n",
       "      <th></th>\n",
       "      <th>key</th>\n",
       "      <th>value</th>\n",
       "    </tr>\n",
       "  </thead>\n",
       "  <tbody>\n",
       "    <tr>\n",
       "      <th>0</th>\n",
       "      <td>2012</td>\n",
       "      <td>80</td>\n",
       "    </tr>\n",
       "  </tbody>\n",
       "</table>\n",
       "</div>"
      ],
      "text/plain": [
       "    key value\n",
       "0  2012    80"
      ]
     },
     "metadata": {},
     "output_type": "display_data"
    },
    {
     "name": "stdout",
     "output_type": "stream",
     "text": [
      "none value(s):\n"
     ]
    },
    {
     "data": {
      "text/html": [
       "<div>\n",
       "<style scoped>\n",
       "    .dataframe tbody tr th:only-of-type {\n",
       "        vertical-align: middle;\n",
       "    }\n",
       "\n",
       "    .dataframe tbody tr th {\n",
       "        vertical-align: top;\n",
       "    }\n",
       "\n",
       "    .dataframe thead th {\n",
       "        text-align: right;\n",
       "    }\n",
       "</style>\n",
       "<table border=\"1\" class=\"dataframe\">\n",
       "  <thead>\n",
       "    <tr style=\"text-align: right;\">\n",
       "      <th></th>\n",
       "      <th>key</th>\n",
       "      <th>value</th>\n",
       "    </tr>\n",
       "  </thead>\n",
       "  <tbody>\n",
       "  </tbody>\n",
       "</table>\n",
       "</div>"
      ],
      "text/plain": [
       "Empty DataFrame\n",
       "Columns: [key, value]\n",
       "Index: []"
      ]
     },
     "metadata": {},
     "output_type": "display_data"
    },
    {
     "data": {
      "text/html": [
       "<div>\n",
       "<style scoped>\n",
       "    .dataframe tbody tr th:only-of-type {\n",
       "        vertical-align: middle;\n",
       "    }\n",
       "\n",
       "    .dataframe tbody tr th {\n",
       "        vertical-align: top;\n",
       "    }\n",
       "\n",
       "    .dataframe thead th {\n",
       "        text-align: right;\n",
       "    }\n",
       "</style>\n",
       "<table border=\"1\" class=\"dataframe\">\n",
       "  <thead>\n",
       "    <tr style=\"text-align: right;\">\n",
       "      <th></th>\n",
       "      <th>key</th>\n",
       "      <th>value</th>\n",
       "    </tr>\n",
       "  </thead>\n",
       "  <tbody>\n",
       "  </tbody>\n",
       "</table>\n",
       "</div>"
      ],
      "text/plain": [
       "Empty DataFrame\n",
       "Columns: [key, value]\n",
       "Index: []"
      ]
     },
     "metadata": {},
     "output_type": "display_data"
    }
   ],
   "source": [
    "max=dfQuail[dfQuail['value']==dfQuail['value'].max()]#check for max value\n",
    "min_year=dfQuail[dfQuail['key']==dfQuail['key'].min()]#check for starting year\n",
    "\n",
    "\n",
    "none1=dfQuail[dfQuail.isna().any(axis=1)]#check for na value\n",
    "none2=dfQuail.loc[dfQuail['value'].isin(['na', 'nec', 'nes', '-'])]#possible none values\n",
    "\n",
    "#print the output\n",
    "print(\"max number slaughtered:\")\n",
    "display(max)\n",
    "\n",
    "print(\"starting year:\")\n",
    "display(min_year)\n",
    "\n",
    "print(\"none value(s):\")\n",
    "display(none1,none2)"
   ]
  },
  {
   "cell_type": "markdown",
   "id": "61303c10",
   "metadata": {},
   "source": [
    "<h4>Exploratory data analysis for Pigs</h4>"
   ]
  },
  {
   "cell_type": "code",
   "execution_count": 13,
   "id": "fafb5b6e",
   "metadata": {},
   "outputs": [
    {
     "name": "stdout",
     "output_type": "stream",
     "text": [
      "max number slaughtered:\n"
     ]
    },
    {
     "data": {
      "text/html": [
       "<div>\n",
       "<style scoped>\n",
       "    .dataframe tbody tr th:only-of-type {\n",
       "        vertical-align: middle;\n",
       "    }\n",
       "\n",
       "    .dataframe tbody tr th {\n",
       "        vertical-align: top;\n",
       "    }\n",
       "\n",
       "    .dataframe thead th {\n",
       "        text-align: right;\n",
       "    }\n",
       "</style>\n",
       "<table border=\"1\" class=\"dataframe\">\n",
       "  <thead>\n",
       "    <tr style=\"text-align: right;\">\n",
       "      <th></th>\n",
       "      <th>key</th>\n",
       "      <th>value</th>\n",
       "    </tr>\n",
       "  </thead>\n",
       "  <tbody>\n",
       "    <tr>\n",
       "      <th>5</th>\n",
       "      <td>2020</td>\n",
       "      <td>431</td>\n",
       "    </tr>\n",
       "  </tbody>\n",
       "</table>\n",
       "</div>"
      ],
      "text/plain": [
       "    key value\n",
       "5  2020   431"
      ]
     },
     "metadata": {},
     "output_type": "display_data"
    },
    {
     "name": "stdout",
     "output_type": "stream",
     "text": [
      "starting year:\n"
     ]
    },
    {
     "data": {
      "text/html": [
       "<div>\n",
       "<style scoped>\n",
       "    .dataframe tbody tr th:only-of-type {\n",
       "        vertical-align: middle;\n",
       "    }\n",
       "\n",
       "    .dataframe tbody tr th {\n",
       "        vertical-align: top;\n",
       "    }\n",
       "\n",
       "    .dataframe thead th {\n",
       "        text-align: right;\n",
       "    }\n",
       "</style>\n",
       "<table border=\"1\" class=\"dataframe\">\n",
       "  <thead>\n",
       "    <tr style=\"text-align: right;\">\n",
       "      <th></th>\n",
       "      <th>key</th>\n",
       "      <th>value</th>\n",
       "    </tr>\n",
       "  </thead>\n",
       "  <tbody>\n",
       "    <tr>\n",
       "      <th>0</th>\n",
       "      <td>2015</td>\n",
       "      <td>334</td>\n",
       "    </tr>\n",
       "  </tbody>\n",
       "</table>\n",
       "</div>"
      ],
      "text/plain": [
       "    key value\n",
       "0  2015   334"
      ]
     },
     "metadata": {},
     "output_type": "display_data"
    },
    {
     "name": "stdout",
     "output_type": "stream",
     "text": [
      "none value(s):\n"
     ]
    },
    {
     "data": {
      "text/html": [
       "<div>\n",
       "<style scoped>\n",
       "    .dataframe tbody tr th:only-of-type {\n",
       "        vertical-align: middle;\n",
       "    }\n",
       "\n",
       "    .dataframe tbody tr th {\n",
       "        vertical-align: top;\n",
       "    }\n",
       "\n",
       "    .dataframe thead th {\n",
       "        text-align: right;\n",
       "    }\n",
       "</style>\n",
       "<table border=\"1\" class=\"dataframe\">\n",
       "  <thead>\n",
       "    <tr style=\"text-align: right;\">\n",
       "      <th></th>\n",
       "      <th>key</th>\n",
       "      <th>value</th>\n",
       "    </tr>\n",
       "  </thead>\n",
       "  <tbody>\n",
       "  </tbody>\n",
       "</table>\n",
       "</div>"
      ],
      "text/plain": [
       "Empty DataFrame\n",
       "Columns: [key, value]\n",
       "Index: []"
      ]
     },
     "metadata": {},
     "output_type": "display_data"
    },
    {
     "data": {
      "text/html": [
       "<div>\n",
       "<style scoped>\n",
       "    .dataframe tbody tr th:only-of-type {\n",
       "        vertical-align: middle;\n",
       "    }\n",
       "\n",
       "    .dataframe tbody tr th {\n",
       "        vertical-align: top;\n",
       "    }\n",
       "\n",
       "    .dataframe thead th {\n",
       "        text-align: right;\n",
       "    }\n",
       "</style>\n",
       "<table border=\"1\" class=\"dataframe\">\n",
       "  <thead>\n",
       "    <tr style=\"text-align: right;\">\n",
       "      <th></th>\n",
       "      <th>key</th>\n",
       "      <th>value</th>\n",
       "    </tr>\n",
       "  </thead>\n",
       "  <tbody>\n",
       "  </tbody>\n",
       "</table>\n",
       "</div>"
      ],
      "text/plain": [
       "Empty DataFrame\n",
       "Columns: [key, value]\n",
       "Index: []"
      ]
     },
     "metadata": {},
     "output_type": "display_data"
    }
   ],
   "source": [
    "max=dfPig[dfPig['value']==dfPig['value'].max()]#check for max value\n",
    "min_year=dfPig[dfPig['key']==dfPig['key'].min()]#check for starting year\n",
    "\n",
    "\n",
    "none1=dfPig[dfPig.isna().any(axis=1)]#check for na value\n",
    "none2=dfPig.loc[dfPig['value'].isin(['na', 'nec', 'nes', '-'])]#possible none values\n",
    "\n",
    "#print the output\n",
    "print(\"max number slaughtered:\")\n",
    "display(max)\n",
    "\n",
    "print(\"starting year:\")\n",
    "display(min_year)\n",
    "\n",
    "print(\"none value(s):\")\n",
    "display(none1,none2)"
   ]
  },
  {
   "cell_type": "markdown",
   "id": "83b6269e",
   "metadata": {},
   "source": [
    "<p>From the analysis above, I can conclude that the number of livestock slaughtered is generally in an increasing trend(except for duck). There is no na or none values in any of the data gathered, however, the data starts at different year. </p>"
   ]
  },
  {
   "cell_type": "markdown",
   "id": "c55cbad3",
   "metadata": {},
   "source": [
    "</br>"
   ]
  },
  {
   "cell_type": "markdown",
   "id": "33f5c265",
   "metadata": {},
   "source": [
    "<h1>2. Justification of the relevance of data to the aims/objective and use of data source</h1>"
   ]
  },
  {
   "cell_type": "markdown",
   "id": "9ee36887",
   "metadata": {},
   "source": [
    "<h3>2.1 Origin of the data</h3>"
   ]
  },
  {
   "cell_type": "markdown",
   "id": "2280d6c8",
   "metadata": {},
   "source": [
    "<p>The data is originate from the official website of the Singapore Department of Statistics (<a href=\"https://www.singstat.gov.sg/)\">link to Singstat</a>). It offers a service called the SingStat Table Builder where the statistics in Singapore are displayed. The data chosen was the yearly data of Livestock Slaughtered in Singapore (<a href=\"https://tablebuilder.singstat.gov.sg/table/TS/M890521)\">link to data</a>).\n",
    "    \n",
    "Web API is used to retrieve the JSON(JavaScript Object Notation) file of the data. The .json file can be found <a href=\"https://tablebuilder.singstat.gov.sg/api/table/tabledata/M890521\">here</a>. The method of retriving the similar to that of week 10's lecture. \n",
    "</p>"
   ]
  },
  {
   "cell_type": "markdown",
   "id": "4efb9a04",
   "metadata": {},
   "source": [
    "<h3>2.2 Appropriateness of the data</h3>"
   ]
  },
  {
   "cell_type": "markdown",
   "id": "42a31cce",
   "metadata": {},
   "source": [
    "<p>This data is appropriate as it offers an overview of the food supply in Singapore in terms of meat. The data also covers majority sources of the meat consumed in Singapore. The Livestock Slaughtered shows an insight of the meat supply to the local market. The number of Livestock Slaughtered influence the supply of meat greatly as it is one of the main source of fresh meat avaliable locally. \n",
    "    \n",
    "On the other hand, the data is published by the Singapore Department of Statistics citing the source as \"AGRI-FOOD AND VETERINARY AUTHORITY, SINGAPORE FOOD AGENCY\". All parties involved are part of the Singapore government, making the source credible.</p>"
   ]
  },
  {
   "cell_type": "markdown",
   "id": "7b068ad2",
   "metadata": {},
   "source": [
    "<h3>2.3 Case for working with this data</h3>"
   ]
  },
  {
   "cell_type": "markdown",
   "id": "0d2eca56",
   "metadata": {},
   "source": [
    "<p>original data from website: <img src=\"img/original.jpg\" alt=\"original data in singstats\" width=\"500\" height=\"600\"> </p>"
   ]
  },
  {
   "cell_type": "markdown",
   "id": "ae1bd441",
   "metadata": {},
   "source": [
    "<p>The image above shows the original data in the Singstats website. With reference to the research question mentioned in section 1.2. The rows concerning the analysis of the research questions are the Poultry, Chickens, Ducks, Quails and Pigs. The data in these rows shows the net number in thousands of the respective livestock slaughted. It answers the the changes in the supply of livestocks. The columns from 1993 to 2021 shows the time that the data is collected. This answers the part on how the data changes with respect to time.</p>"
   ]
  },
  {
   "cell_type": "markdown",
   "id": "e2a66dd1",
   "metadata": {},
   "source": [
    "<p>As for the current dataframe used, I will use that of the poultry (dfPoul) as an example. The other dataframes are of similar structure.</p>"
   ]
  },
  {
   "cell_type": "code",
   "execution_count": 14,
   "id": "f25bcc4d",
   "metadata": {},
   "outputs": [
    {
     "data": {
      "text/html": [
       "<div>\n",
       "<style scoped>\n",
       "    .dataframe tbody tr th:only-of-type {\n",
       "        vertical-align: middle;\n",
       "    }\n",
       "\n",
       "    .dataframe tbody tr th {\n",
       "        vertical-align: top;\n",
       "    }\n",
       "\n",
       "    .dataframe thead th {\n",
       "        text-align: right;\n",
       "    }\n",
       "</style>\n",
       "<table border=\"1\" class=\"dataframe\">\n",
       "  <thead>\n",
       "    <tr style=\"text-align: right;\">\n",
       "      <th></th>\n",
       "      <th>key</th>\n",
       "      <th>value</th>\n",
       "    </tr>\n",
       "  </thead>\n",
       "  <tbody>\n",
       "    <tr>\n",
       "      <th>0</th>\n",
       "      <td>1993</td>\n",
       "      <td>41824</td>\n",
       "    </tr>\n",
       "    <tr>\n",
       "      <th>1</th>\n",
       "      <td>1994</td>\n",
       "      <td>43012</td>\n",
       "    </tr>\n",
       "    <tr>\n",
       "      <th>2</th>\n",
       "      <td>1995</td>\n",
       "      <td>37429</td>\n",
       "    </tr>\n",
       "    <tr>\n",
       "      <th>3</th>\n",
       "      <td>1996</td>\n",
       "      <td>42505</td>\n",
       "    </tr>\n",
       "    <tr>\n",
       "      <th>4</th>\n",
       "      <td>1997</td>\n",
       "      <td>45514</td>\n",
       "    </tr>\n",
       "    <tr>\n",
       "      <th>5</th>\n",
       "      <td>1998</td>\n",
       "      <td>47391</td>\n",
       "    </tr>\n",
       "    <tr>\n",
       "      <th>6</th>\n",
       "      <td>1999</td>\n",
       "      <td>52215</td>\n",
       "    </tr>\n",
       "    <tr>\n",
       "      <th>7</th>\n",
       "      <td>2000</td>\n",
       "      <td>50155</td>\n",
       "    </tr>\n",
       "    <tr>\n",
       "      <th>8</th>\n",
       "      <td>2001</td>\n",
       "      <td>50213</td>\n",
       "    </tr>\n",
       "    <tr>\n",
       "      <th>9</th>\n",
       "      <td>2002</td>\n",
       "      <td>51721</td>\n",
       "    </tr>\n",
       "    <tr>\n",
       "      <th>10</th>\n",
       "      <td>2003</td>\n",
       "      <td>49315</td>\n",
       "    </tr>\n",
       "    <tr>\n",
       "      <th>11</th>\n",
       "      <td>2004</td>\n",
       "      <td>38653</td>\n",
       "    </tr>\n",
       "    <tr>\n",
       "      <th>12</th>\n",
       "      <td>2005</td>\n",
       "      <td>44336</td>\n",
       "    </tr>\n",
       "    <tr>\n",
       "      <th>13</th>\n",
       "      <td>2006</td>\n",
       "      <td>43327</td>\n",
       "    </tr>\n",
       "    <tr>\n",
       "      <th>14</th>\n",
       "      <td>2007</td>\n",
       "      <td>47912</td>\n",
       "    </tr>\n",
       "    <tr>\n",
       "      <th>15</th>\n",
       "      <td>2008</td>\n",
       "      <td>47709</td>\n",
       "    </tr>\n",
       "    <tr>\n",
       "      <th>16</th>\n",
       "      <td>2009</td>\n",
       "      <td>48922</td>\n",
       "    </tr>\n",
       "    <tr>\n",
       "      <th>17</th>\n",
       "      <td>2010</td>\n",
       "      <td>50976</td>\n",
       "    </tr>\n",
       "    <tr>\n",
       "      <th>18</th>\n",
       "      <td>2011</td>\n",
       "      <td>52140</td>\n",
       "    </tr>\n",
       "    <tr>\n",
       "      <th>19</th>\n",
       "      <td>2012</td>\n",
       "      <td>52075</td>\n",
       "    </tr>\n",
       "    <tr>\n",
       "      <th>20</th>\n",
       "      <td>2013</td>\n",
       "      <td>53110</td>\n",
       "    </tr>\n",
       "    <tr>\n",
       "      <th>21</th>\n",
       "      <td>2014</td>\n",
       "      <td>52321</td>\n",
       "    </tr>\n",
       "    <tr>\n",
       "      <th>22</th>\n",
       "      <td>2015</td>\n",
       "      <td>53709</td>\n",
       "    </tr>\n",
       "    <tr>\n",
       "      <th>23</th>\n",
       "      <td>2016</td>\n",
       "      <td>54420</td>\n",
       "    </tr>\n",
       "    <tr>\n",
       "      <th>24</th>\n",
       "      <td>2017</td>\n",
       "      <td>53572</td>\n",
       "    </tr>\n",
       "    <tr>\n",
       "      <th>25</th>\n",
       "      <td>2018</td>\n",
       "      <td>56932</td>\n",
       "    </tr>\n",
       "    <tr>\n",
       "      <th>26</th>\n",
       "      <td>2019</td>\n",
       "      <td>56608</td>\n",
       "    </tr>\n",
       "    <tr>\n",
       "      <th>27</th>\n",
       "      <td>2020</td>\n",
       "      <td>55949</td>\n",
       "    </tr>\n",
       "    <tr>\n",
       "      <th>28</th>\n",
       "      <td>2021</td>\n",
       "      <td>54684</td>\n",
       "    </tr>\n",
       "  </tbody>\n",
       "</table>\n",
       "</div>"
      ],
      "text/plain": [
       "     key  value\n",
       "0   1993  41824\n",
       "1   1994  43012\n",
       "2   1995  37429\n",
       "3   1996  42505\n",
       "4   1997  45514\n",
       "5   1998  47391\n",
       "6   1999  52215\n",
       "7   2000  50155\n",
       "8   2001  50213\n",
       "9   2002  51721\n",
       "10  2003  49315\n",
       "11  2004  38653\n",
       "12  2005  44336\n",
       "13  2006  43327\n",
       "14  2007  47912\n",
       "15  2008  47709\n",
       "16  2009  48922\n",
       "17  2010  50976\n",
       "18  2011  52140\n",
       "19  2012  52075\n",
       "20  2013  53110\n",
       "21  2014  52321\n",
       "22  2015  53709\n",
       "23  2016  54420\n",
       "24  2017  53572\n",
       "25  2018  56932\n",
       "26  2019  56608\n",
       "27  2020  55949\n",
       "28  2021  54684"
      ]
     },
     "metadata": {},
     "output_type": "display_data"
    }
   ],
   "source": [
    "display(dfPoul)"
   ]
  },
  {
   "cell_type": "markdown",
   "id": "8083a06b",
   "metadata": {},
   "source": [
    "<p>The column heading \"key\" in the dataframe shown above refers to the year which the data is gathered. While the column heading \"value\" refers to the number of this particular livestock slaughtered. The current headings are identical for all other dataframes</p>"
   ]
  },
  {
   "cell_type": "markdown",
   "id": "7b30ecea",
   "metadata": {},
   "source": [
    "</br>"
   ]
  },
  {
   "cell_type": "markdown",
   "id": "a4bc5ff7",
   "metadata": {},
   "source": [
    "<h3>2.4 Formating the data </h3>"
   ]
  },
  {
   "cell_type": "markdown",
   "id": "cbf4a60b",
   "metadata": {},
   "source": [
    "<p> The current five dataframes (dfPoul, dfChick, dfDuck, dfQuail, dfPig) will be combined into one dataframe for the easy of analysis. The dataframe dfPoul will be discarted as it is not a representative of a particular livestock.<p>"
   ]
  },
  {
   "cell_type": "markdown",
   "id": "9e8d2ef3",
   "metadata": {},
   "source": [
    "<p> I will rename the column of each dataframe to a unique name and then combine them into one dataframe. </p>"
   ]
  },
  {
   "cell_type": "code",
   "execution_count": 15,
   "id": "60fc2f1d",
   "metadata": {},
   "outputs": [],
   "source": [
    "#dataframe changed and reindexed to regroup \n",
    "#renaming df for chicken\n",
    "dfChick. rename(columns = {'key':'year', 'value':'chi_num'}, inplace = True)\n",
    "dfChick=dfChick.set_index('year')\n",
    "\n",
    "#renaming df for duck\n",
    "dfDuck. rename(columns = {'key':'year', 'value':'duck_num'}, inplace = True)\n",
    "dfDuck=dfDuck.set_index('year')\n",
    "\n",
    "#renaming df for quail\n",
    "dfQuail. rename(columns = {'key':'year', 'value':'qui_num'}, inplace = True)\n",
    "dfQuail=dfQuail.set_index('year')\n",
    "\n",
    "#renaming df for pig\n",
    "dfPig. rename(columns = {'key':'year', 'value':'pig_num'}, inplace = True)\n",
    "dfPig=dfPig.set_index('year')"
   ]
  },
  {
   "cell_type": "code",
   "execution_count": 16,
   "id": "4d487e66",
   "metadata": {},
   "outputs": [
    {
     "data": {
      "text/html": [
       "<div>\n",
       "<style scoped>\n",
       "    .dataframe tbody tr th:only-of-type {\n",
       "        vertical-align: middle;\n",
       "    }\n",
       "\n",
       "    .dataframe tbody tr th {\n",
       "        vertical-align: top;\n",
       "    }\n",
       "\n",
       "    .dataframe thead th {\n",
       "        text-align: right;\n",
       "    }\n",
       "</style>\n",
       "<table border=\"1\" class=\"dataframe\">\n",
       "  <thead>\n",
       "    <tr style=\"text-align: right;\">\n",
       "      <th></th>\n",
       "      <th>chi_num</th>\n",
       "      <th>duck_num</th>\n",
       "      <th>qui_num</th>\n",
       "      <th>pig_num</th>\n",
       "    </tr>\n",
       "    <tr>\n",
       "      <th>year</th>\n",
       "      <th></th>\n",
       "      <th></th>\n",
       "      <th></th>\n",
       "      <th></th>\n",
       "    </tr>\n",
       "  </thead>\n",
       "  <tbody>\n",
       "    <tr>\n",
       "      <th>1993</th>\n",
       "      <td>35506</td>\n",
       "      <td>6318</td>\n",
       "      <td>NaN</td>\n",
       "      <td>NaN</td>\n",
       "    </tr>\n",
       "    <tr>\n",
       "      <th>1994</th>\n",
       "      <td>35956</td>\n",
       "      <td>7056</td>\n",
       "      <td>NaN</td>\n",
       "      <td>NaN</td>\n",
       "    </tr>\n",
       "    <tr>\n",
       "      <th>1995</th>\n",
       "      <td>31264</td>\n",
       "      <td>6166</td>\n",
       "      <td>NaN</td>\n",
       "      <td>NaN</td>\n",
       "    </tr>\n",
       "    <tr>\n",
       "      <th>1996</th>\n",
       "      <td>36312</td>\n",
       "      <td>6193</td>\n",
       "      <td>NaN</td>\n",
       "      <td>NaN</td>\n",
       "    </tr>\n",
       "    <tr>\n",
       "      <th>1997</th>\n",
       "      <td>38631</td>\n",
       "      <td>6884</td>\n",
       "      <td>NaN</td>\n",
       "      <td>NaN</td>\n",
       "    </tr>\n",
       "    <tr>\n",
       "      <th>1998</th>\n",
       "      <td>41124</td>\n",
       "      <td>6268</td>\n",
       "      <td>NaN</td>\n",
       "      <td>NaN</td>\n",
       "    </tr>\n",
       "    <tr>\n",
       "      <th>1999</th>\n",
       "      <td>44858</td>\n",
       "      <td>7357</td>\n",
       "      <td>NaN</td>\n",
       "      <td>NaN</td>\n",
       "    </tr>\n",
       "    <tr>\n",
       "      <th>2000</th>\n",
       "      <td>42727</td>\n",
       "      <td>7428</td>\n",
       "      <td>NaN</td>\n",
       "      <td>NaN</td>\n",
       "    </tr>\n",
       "    <tr>\n",
       "      <th>2001</th>\n",
       "      <td>43484</td>\n",
       "      <td>6729</td>\n",
       "      <td>NaN</td>\n",
       "      <td>NaN</td>\n",
       "    </tr>\n",
       "    <tr>\n",
       "      <th>2002</th>\n",
       "      <td>44768</td>\n",
       "      <td>6953</td>\n",
       "      <td>NaN</td>\n",
       "      <td>NaN</td>\n",
       "    </tr>\n",
       "    <tr>\n",
       "      <th>2003</th>\n",
       "      <td>42838</td>\n",
       "      <td>6477</td>\n",
       "      <td>NaN</td>\n",
       "      <td>NaN</td>\n",
       "    </tr>\n",
       "    <tr>\n",
       "      <th>2004</th>\n",
       "      <td>34363</td>\n",
       "      <td>4290</td>\n",
       "      <td>NaN</td>\n",
       "      <td>NaN</td>\n",
       "    </tr>\n",
       "    <tr>\n",
       "      <th>2005</th>\n",
       "      <td>37845</td>\n",
       "      <td>6491</td>\n",
       "      <td>NaN</td>\n",
       "      <td>NaN</td>\n",
       "    </tr>\n",
       "    <tr>\n",
       "      <th>2006</th>\n",
       "      <td>37996</td>\n",
       "      <td>5331</td>\n",
       "      <td>NaN</td>\n",
       "      <td>NaN</td>\n",
       "    </tr>\n",
       "    <tr>\n",
       "      <th>2007</th>\n",
       "      <td>41537</td>\n",
       "      <td>6375</td>\n",
       "      <td>NaN</td>\n",
       "      <td>NaN</td>\n",
       "    </tr>\n",
       "    <tr>\n",
       "      <th>2008</th>\n",
       "      <td>41312</td>\n",
       "      <td>6398</td>\n",
       "      <td>NaN</td>\n",
       "      <td>NaN</td>\n",
       "    </tr>\n",
       "    <tr>\n",
       "      <th>2009</th>\n",
       "      <td>43075</td>\n",
       "      <td>5847</td>\n",
       "      <td>NaN</td>\n",
       "      <td>NaN</td>\n",
       "    </tr>\n",
       "    <tr>\n",
       "      <th>2010</th>\n",
       "      <td>44659</td>\n",
       "      <td>6317</td>\n",
       "      <td>NaN</td>\n",
       "      <td>NaN</td>\n",
       "    </tr>\n",
       "    <tr>\n",
       "      <th>2011</th>\n",
       "      <td>46193</td>\n",
       "      <td>5947</td>\n",
       "      <td>NaN</td>\n",
       "      <td>NaN</td>\n",
       "    </tr>\n",
       "    <tr>\n",
       "      <th>2012</th>\n",
       "      <td>46099</td>\n",
       "      <td>5896</td>\n",
       "      <td>80</td>\n",
       "      <td>NaN</td>\n",
       "    </tr>\n",
       "    <tr>\n",
       "      <th>2013</th>\n",
       "      <td>47036</td>\n",
       "      <td>6012</td>\n",
       "      <td>62</td>\n",
       "      <td>NaN</td>\n",
       "    </tr>\n",
       "    <tr>\n",
       "      <th>2014</th>\n",
       "      <td>46154</td>\n",
       "      <td>6084</td>\n",
       "      <td>83</td>\n",
       "      <td>NaN</td>\n",
       "    </tr>\n",
       "    <tr>\n",
       "      <th>2015</th>\n",
       "      <td>48008</td>\n",
       "      <td>5601</td>\n",
       "      <td>100</td>\n",
       "      <td>334</td>\n",
       "    </tr>\n",
       "    <tr>\n",
       "      <th>2016</th>\n",
       "      <td>48820</td>\n",
       "      <td>5489</td>\n",
       "      <td>111</td>\n",
       "      <td>333</td>\n",
       "    </tr>\n",
       "    <tr>\n",
       "      <th>2017</th>\n",
       "      <td>48323</td>\n",
       "      <td>5177</td>\n",
       "      <td>72</td>\n",
       "      <td>323</td>\n",
       "    </tr>\n",
       "    <tr>\n",
       "      <th>2018</th>\n",
       "      <td>51400</td>\n",
       "      <td>5429</td>\n",
       "      <td>103</td>\n",
       "      <td>306</td>\n",
       "    </tr>\n",
       "    <tr>\n",
       "      <th>2019</th>\n",
       "      <td>51212</td>\n",
       "      <td>5312</td>\n",
       "      <td>85</td>\n",
       "      <td>355</td>\n",
       "    </tr>\n",
       "    <tr>\n",
       "      <th>2020</th>\n",
       "      <td>50997</td>\n",
       "      <td>4869</td>\n",
       "      <td>83</td>\n",
       "      <td>431</td>\n",
       "    </tr>\n",
       "    <tr>\n",
       "      <th>2021</th>\n",
       "      <td>49384</td>\n",
       "      <td>5225</td>\n",
       "      <td>75</td>\n",
       "      <td>408</td>\n",
       "    </tr>\n",
       "  </tbody>\n",
       "</table>\n",
       "</div>"
      ],
      "text/plain": [
       "     chi_num duck_num qui_num pig_num\n",
       "year                                 \n",
       "1993   35506     6318     NaN     NaN\n",
       "1994   35956     7056     NaN     NaN\n",
       "1995   31264     6166     NaN     NaN\n",
       "1996   36312     6193     NaN     NaN\n",
       "1997   38631     6884     NaN     NaN\n",
       "1998   41124     6268     NaN     NaN\n",
       "1999   44858     7357     NaN     NaN\n",
       "2000   42727     7428     NaN     NaN\n",
       "2001   43484     6729     NaN     NaN\n",
       "2002   44768     6953     NaN     NaN\n",
       "2003   42838     6477     NaN     NaN\n",
       "2004   34363     4290     NaN     NaN\n",
       "2005   37845     6491     NaN     NaN\n",
       "2006   37996     5331     NaN     NaN\n",
       "2007   41537     6375     NaN     NaN\n",
       "2008   41312     6398     NaN     NaN\n",
       "2009   43075     5847     NaN     NaN\n",
       "2010   44659     6317     NaN     NaN\n",
       "2011   46193     5947     NaN     NaN\n",
       "2012   46099     5896      80     NaN\n",
       "2013   47036     6012      62     NaN\n",
       "2014   46154     6084      83     NaN\n",
       "2015   48008     5601     100     334\n",
       "2016   48820     5489     111     333\n",
       "2017   48323     5177      72     323\n",
       "2018   51400     5429     103     306\n",
       "2019   51212     5312      85     355\n",
       "2020   50997     4869      83     431\n",
       "2021   49384     5225      75     408"
      ]
     },
     "metadata": {},
     "output_type": "display_data"
    }
   ],
   "source": [
    "#create new dataframe for everything\n",
    "frames = [dfChick, dfDuck, dfQuail, dfPig]\n",
    "df_livestock = pd.concat(frames,axis=1).reindex(dfChick.index)\n",
    "\n",
    "#store data as csv\n",
    "df_livestock.to_csv(\"livestock.csv\",index=False)\n",
    "display(df_livestock)"
   ]
  },
  {
   "cell_type": "markdown",
   "id": "682e9b39",
   "metadata": {},
   "source": [
    "<p>The data is now in one panda dataframe which is suitable for analysis</p>"
   ]
  },
  {
   "cell_type": "markdown",
   "id": "1d71cd94",
   "metadata": {},
   "source": [
    "<p>A CSV file from the website is also dowloaded to double check the accuracy of the data scapped"
   ]
  },
  {
   "cell_type": "code",
   "execution_count": 17,
   "id": "7cc0cf4f",
   "metadata": {},
   "outputs": [
    {
     "data": {
      "text/html": [
       "<div>\n",
       "<style scoped>\n",
       "    .dataframe tbody tr th:only-of-type {\n",
       "        vertical-align: middle;\n",
       "    }\n",
       "\n",
       "    .dataframe tbody tr th {\n",
       "        vertical-align: top;\n",
       "    }\n",
       "\n",
       "    .dataframe thead th {\n",
       "        text-align: right;\n",
       "    }\n",
       "</style>\n",
       "<table border=\"1\" class=\"dataframe\">\n",
       "  <thead>\n",
       "    <tr style=\"text-align: right;\">\n",
       "      <th></th>\n",
       "      <th>Unnamed: 0</th>\n",
       "      <th>Unnamed: 1</th>\n",
       "      <th>Unnamed: 2</th>\n",
       "      <th>Unnamed: 3</th>\n",
       "      <th>Unnamed: 4</th>\n",
       "      <th>Unnamed: 5</th>\n",
       "      <th>Unnamed: 6</th>\n",
       "      <th>Unnamed: 7</th>\n",
       "      <th>Unnamed: 8</th>\n",
       "      <th>Unnamed: 9</th>\n",
       "      <th>...</th>\n",
       "      <th>Unnamed: 20</th>\n",
       "      <th>Unnamed: 21</th>\n",
       "      <th>Unnamed: 22</th>\n",
       "      <th>Unnamed: 23</th>\n",
       "      <th>Unnamed: 24</th>\n",
       "      <th>Unnamed: 25</th>\n",
       "      <th>Unnamed: 26</th>\n",
       "      <th>Unnamed: 27</th>\n",
       "      <th>Unnamed: 28</th>\n",
       "      <th>Unnamed: 29</th>\n",
       "    </tr>\n",
       "  </thead>\n",
       "  <tbody>\n",
       "    <tr>\n",
       "      <th>0</th>\n",
       "      <td>Theme: Industry</td>\n",
       "      <td>NaN</td>\n",
       "      <td>NaN</td>\n",
       "      <td>NaN</td>\n",
       "      <td>NaN</td>\n",
       "      <td>NaN</td>\n",
       "      <td>NaN</td>\n",
       "      <td>NaN</td>\n",
       "      <td>NaN</td>\n",
       "      <td>NaN</td>\n",
       "      <td>...</td>\n",
       "      <td>NaN</td>\n",
       "      <td>NaN</td>\n",
       "      <td>NaN</td>\n",
       "      <td>NaN</td>\n",
       "      <td>NaN</td>\n",
       "      <td>NaN</td>\n",
       "      <td>NaN</td>\n",
       "      <td>NaN</td>\n",
       "      <td>NaN</td>\n",
       "      <td>NaN</td>\n",
       "    </tr>\n",
       "    <tr>\n",
       "      <th>1</th>\n",
       "      <td>Subject: Agriculture, Animal Production and Fi...</td>\n",
       "      <td>NaN</td>\n",
       "      <td>NaN</td>\n",
       "      <td>NaN</td>\n",
       "      <td>NaN</td>\n",
       "      <td>NaN</td>\n",
       "      <td>NaN</td>\n",
       "      <td>NaN</td>\n",
       "      <td>NaN</td>\n",
       "      <td>NaN</td>\n",
       "      <td>...</td>\n",
       "      <td>NaN</td>\n",
       "      <td>NaN</td>\n",
       "      <td>NaN</td>\n",
       "      <td>NaN</td>\n",
       "      <td>NaN</td>\n",
       "      <td>NaN</td>\n",
       "      <td>NaN</td>\n",
       "      <td>NaN</td>\n",
       "      <td>NaN</td>\n",
       "      <td>NaN</td>\n",
       "    </tr>\n",
       "    <tr>\n",
       "      <th>2</th>\n",
       "      <td>Topic: Food Supply</td>\n",
       "      <td>NaN</td>\n",
       "      <td>NaN</td>\n",
       "      <td>NaN</td>\n",
       "      <td>NaN</td>\n",
       "      <td>NaN</td>\n",
       "      <td>NaN</td>\n",
       "      <td>NaN</td>\n",
       "      <td>NaN</td>\n",
       "      <td>NaN</td>\n",
       "      <td>...</td>\n",
       "      <td>NaN</td>\n",
       "      <td>NaN</td>\n",
       "      <td>NaN</td>\n",
       "      <td>NaN</td>\n",
       "      <td>NaN</td>\n",
       "      <td>NaN</td>\n",
       "      <td>NaN</td>\n",
       "      <td>NaN</td>\n",
       "      <td>NaN</td>\n",
       "      <td>NaN</td>\n",
       "    </tr>\n",
       "    <tr>\n",
       "      <th>3</th>\n",
       "      <td>Table Title: Livestock Slaughtered, Annual</td>\n",
       "      <td>NaN</td>\n",
       "      <td>NaN</td>\n",
       "      <td>NaN</td>\n",
       "      <td>NaN</td>\n",
       "      <td>NaN</td>\n",
       "      <td>NaN</td>\n",
       "      <td>NaN</td>\n",
       "      <td>NaN</td>\n",
       "      <td>NaN</td>\n",
       "      <td>...</td>\n",
       "      <td>NaN</td>\n",
       "      <td>NaN</td>\n",
       "      <td>NaN</td>\n",
       "      <td>NaN</td>\n",
       "      <td>NaN</td>\n",
       "      <td>NaN</td>\n",
       "      <td>NaN</td>\n",
       "      <td>NaN</td>\n",
       "      <td>NaN</td>\n",
       "      <td>NaN</td>\n",
       "    </tr>\n",
       "    <tr>\n",
       "      <th>4</th>\n",
       "      <td>NaN</td>\n",
       "      <td>NaN</td>\n",
       "      <td>NaN</td>\n",
       "      <td>NaN</td>\n",
       "      <td>NaN</td>\n",
       "      <td>NaN</td>\n",
       "      <td>NaN</td>\n",
       "      <td>NaN</td>\n",
       "      <td>NaN</td>\n",
       "      <td>NaN</td>\n",
       "      <td>...</td>\n",
       "      <td>NaN</td>\n",
       "      <td>NaN</td>\n",
       "      <td>NaN</td>\n",
       "      <td>NaN</td>\n",
       "      <td>NaN</td>\n",
       "      <td>NaN</td>\n",
       "      <td>NaN</td>\n",
       "      <td>NaN</td>\n",
       "      <td>NaN</td>\n",
       "      <td>NaN</td>\n",
       "    </tr>\n",
       "    <tr>\n",
       "      <th>5</th>\n",
       "      <td>Data last updated: 20/06/2022</td>\n",
       "      <td>NaN</td>\n",
       "      <td>NaN</td>\n",
       "      <td>NaN</td>\n",
       "      <td>NaN</td>\n",
       "      <td>NaN</td>\n",
       "      <td>NaN</td>\n",
       "      <td>NaN</td>\n",
       "      <td>NaN</td>\n",
       "      <td>NaN</td>\n",
       "      <td>...</td>\n",
       "      <td>NaN</td>\n",
       "      <td>NaN</td>\n",
       "      <td>NaN</td>\n",
       "      <td>NaN</td>\n",
       "      <td>NaN</td>\n",
       "      <td>NaN</td>\n",
       "      <td>NaN</td>\n",
       "      <td>NaN</td>\n",
       "      <td>NaN</td>\n",
       "      <td>NaN</td>\n",
       "    </tr>\n",
       "    <tr>\n",
       "      <th>6</th>\n",
       "      <td>Source: AGRI-FOOD AND VETERINARY AUTHORITY, SI...</td>\n",
       "      <td>NaN</td>\n",
       "      <td>NaN</td>\n",
       "      <td>NaN</td>\n",
       "      <td>NaN</td>\n",
       "      <td>NaN</td>\n",
       "      <td>NaN</td>\n",
       "      <td>NaN</td>\n",
       "      <td>NaN</td>\n",
       "      <td>NaN</td>\n",
       "      <td>...</td>\n",
       "      <td>NaN</td>\n",
       "      <td>NaN</td>\n",
       "      <td>NaN</td>\n",
       "      <td>NaN</td>\n",
       "      <td>NaN</td>\n",
       "      <td>NaN</td>\n",
       "      <td>NaN</td>\n",
       "      <td>NaN</td>\n",
       "      <td>NaN</td>\n",
       "      <td>NaN</td>\n",
       "    </tr>\n",
       "    <tr>\n",
       "      <th>7</th>\n",
       "      <td>NaN</td>\n",
       "      <td>NaN</td>\n",
       "      <td>NaN</td>\n",
       "      <td>NaN</td>\n",
       "      <td>NaN</td>\n",
       "      <td>NaN</td>\n",
       "      <td>NaN</td>\n",
       "      <td>NaN</td>\n",
       "      <td>NaN</td>\n",
       "      <td>NaN</td>\n",
       "      <td>...</td>\n",
       "      <td>NaN</td>\n",
       "      <td>NaN</td>\n",
       "      <td>NaN</td>\n",
       "      <td>NaN</td>\n",
       "      <td>NaN</td>\n",
       "      <td>NaN</td>\n",
       "      <td>NaN</td>\n",
       "      <td>NaN</td>\n",
       "      <td>NaN</td>\n",
       "      <td>NaN</td>\n",
       "    </tr>\n",
       "    <tr>\n",
       "      <th>8</th>\n",
       "      <td>NaN</td>\n",
       "      <td>NaN</td>\n",
       "      <td>NaN</td>\n",
       "      <td>NaN</td>\n",
       "      <td>NaN</td>\n",
       "      <td>NaN</td>\n",
       "      <td>NaN</td>\n",
       "      <td>NaN</td>\n",
       "      <td>NaN</td>\n",
       "      <td>NaN</td>\n",
       "      <td>...</td>\n",
       "      <td>NaN</td>\n",
       "      <td>NaN</td>\n",
       "      <td>NaN</td>\n",
       "      <td>NaN</td>\n",
       "      <td>NaN</td>\n",
       "      <td>NaN</td>\n",
       "      <td>NaN</td>\n",
       "      <td>NaN</td>\n",
       "      <td>NaN</td>\n",
       "      <td>Thousand</td>\n",
       "    </tr>\n",
       "    <tr>\n",
       "      <th>9</th>\n",
       "      <td>Data Series</td>\n",
       "      <td>2021.0</td>\n",
       "      <td>2020.0</td>\n",
       "      <td>2019.0</td>\n",
       "      <td>2018.0</td>\n",
       "      <td>2017.0</td>\n",
       "      <td>2016.0</td>\n",
       "      <td>2015.0</td>\n",
       "      <td>2014</td>\n",
       "      <td>2013</td>\n",
       "      <td>...</td>\n",
       "      <td>2002</td>\n",
       "      <td>2001</td>\n",
       "      <td>2000</td>\n",
       "      <td>1999</td>\n",
       "      <td>1998</td>\n",
       "      <td>1997</td>\n",
       "      <td>1996</td>\n",
       "      <td>1995</td>\n",
       "      <td>1994</td>\n",
       "      <td>1993</td>\n",
       "    </tr>\n",
       "    <tr>\n",
       "      <th>10</th>\n",
       "      <td>Poultry</td>\n",
       "      <td>54684.0</td>\n",
       "      <td>55949.0</td>\n",
       "      <td>56608.0</td>\n",
       "      <td>56932.0</td>\n",
       "      <td>53572.0</td>\n",
       "      <td>54420.0</td>\n",
       "      <td>53709.0</td>\n",
       "      <td>52321</td>\n",
       "      <td>53110</td>\n",
       "      <td>...</td>\n",
       "      <td>51721</td>\n",
       "      <td>50213</td>\n",
       "      <td>50155</td>\n",
       "      <td>52215</td>\n",
       "      <td>47391</td>\n",
       "      <td>45514</td>\n",
       "      <td>42505</td>\n",
       "      <td>37429</td>\n",
       "      <td>43012</td>\n",
       "      <td>41824</td>\n",
       "    </tr>\n",
       "    <tr>\n",
       "      <th>11</th>\n",
       "      <td>Chickens</td>\n",
       "      <td>49384.0</td>\n",
       "      <td>50997.0</td>\n",
       "      <td>51212.0</td>\n",
       "      <td>51400.0</td>\n",
       "      <td>48323.0</td>\n",
       "      <td>48820.0</td>\n",
       "      <td>48008.0</td>\n",
       "      <td>46154</td>\n",
       "      <td>47036</td>\n",
       "      <td>...</td>\n",
       "      <td>44768</td>\n",
       "      <td>43484</td>\n",
       "      <td>42727</td>\n",
       "      <td>44858</td>\n",
       "      <td>41124</td>\n",
       "      <td>38631</td>\n",
       "      <td>36312</td>\n",
       "      <td>31264</td>\n",
       "      <td>35956</td>\n",
       "      <td>35506</td>\n",
       "    </tr>\n",
       "    <tr>\n",
       "      <th>12</th>\n",
       "      <td>Ducks</td>\n",
       "      <td>5225.0</td>\n",
       "      <td>4869.0</td>\n",
       "      <td>5312.0</td>\n",
       "      <td>5429.0</td>\n",
       "      <td>5177.0</td>\n",
       "      <td>5489.0</td>\n",
       "      <td>5601.0</td>\n",
       "      <td>6084</td>\n",
       "      <td>6012</td>\n",
       "      <td>...</td>\n",
       "      <td>6953</td>\n",
       "      <td>6729</td>\n",
       "      <td>7428</td>\n",
       "      <td>7357</td>\n",
       "      <td>6268</td>\n",
       "      <td>6884</td>\n",
       "      <td>6193</td>\n",
       "      <td>6166</td>\n",
       "      <td>7056</td>\n",
       "      <td>6318</td>\n",
       "    </tr>\n",
       "    <tr>\n",
       "      <th>13</th>\n",
       "      <td>Quails</td>\n",
       "      <td>75.0</td>\n",
       "      <td>83.0</td>\n",
       "      <td>85.0</td>\n",
       "      <td>103.0</td>\n",
       "      <td>72.0</td>\n",
       "      <td>111.0</td>\n",
       "      <td>100.0</td>\n",
       "      <td>83</td>\n",
       "      <td>62</td>\n",
       "      <td>...</td>\n",
       "      <td>na</td>\n",
       "      <td>na</td>\n",
       "      <td>na</td>\n",
       "      <td>na</td>\n",
       "      <td>na</td>\n",
       "      <td>na</td>\n",
       "      <td>na</td>\n",
       "      <td>na</td>\n",
       "      <td>na</td>\n",
       "      <td>na</td>\n",
       "    </tr>\n",
       "    <tr>\n",
       "      <th>14</th>\n",
       "      <td>Pigs</td>\n",
       "      <td>408.0</td>\n",
       "      <td>431.0</td>\n",
       "      <td>355.0</td>\n",
       "      <td>306.0</td>\n",
       "      <td>323.0</td>\n",
       "      <td>333.0</td>\n",
       "      <td>334.0</td>\n",
       "      <td>na</td>\n",
       "      <td>na</td>\n",
       "      <td>...</td>\n",
       "      <td>na</td>\n",
       "      <td>na</td>\n",
       "      <td>na</td>\n",
       "      <td>na</td>\n",
       "      <td>na</td>\n",
       "      <td>na</td>\n",
       "      <td>na</td>\n",
       "      <td>na</td>\n",
       "      <td>na</td>\n",
       "      <td>na</td>\n",
       "    </tr>\n",
       "    <tr>\n",
       "      <th>15</th>\n",
       "      <td>NaN</td>\n",
       "      <td>NaN</td>\n",
       "      <td>NaN</td>\n",
       "      <td>NaN</td>\n",
       "      <td>NaN</td>\n",
       "      <td>NaN</td>\n",
       "      <td>NaN</td>\n",
       "      <td>NaN</td>\n",
       "      <td>NaN</td>\n",
       "      <td>NaN</td>\n",
       "      <td>...</td>\n",
       "      <td>NaN</td>\n",
       "      <td>NaN</td>\n",
       "      <td>NaN</td>\n",
       "      <td>NaN</td>\n",
       "      <td>NaN</td>\n",
       "      <td>NaN</td>\n",
       "      <td>NaN</td>\n",
       "      <td>NaN</td>\n",
       "      <td>NaN</td>\n",
       "      <td>NaN</td>\n",
       "    </tr>\n",
       "    <tr>\n",
       "      <th>16</th>\n",
       "      <td>Footnotes:</td>\n",
       "      <td>NaN</td>\n",
       "      <td>NaN</td>\n",
       "      <td>NaN</td>\n",
       "      <td>NaN</td>\n",
       "      <td>NaN</td>\n",
       "      <td>NaN</td>\n",
       "      <td>NaN</td>\n",
       "      <td>NaN</td>\n",
       "      <td>NaN</td>\n",
       "      <td>...</td>\n",
       "      <td>NaN</td>\n",
       "      <td>NaN</td>\n",
       "      <td>NaN</td>\n",
       "      <td>NaN</td>\n",
       "      <td>NaN</td>\n",
       "      <td>NaN</td>\n",
       "      <td>NaN</td>\n",
       "      <td>NaN</td>\n",
       "      <td>NaN</td>\n",
       "      <td>NaN</td>\n",
       "    </tr>\n",
       "    <tr>\n",
       "      <th>17</th>\n",
       "      <td>Prior to April 2019, data were from Agri-Food ...</td>\n",
       "      <td>NaN</td>\n",
       "      <td>NaN</td>\n",
       "      <td>NaN</td>\n",
       "      <td>NaN</td>\n",
       "      <td>NaN</td>\n",
       "      <td>NaN</td>\n",
       "      <td>NaN</td>\n",
       "      <td>NaN</td>\n",
       "      <td>NaN</td>\n",
       "      <td>...</td>\n",
       "      <td>NaN</td>\n",
       "      <td>NaN</td>\n",
       "      <td>NaN</td>\n",
       "      <td>NaN</td>\n",
       "      <td>NaN</td>\n",
       "      <td>NaN</td>\n",
       "      <td>NaN</td>\n",
       "      <td>NaN</td>\n",
       "      <td>NaN</td>\n",
       "      <td>NaN</td>\n",
       "    </tr>\n",
       "    <tr>\n",
       "      <th>18</th>\n",
       "      <td>NaN</td>\n",
       "      <td>NaN</td>\n",
       "      <td>NaN</td>\n",
       "      <td>NaN</td>\n",
       "      <td>NaN</td>\n",
       "      <td>NaN</td>\n",
       "      <td>NaN</td>\n",
       "      <td>NaN</td>\n",
       "      <td>NaN</td>\n",
       "      <td>NaN</td>\n",
       "      <td>...</td>\n",
       "      <td>NaN</td>\n",
       "      <td>NaN</td>\n",
       "      <td>NaN</td>\n",
       "      <td>NaN</td>\n",
       "      <td>NaN</td>\n",
       "      <td>NaN</td>\n",
       "      <td>NaN</td>\n",
       "      <td>NaN</td>\n",
       "      <td>NaN</td>\n",
       "      <td>NaN</td>\n",
       "    </tr>\n",
       "    <tr>\n",
       "      <th>19</th>\n",
       "      <td>Notation:</td>\n",
       "      <td>NaN</td>\n",
       "      <td>NaN</td>\n",
       "      <td>NaN</td>\n",
       "      <td>NaN</td>\n",
       "      <td>NaN</td>\n",
       "      <td>NaN</td>\n",
       "      <td>NaN</td>\n",
       "      <td>NaN</td>\n",
       "      <td>NaN</td>\n",
       "      <td>...</td>\n",
       "      <td>NaN</td>\n",
       "      <td>NaN</td>\n",
       "      <td>NaN</td>\n",
       "      <td>NaN</td>\n",
       "      <td>NaN</td>\n",
       "      <td>NaN</td>\n",
       "      <td>NaN</td>\n",
       "      <td>NaN</td>\n",
       "      <td>NaN</td>\n",
       "      <td>NaN</td>\n",
       "    </tr>\n",
       "    <tr>\n",
       "      <th>20</th>\n",
       "      <td>na   not available or not applicable</td>\n",
       "      <td>NaN</td>\n",
       "      <td>NaN</td>\n",
       "      <td>NaN</td>\n",
       "      <td>NaN</td>\n",
       "      <td>NaN</td>\n",
       "      <td>NaN</td>\n",
       "      <td>NaN</td>\n",
       "      <td>NaN</td>\n",
       "      <td>NaN</td>\n",
       "      <td>...</td>\n",
       "      <td>NaN</td>\n",
       "      <td>NaN</td>\n",
       "      <td>NaN</td>\n",
       "      <td>NaN</td>\n",
       "      <td>NaN</td>\n",
       "      <td>NaN</td>\n",
       "      <td>NaN</td>\n",
       "      <td>NaN</td>\n",
       "      <td>NaN</td>\n",
       "      <td>NaN</td>\n",
       "    </tr>\n",
       "    <tr>\n",
       "      <th>21</th>\n",
       "      <td>nec  not elsewhere classified</td>\n",
       "      <td>NaN</td>\n",
       "      <td>NaN</td>\n",
       "      <td>NaN</td>\n",
       "      <td>NaN</td>\n",
       "      <td>NaN</td>\n",
       "      <td>NaN</td>\n",
       "      <td>NaN</td>\n",
       "      <td>NaN</td>\n",
       "      <td>NaN</td>\n",
       "      <td>...</td>\n",
       "      <td>NaN</td>\n",
       "      <td>NaN</td>\n",
       "      <td>NaN</td>\n",
       "      <td>NaN</td>\n",
       "      <td>NaN</td>\n",
       "      <td>NaN</td>\n",
       "      <td>NaN</td>\n",
       "      <td>NaN</td>\n",
       "      <td>NaN</td>\n",
       "      <td>NaN</td>\n",
       "    </tr>\n",
       "    <tr>\n",
       "      <th>22</th>\n",
       "      <td>nes  not elsewhere specified</td>\n",
       "      <td>NaN</td>\n",
       "      <td>NaN</td>\n",
       "      <td>NaN</td>\n",
       "      <td>NaN</td>\n",
       "      <td>NaN</td>\n",
       "      <td>NaN</td>\n",
       "      <td>NaN</td>\n",
       "      <td>NaN</td>\n",
       "      <td>NaN</td>\n",
       "      <td>...</td>\n",
       "      <td>NaN</td>\n",
       "      <td>NaN</td>\n",
       "      <td>NaN</td>\n",
       "      <td>NaN</td>\n",
       "      <td>NaN</td>\n",
       "      <td>NaN</td>\n",
       "      <td>NaN</td>\n",
       "      <td>NaN</td>\n",
       "      <td>NaN</td>\n",
       "      <td>NaN</td>\n",
       "    </tr>\n",
       "    <tr>\n",
       "      <th>23</th>\n",
       "      <td>-     nil or negligible or not significant</td>\n",
       "      <td>NaN</td>\n",
       "      <td>NaN</td>\n",
       "      <td>NaN</td>\n",
       "      <td>NaN</td>\n",
       "      <td>NaN</td>\n",
       "      <td>NaN</td>\n",
       "      <td>NaN</td>\n",
       "      <td>NaN</td>\n",
       "      <td>NaN</td>\n",
       "      <td>...</td>\n",
       "      <td>NaN</td>\n",
       "      <td>NaN</td>\n",
       "      <td>NaN</td>\n",
       "      <td>NaN</td>\n",
       "      <td>NaN</td>\n",
       "      <td>NaN</td>\n",
       "      <td>NaN</td>\n",
       "      <td>NaN</td>\n",
       "      <td>NaN</td>\n",
       "      <td>NaN</td>\n",
       "    </tr>\n",
       "    <tr>\n",
       "      <th>24</th>\n",
       "      <td>Notes</td>\n",
       "      <td>NaN</td>\n",
       "      <td>NaN</td>\n",
       "      <td>NaN</td>\n",
       "      <td>NaN</td>\n",
       "      <td>NaN</td>\n",
       "      <td>NaN</td>\n",
       "      <td>NaN</td>\n",
       "      <td>NaN</td>\n",
       "      <td>NaN</td>\n",
       "      <td>...</td>\n",
       "      <td>NaN</td>\n",
       "      <td>NaN</td>\n",
       "      <td>NaN</td>\n",
       "      <td>NaN</td>\n",
       "      <td>NaN</td>\n",
       "      <td>NaN</td>\n",
       "      <td>NaN</td>\n",
       "      <td>NaN</td>\n",
       "      <td>NaN</td>\n",
       "      <td>NaN</td>\n",
       "    </tr>\n",
       "    <tr>\n",
       "      <th>25</th>\n",
       "      <td>Numbers may not add up to the totals due to ro...</td>\n",
       "      <td>NaN</td>\n",
       "      <td>NaN</td>\n",
       "      <td>NaN</td>\n",
       "      <td>NaN</td>\n",
       "      <td>NaN</td>\n",
       "      <td>NaN</td>\n",
       "      <td>NaN</td>\n",
       "      <td>NaN</td>\n",
       "      <td>NaN</td>\n",
       "      <td>...</td>\n",
       "      <td>NaN</td>\n",
       "      <td>NaN</td>\n",
       "      <td>NaN</td>\n",
       "      <td>NaN</td>\n",
       "      <td>NaN</td>\n",
       "      <td>NaN</td>\n",
       "      <td>NaN</td>\n",
       "      <td>NaN</td>\n",
       "      <td>NaN</td>\n",
       "      <td>NaN</td>\n",
       "    </tr>\n",
       "    <tr>\n",
       "      <th>26</th>\n",
       "      <td>Data are the latest available at the time of a...</td>\n",
       "      <td>NaN</td>\n",
       "      <td>NaN</td>\n",
       "      <td>NaN</td>\n",
       "      <td>NaN</td>\n",
       "      <td>NaN</td>\n",
       "      <td>NaN</td>\n",
       "      <td>NaN</td>\n",
       "      <td>NaN</td>\n",
       "      <td>NaN</td>\n",
       "      <td>...</td>\n",
       "      <td>NaN</td>\n",
       "      <td>NaN</td>\n",
       "      <td>NaN</td>\n",
       "      <td>NaN</td>\n",
       "      <td>NaN</td>\n",
       "      <td>NaN</td>\n",
       "      <td>NaN</td>\n",
       "      <td>NaN</td>\n",
       "      <td>NaN</td>\n",
       "      <td>NaN</td>\n",
       "    </tr>\n",
       "    <tr>\n",
       "      <th>27</th>\n",
       "      <td>Values are shown in Singapore dollars (unless ...</td>\n",
       "      <td>NaN</td>\n",
       "      <td>NaN</td>\n",
       "      <td>NaN</td>\n",
       "      <td>NaN</td>\n",
       "      <td>NaN</td>\n",
       "      <td>NaN</td>\n",
       "      <td>NaN</td>\n",
       "      <td>NaN</td>\n",
       "      <td>NaN</td>\n",
       "      <td>...</td>\n",
       "      <td>NaN</td>\n",
       "      <td>NaN</td>\n",
       "      <td>NaN</td>\n",
       "      <td>NaN</td>\n",
       "      <td>NaN</td>\n",
       "      <td>NaN</td>\n",
       "      <td>NaN</td>\n",
       "      <td>NaN</td>\n",
       "      <td>NaN</td>\n",
       "      <td>NaN</td>\n",
       "    </tr>\n",
       "    <tr>\n",
       "      <th>28</th>\n",
       "      <td>NaN</td>\n",
       "      <td>NaN</td>\n",
       "      <td>NaN</td>\n",
       "      <td>NaN</td>\n",
       "      <td>NaN</td>\n",
       "      <td>NaN</td>\n",
       "      <td>NaN</td>\n",
       "      <td>NaN</td>\n",
       "      <td>NaN</td>\n",
       "      <td>NaN</td>\n",
       "      <td>...</td>\n",
       "      <td>NaN</td>\n",
       "      <td>NaN</td>\n",
       "      <td>NaN</td>\n",
       "      <td>NaN</td>\n",
       "      <td>NaN</td>\n",
       "      <td>NaN</td>\n",
       "      <td>NaN</td>\n",
       "      <td>NaN</td>\n",
       "      <td>NaN</td>\n",
       "      <td>NaN</td>\n",
       "    </tr>\n",
       "    <tr>\n",
       "      <th>29</th>\n",
       "      <td>Generated by: SingStat Table Builder</td>\n",
       "      <td>NaN</td>\n",
       "      <td>NaN</td>\n",
       "      <td>NaN</td>\n",
       "      <td>NaN</td>\n",
       "      <td>NaN</td>\n",
       "      <td>NaN</td>\n",
       "      <td>NaN</td>\n",
       "      <td>NaN</td>\n",
       "      <td>NaN</td>\n",
       "      <td>...</td>\n",
       "      <td>NaN</td>\n",
       "      <td>NaN</td>\n",
       "      <td>NaN</td>\n",
       "      <td>NaN</td>\n",
       "      <td>NaN</td>\n",
       "      <td>NaN</td>\n",
       "      <td>NaN</td>\n",
       "      <td>NaN</td>\n",
       "      <td>NaN</td>\n",
       "      <td>NaN</td>\n",
       "    </tr>\n",
       "    <tr>\n",
       "      <th>30</th>\n",
       "      <td>Date generated: 27/06/2022</td>\n",
       "      <td>NaN</td>\n",
       "      <td>NaN</td>\n",
       "      <td>NaN</td>\n",
       "      <td>NaN</td>\n",
       "      <td>NaN</td>\n",
       "      <td>NaN</td>\n",
       "      <td>NaN</td>\n",
       "      <td>NaN</td>\n",
       "      <td>NaN</td>\n",
       "      <td>...</td>\n",
       "      <td>NaN</td>\n",
       "      <td>NaN</td>\n",
       "      <td>NaN</td>\n",
       "      <td>NaN</td>\n",
       "      <td>NaN</td>\n",
       "      <td>NaN</td>\n",
       "      <td>NaN</td>\n",
       "      <td>NaN</td>\n",
       "      <td>NaN</td>\n",
       "      <td>NaN</td>\n",
       "    </tr>\n",
       "    <tr>\n",
       "      <th>31</th>\n",
       "      <td>Contact: info@singstat.gov.sg</td>\n",
       "      <td>NaN</td>\n",
       "      <td>NaN</td>\n",
       "      <td>NaN</td>\n",
       "      <td>NaN</td>\n",
       "      <td>NaN</td>\n",
       "      <td>NaN</td>\n",
       "      <td>NaN</td>\n",
       "      <td>NaN</td>\n",
       "      <td>NaN</td>\n",
       "      <td>...</td>\n",
       "      <td>NaN</td>\n",
       "      <td>NaN</td>\n",
       "      <td>NaN</td>\n",
       "      <td>NaN</td>\n",
       "      <td>NaN</td>\n",
       "      <td>NaN</td>\n",
       "      <td>NaN</td>\n",
       "      <td>NaN</td>\n",
       "      <td>NaN</td>\n",
       "      <td>NaN</td>\n",
       "    </tr>\n",
       "  </tbody>\n",
       "</table>\n",
       "<p>32 rows × 30 columns</p>\n",
       "</div>"
      ],
      "text/plain": [
       "                                           Unnamed: 0  Unnamed: 1  Unnamed: 2  \\\n",
       "0                                     Theme: Industry         NaN         NaN   \n",
       "1   Subject: Agriculture, Animal Production and Fi...         NaN         NaN   \n",
       "2                                  Topic: Food Supply         NaN         NaN   \n",
       "3          Table Title: Livestock Slaughtered, Annual         NaN         NaN   \n",
       "4                                                 NaN         NaN         NaN   \n",
       "5                       Data last updated: 20/06/2022         NaN         NaN   \n",
       "6   Source: AGRI-FOOD AND VETERINARY AUTHORITY, SI...         NaN         NaN   \n",
       "7                                                 NaN         NaN         NaN   \n",
       "8                                                 NaN         NaN         NaN   \n",
       "9                                         Data Series      2021.0      2020.0   \n",
       "10                                            Poultry     54684.0     55949.0   \n",
       "11                                           Chickens     49384.0     50997.0   \n",
       "12                                              Ducks      5225.0      4869.0   \n",
       "13                                             Quails        75.0        83.0   \n",
       "14                                               Pigs       408.0       431.0   \n",
       "15                                                NaN         NaN         NaN   \n",
       "16                                         Footnotes:         NaN         NaN   \n",
       "17  Prior to April 2019, data were from Agri-Food ...         NaN         NaN   \n",
       "18                                                NaN         NaN         NaN   \n",
       "19                                          Notation:         NaN         NaN   \n",
       "20               na   not available or not applicable         NaN         NaN   \n",
       "21                      nec  not elsewhere classified         NaN         NaN   \n",
       "22                       nes  not elsewhere specified         NaN         NaN   \n",
       "23         -     nil or negligible or not significant         NaN         NaN   \n",
       "24                                              Notes         NaN         NaN   \n",
       "25  Numbers may not add up to the totals due to ro...         NaN         NaN   \n",
       "26  Data are the latest available at the time of a...         NaN         NaN   \n",
       "27  Values are shown in Singapore dollars (unless ...         NaN         NaN   \n",
       "28                                                NaN         NaN         NaN   \n",
       "29               Generated by: SingStat Table Builder         NaN         NaN   \n",
       "30                         Date generated: 27/06/2022         NaN         NaN   \n",
       "31                      Contact: info@singstat.gov.sg         NaN         NaN   \n",
       "\n",
       "    Unnamed: 3  Unnamed: 4  Unnamed: 5  Unnamed: 6  Unnamed: 7 Unnamed: 8  \\\n",
       "0          NaN         NaN         NaN         NaN         NaN        NaN   \n",
       "1          NaN         NaN         NaN         NaN         NaN        NaN   \n",
       "2          NaN         NaN         NaN         NaN         NaN        NaN   \n",
       "3          NaN         NaN         NaN         NaN         NaN        NaN   \n",
       "4          NaN         NaN         NaN         NaN         NaN        NaN   \n",
       "5          NaN         NaN         NaN         NaN         NaN        NaN   \n",
       "6          NaN         NaN         NaN         NaN         NaN        NaN   \n",
       "7          NaN         NaN         NaN         NaN         NaN        NaN   \n",
       "8          NaN         NaN         NaN         NaN         NaN        NaN   \n",
       "9       2019.0      2018.0      2017.0      2016.0      2015.0      2014    \n",
       "10     56608.0     56932.0     53572.0     54420.0     53709.0      52321   \n",
       "11     51212.0     51400.0     48323.0     48820.0     48008.0      46154   \n",
       "12      5312.0      5429.0      5177.0      5489.0      5601.0       6084   \n",
       "13        85.0       103.0        72.0       111.0       100.0         83   \n",
       "14       355.0       306.0       323.0       333.0       334.0         na   \n",
       "15         NaN         NaN         NaN         NaN         NaN        NaN   \n",
       "16         NaN         NaN         NaN         NaN         NaN        NaN   \n",
       "17         NaN         NaN         NaN         NaN         NaN        NaN   \n",
       "18         NaN         NaN         NaN         NaN         NaN        NaN   \n",
       "19         NaN         NaN         NaN         NaN         NaN        NaN   \n",
       "20         NaN         NaN         NaN         NaN         NaN        NaN   \n",
       "21         NaN         NaN         NaN         NaN         NaN        NaN   \n",
       "22         NaN         NaN         NaN         NaN         NaN        NaN   \n",
       "23         NaN         NaN         NaN         NaN         NaN        NaN   \n",
       "24         NaN         NaN         NaN         NaN         NaN        NaN   \n",
       "25         NaN         NaN         NaN         NaN         NaN        NaN   \n",
       "26         NaN         NaN         NaN         NaN         NaN        NaN   \n",
       "27         NaN         NaN         NaN         NaN         NaN        NaN   \n",
       "28         NaN         NaN         NaN         NaN         NaN        NaN   \n",
       "29         NaN         NaN         NaN         NaN         NaN        NaN   \n",
       "30         NaN         NaN         NaN         NaN         NaN        NaN   \n",
       "31         NaN         NaN         NaN         NaN         NaN        NaN   \n",
       "\n",
       "   Unnamed: 9  ... Unnamed: 20 Unnamed: 21 Unnamed: 22 Unnamed: 23  \\\n",
       "0         NaN  ...         NaN         NaN         NaN         NaN   \n",
       "1         NaN  ...         NaN         NaN         NaN         NaN   \n",
       "2         NaN  ...         NaN         NaN         NaN         NaN   \n",
       "3         NaN  ...         NaN         NaN         NaN         NaN   \n",
       "4         NaN  ...         NaN         NaN         NaN         NaN   \n",
       "5         NaN  ...         NaN         NaN         NaN         NaN   \n",
       "6         NaN  ...         NaN         NaN         NaN         NaN   \n",
       "7         NaN  ...         NaN         NaN         NaN         NaN   \n",
       "8         NaN  ...         NaN         NaN         NaN         NaN   \n",
       "9       2013   ...       2002        2001        2000        1999    \n",
       "10      53110  ...       51721       50213       50155       52215   \n",
       "11      47036  ...       44768       43484       42727       44858   \n",
       "12       6012  ...        6953        6729        7428        7357   \n",
       "13         62  ...          na          na          na          na   \n",
       "14         na  ...          na          na          na          na   \n",
       "15        NaN  ...         NaN         NaN         NaN         NaN   \n",
       "16        NaN  ...         NaN         NaN         NaN         NaN   \n",
       "17        NaN  ...         NaN         NaN         NaN         NaN   \n",
       "18        NaN  ...         NaN         NaN         NaN         NaN   \n",
       "19        NaN  ...         NaN         NaN         NaN         NaN   \n",
       "20        NaN  ...         NaN         NaN         NaN         NaN   \n",
       "21        NaN  ...         NaN         NaN         NaN         NaN   \n",
       "22        NaN  ...         NaN         NaN         NaN         NaN   \n",
       "23        NaN  ...         NaN         NaN         NaN         NaN   \n",
       "24        NaN  ...         NaN         NaN         NaN         NaN   \n",
       "25        NaN  ...         NaN         NaN         NaN         NaN   \n",
       "26        NaN  ...         NaN         NaN         NaN         NaN   \n",
       "27        NaN  ...         NaN         NaN         NaN         NaN   \n",
       "28        NaN  ...         NaN         NaN         NaN         NaN   \n",
       "29        NaN  ...         NaN         NaN         NaN         NaN   \n",
       "30        NaN  ...         NaN         NaN         NaN         NaN   \n",
       "31        NaN  ...         NaN         NaN         NaN         NaN   \n",
       "\n",
       "   Unnamed: 24 Unnamed: 25 Unnamed: 26 Unnamed: 27 Unnamed: 28 Unnamed: 29  \n",
       "0          NaN         NaN         NaN         NaN         NaN         NaN  \n",
       "1          NaN         NaN         NaN         NaN         NaN         NaN  \n",
       "2          NaN         NaN         NaN         NaN         NaN         NaN  \n",
       "3          NaN         NaN         NaN         NaN         NaN         NaN  \n",
       "4          NaN         NaN         NaN         NaN         NaN         NaN  \n",
       "5          NaN         NaN         NaN         NaN         NaN         NaN  \n",
       "6          NaN         NaN         NaN         NaN         NaN         NaN  \n",
       "7          NaN         NaN         NaN         NaN         NaN         NaN  \n",
       "8          NaN         NaN         NaN         NaN         NaN    Thousand  \n",
       "9        1998        1997        1996        1995        1994        1993   \n",
       "10       47391       45514       42505       37429       43012       41824  \n",
       "11       41124       38631       36312       31264       35956       35506  \n",
       "12        6268        6884        6193        6166        7056        6318  \n",
       "13          na          na          na          na          na          na  \n",
       "14          na          na          na          na          na          na  \n",
       "15         NaN         NaN         NaN         NaN         NaN         NaN  \n",
       "16         NaN         NaN         NaN         NaN         NaN         NaN  \n",
       "17         NaN         NaN         NaN         NaN         NaN         NaN  \n",
       "18         NaN         NaN         NaN         NaN         NaN         NaN  \n",
       "19         NaN         NaN         NaN         NaN         NaN         NaN  \n",
       "20         NaN         NaN         NaN         NaN         NaN         NaN  \n",
       "21         NaN         NaN         NaN         NaN         NaN         NaN  \n",
       "22         NaN         NaN         NaN         NaN         NaN         NaN  \n",
       "23         NaN         NaN         NaN         NaN         NaN         NaN  \n",
       "24         NaN         NaN         NaN         NaN         NaN         NaN  \n",
       "25         NaN         NaN         NaN         NaN         NaN         NaN  \n",
       "26         NaN         NaN         NaN         NaN         NaN         NaN  \n",
       "27         NaN         NaN         NaN         NaN         NaN         NaN  \n",
       "28         NaN         NaN         NaN         NaN         NaN         NaN  \n",
       "29         NaN         NaN         NaN         NaN         NaN         NaN  \n",
       "30         NaN         NaN         NaN         NaN         NaN         NaN  \n",
       "31         NaN         NaN         NaN         NaN         NaN         NaN  \n",
       "\n",
       "[32 rows x 30 columns]"
      ]
     },
     "execution_count": 17,
     "metadata": {},
     "output_type": "execute_result"
    }
   ],
   "source": [
    "download=pd.read_csv(\"data/M890521-table.csv\")\n",
    "download"
   ]
  },
  {
   "cell_type": "markdown",
   "id": "1ed9c2d8",
   "metadata": {},
   "source": [
    "<h3> 2.5 Comparison of other data avaliable</h3>"
   ]
  },
  {
   "cell_type": "markdown",
   "id": "3df5345c",
   "metadata": {},
   "source": [
    "<p>During the ideation phase of this project, I have also considered a range of other data sets available. In particular, the Singapore Food Statistics from Singapore Food Agency (<a href=\"https://www.sfa.gov.sg/files/SingaporeFoodStatistics/SFA_SingaporeFoodStatistics1/mobile/index.html\">link to data</a>) and Local Production And Local Landings by the Department of Statistic Singapore(<a href=\"https://tablebuilder.singstat.gov.sg/table/TS/M890721)\">link to data</a>). </p>"
   ]
  },
  {
   "cell_type": "markdown",
   "id": "a5dc20c9",
   "metadata": {},
   "source": [
    "<p>The Singapore Food Statistics provides more in-depth analyzed data on food supply in Singapore. It contains more indicators to analyze and thus gives a bigger picture of the issue. However, it is a complete report on a yearly basis. It is difficult to get the data as the arrangement of the report differs year to year.</p>"
   ]
  },
  {
   "cell_type": "markdown",
   "id": "e198cf4f",
   "metadata": {},
   "source": [
    "<p>The Local Production And Local Landings are from the same authority in my analysis. It is equally detailed and credible. However, Singapore is a tiny city-state with little emphasis on local agriculture and farm production. The local production of food is insignificant compared to that of locally slaughtered livestock which is mostly imported.</p>"
   ]
  },
  {
   "cell_type": "markdown",
   "id": "d1b17d99",
   "metadata": {},
   "source": [
    "</br>"
   ]
  },
  {
   "cell_type": "markdown",
   "id": "497daabe",
   "metadata": {},
   "source": [
    "<h1>3. Background Analysis</h3>"
   ]
  },
  {
   "cell_type": "markdown",
   "id": "a1ff6aae",
   "metadata": {},
   "source": [
    "<h3>3.1 Reason for choosing the topic</h3>"
   ]
  },
  {
   "cell_type": "markdown",
   "id": "8a9365ab",
   "metadata": {},
   "source": [
    "<p>Singapore has always been a resource-poor country due to its limited size. She is heavily reliant on imports even daily necessities like food and water. The current supply chain disruption has worsened the matter as one of its main supplier of chicken, Malaysia, has decided to stop the export of the bird due to shortage in supply (source:<a href=\"https://apnews.com/article/russia-ukraine-politics-global-trade-malaysia-4188e124f886aeea8549f3bb363b3d3b\">AP NEWS, 2022</a>). Singapore has responded by importing chicken from other sources, however, the price of chicken and eggs still risen locally (source:<a href=\"https://www.channelnewsasia.com/singapore/week-malaysia-chicken-export-ban-stalls-close-solutions-2734541\">CNA, 2022</a>). Singapore imports morethan 90% of its food while trying to maintain food security for it's citizens. The gloabl supply chain disruption has made the matter worse (source:<a href=\"https://fortune.com/2021/05/29/singapore-fake-meat-plant-based-protein-cultured-meat-eat-just-food-security/\">WILLIS, 2022</a>)</p>\n",
    "</br>\n",
    "<p>Personally, I have felt the rise in food and beverages in eateries and school canteens. Thus I have decided to conduct a study on the supply of food in Singapore, in particular, the supply of meat.</p>"
   ]
  },
  {
   "cell_type": "markdown",
   "id": "059b6416",
   "metadata": {},
   "source": [
    "<h3> 3.2 Uniqness of topic</h3>"
   ]
  },
  {
   "cell_type": "markdown",
   "id": "f71aa9de",
   "metadata": {},
   "source": [
    "<p>There has being an established relationship between the livestock slaughted and the food security (source:<a href=\"https://www.researchgate.net/publication/276308353_Food_Security_The_Contribution_of_Livestock\">(Falvey, 2015)</a>). However, there has been little to no research in Singapore's context. Except for the <a href=\"https://www.sfa.gov.sg/files/SingaporeFoodStatistics/SFA_SingaporeFoodStatistics1/mobile/index.html\">Singapore Food Statistics</a>  discussed in section 2.5 which covers many indicators. Thus, this could be very novel research on drawing the link between food security and the livestock slaughtered.</p>"
   ]
  },
  {
   "cell_type": "markdown",
   "id": "04204a09",
   "metadata": {},
   "source": [
    "<h5>Reference</h5>"
   ]
  },
  {
   "cell_type": "markdown",
   "id": "e27a70c4",
   "metadata": {},
   "source": [
    "<p> Falvey, J., 2015. Food Security: The Contribution of Livestock. [online] ResearchGate. Available at: \n",
    "    https://www.researchgate.net/publication/276308353_Food_Security_The_Contribution_of_Livestock [Accessed 23 June 2022]. </p>\n",
    "<p>WILLIS, S., 2022. Can a country with no livestock become a meat producer? Singapore is going to try. [online] Fortune. Available at: https://fortune.com/2021/05/29/singapore-fake-meat-plant-based-protein-cultured-meat-eat-just-food-security/ [Accessed 22 June 2022].</p>\n",
    "\n",
    "<P>AP NEWS. 2022. Distress in Singapore as Malaysia bans chicken export. [online] Available at: https://apnews.com/article/russia-ukraine-politics-global-trade-malaysia-4188e124f886aeea8549f3bb363b3d3b [Accessed 23 June 2022].</P>\n",
    "\n",
    "<P>CNA. 2022. A week into Malaysia's chicken export ban: Some stalls in Singapore close while others find solutions. [online] Available at: https://www.channelnewsasia.com/singapore/week-malaysia-chicken-export-ban-stalls-close-solutions-2734541 [Accessed 25 June 2022].</P>"
   ]
  },
  {
   "cell_type": "markdown",
   "id": "4087705f",
   "metadata": {},
   "source": [
    "<h3>3.3 Scope of work</h3>"
   ]
  },
  {
   "cell_type": "markdown",
   "id": "a2964ed4",
   "metadata": {},
   "source": [
    "<p>This research will analyse how the livestock slaughtered in Singapore changes with respect to time. This research will not cover any prediction of future number of livestock slaughtered nor draw immediate conclusion to how the number of livestock slaughtered affects the cost of food. These two area could be explored in the future researches.</p>\n",
    "\n",
    "<p>This research will also only focus on the changes in livestock slaughtered from 2010 to 2021 and will disregard the rest of the data</p>"
   ]
  },
  {
   "cell_type": "markdown",
   "id": "3df4ea8b",
   "metadata": {},
   "source": [
    "<h3>3.4 Analytical pipeline</h3>"
   ]
  },
  {
   "cell_type": "markdown",
   "id": "453681c0",
   "metadata": {},
   "source": [
    "<p>This project first involves web scrapping data from the Singapore Department of Statistics. Then, I will do a short empirical analysis of the data to gain insight into its structure. Then I will proceed to clean the data to validate variables. Finally, I will drop graphical representations of the data to understand the trend and aid the policymakers in their decisions. </p>"
   ]
  },
  {
   "cell_type": "markdown",
   "id": "06a91e4b",
   "metadata": {},
   "source": [
    "<h3>3.5 Method of evaluation of success</h3>"
   ]
  },
  {
   "cell_type": "markdown",
   "id": "9b9934b4",
   "metadata": {},
   "source": [
    "<p>As this project aims to understand the general trend of the food security in Singapore by analyzing the supply of livestock, the final output will be deemed a success if it gives a clear and understandable graphical representation of the data collected.</p>"
   ]
  },
  {
   "cell_type": "markdown",
   "id": "62b8999d",
   "metadata": {},
   "source": [
    "<h1>4. Exploration of data</h1>"
   ]
  },
  {
   "cell_type": "markdown",
   "id": "0057483c",
   "metadata": {},
   "source": [
    "<h3>4.1 removing illegal values</h3>"
   ]
  },
  {
   "cell_type": "markdown",
   "id": "05ea1376",
   "metadata": {},
   "source": [
    "<p>Before conducting data analysis, the data gathered need to be cleaned first. The code below shows how the illegal values insdie the dataframe is remove and replaced. </p>"
   ]
  },
  {
   "cell_type": "code",
   "execution_count": 18,
   "id": "17c0c6e4",
   "metadata": {},
   "outputs": [
    {
     "data": {
      "text/html": [
       "<div>\n",
       "<style scoped>\n",
       "    .dataframe tbody tr th:only-of-type {\n",
       "        vertical-align: middle;\n",
       "    }\n",
       "\n",
       "    .dataframe tbody tr th {\n",
       "        vertical-align: top;\n",
       "    }\n",
       "\n",
       "    .dataframe thead th {\n",
       "        text-align: right;\n",
       "    }\n",
       "</style>\n",
       "<table border=\"1\" class=\"dataframe\">\n",
       "  <thead>\n",
       "    <tr style=\"text-align: right;\">\n",
       "      <th></th>\n",
       "      <th>chi_num</th>\n",
       "      <th>duck_num</th>\n",
       "      <th>qui_num</th>\n",
       "      <th>pig_num</th>\n",
       "    </tr>\n",
       "    <tr>\n",
       "      <th>year</th>\n",
       "      <th></th>\n",
       "      <th></th>\n",
       "      <th></th>\n",
       "      <th></th>\n",
       "    </tr>\n",
       "  </thead>\n",
       "  <tbody>\n",
       "    <tr>\n",
       "      <th>1993</th>\n",
       "      <td>35506</td>\n",
       "      <td>6318</td>\n",
       "      <td>0</td>\n",
       "      <td>0</td>\n",
       "    </tr>\n",
       "    <tr>\n",
       "      <th>1994</th>\n",
       "      <td>35956</td>\n",
       "      <td>7056</td>\n",
       "      <td>0</td>\n",
       "      <td>0</td>\n",
       "    </tr>\n",
       "    <tr>\n",
       "      <th>1995</th>\n",
       "      <td>31264</td>\n",
       "      <td>6166</td>\n",
       "      <td>0</td>\n",
       "      <td>0</td>\n",
       "    </tr>\n",
       "    <tr>\n",
       "      <th>1996</th>\n",
       "      <td>36312</td>\n",
       "      <td>6193</td>\n",
       "      <td>0</td>\n",
       "      <td>0</td>\n",
       "    </tr>\n",
       "    <tr>\n",
       "      <th>1997</th>\n",
       "      <td>38631</td>\n",
       "      <td>6884</td>\n",
       "      <td>0</td>\n",
       "      <td>0</td>\n",
       "    </tr>\n",
       "    <tr>\n",
       "      <th>1998</th>\n",
       "      <td>41124</td>\n",
       "      <td>6268</td>\n",
       "      <td>0</td>\n",
       "      <td>0</td>\n",
       "    </tr>\n",
       "    <tr>\n",
       "      <th>1999</th>\n",
       "      <td>44858</td>\n",
       "      <td>7357</td>\n",
       "      <td>0</td>\n",
       "      <td>0</td>\n",
       "    </tr>\n",
       "    <tr>\n",
       "      <th>2000</th>\n",
       "      <td>42727</td>\n",
       "      <td>7428</td>\n",
       "      <td>0</td>\n",
       "      <td>0</td>\n",
       "    </tr>\n",
       "    <tr>\n",
       "      <th>2001</th>\n",
       "      <td>43484</td>\n",
       "      <td>6729</td>\n",
       "      <td>0</td>\n",
       "      <td>0</td>\n",
       "    </tr>\n",
       "    <tr>\n",
       "      <th>2002</th>\n",
       "      <td>44768</td>\n",
       "      <td>6953</td>\n",
       "      <td>0</td>\n",
       "      <td>0</td>\n",
       "    </tr>\n",
       "    <tr>\n",
       "      <th>2003</th>\n",
       "      <td>42838</td>\n",
       "      <td>6477</td>\n",
       "      <td>0</td>\n",
       "      <td>0</td>\n",
       "    </tr>\n",
       "    <tr>\n",
       "      <th>2004</th>\n",
       "      <td>34363</td>\n",
       "      <td>4290</td>\n",
       "      <td>0</td>\n",
       "      <td>0</td>\n",
       "    </tr>\n",
       "    <tr>\n",
       "      <th>2005</th>\n",
       "      <td>37845</td>\n",
       "      <td>6491</td>\n",
       "      <td>0</td>\n",
       "      <td>0</td>\n",
       "    </tr>\n",
       "    <tr>\n",
       "      <th>2006</th>\n",
       "      <td>37996</td>\n",
       "      <td>5331</td>\n",
       "      <td>0</td>\n",
       "      <td>0</td>\n",
       "    </tr>\n",
       "    <tr>\n",
       "      <th>2007</th>\n",
       "      <td>41537</td>\n",
       "      <td>6375</td>\n",
       "      <td>0</td>\n",
       "      <td>0</td>\n",
       "    </tr>\n",
       "    <tr>\n",
       "      <th>2008</th>\n",
       "      <td>41312</td>\n",
       "      <td>6398</td>\n",
       "      <td>0</td>\n",
       "      <td>0</td>\n",
       "    </tr>\n",
       "    <tr>\n",
       "      <th>2009</th>\n",
       "      <td>43075</td>\n",
       "      <td>5847</td>\n",
       "      <td>0</td>\n",
       "      <td>0</td>\n",
       "    </tr>\n",
       "    <tr>\n",
       "      <th>2010</th>\n",
       "      <td>44659</td>\n",
       "      <td>6317</td>\n",
       "      <td>0</td>\n",
       "      <td>0</td>\n",
       "    </tr>\n",
       "    <tr>\n",
       "      <th>2011</th>\n",
       "      <td>46193</td>\n",
       "      <td>5947</td>\n",
       "      <td>0</td>\n",
       "      <td>0</td>\n",
       "    </tr>\n",
       "    <tr>\n",
       "      <th>2012</th>\n",
       "      <td>46099</td>\n",
       "      <td>5896</td>\n",
       "      <td>80</td>\n",
       "      <td>0</td>\n",
       "    </tr>\n",
       "    <tr>\n",
       "      <th>2013</th>\n",
       "      <td>47036</td>\n",
       "      <td>6012</td>\n",
       "      <td>62</td>\n",
       "      <td>0</td>\n",
       "    </tr>\n",
       "    <tr>\n",
       "      <th>2014</th>\n",
       "      <td>46154</td>\n",
       "      <td>6084</td>\n",
       "      <td>83</td>\n",
       "      <td>0</td>\n",
       "    </tr>\n",
       "    <tr>\n",
       "      <th>2015</th>\n",
       "      <td>48008</td>\n",
       "      <td>5601</td>\n",
       "      <td>100</td>\n",
       "      <td>334</td>\n",
       "    </tr>\n",
       "    <tr>\n",
       "      <th>2016</th>\n",
       "      <td>48820</td>\n",
       "      <td>5489</td>\n",
       "      <td>111</td>\n",
       "      <td>333</td>\n",
       "    </tr>\n",
       "    <tr>\n",
       "      <th>2017</th>\n",
       "      <td>48323</td>\n",
       "      <td>5177</td>\n",
       "      <td>72</td>\n",
       "      <td>323</td>\n",
       "    </tr>\n",
       "    <tr>\n",
       "      <th>2018</th>\n",
       "      <td>51400</td>\n",
       "      <td>5429</td>\n",
       "      <td>103</td>\n",
       "      <td>306</td>\n",
       "    </tr>\n",
       "    <tr>\n",
       "      <th>2019</th>\n",
       "      <td>51212</td>\n",
       "      <td>5312</td>\n",
       "      <td>85</td>\n",
       "      <td>355</td>\n",
       "    </tr>\n",
       "    <tr>\n",
       "      <th>2020</th>\n",
       "      <td>50997</td>\n",
       "      <td>4869</td>\n",
       "      <td>83</td>\n",
       "      <td>431</td>\n",
       "    </tr>\n",
       "    <tr>\n",
       "      <th>2021</th>\n",
       "      <td>49384</td>\n",
       "      <td>5225</td>\n",
       "      <td>75</td>\n",
       "      <td>408</td>\n",
       "    </tr>\n",
       "  </tbody>\n",
       "</table>\n",
       "</div>"
      ],
      "text/plain": [
       "     chi_num duck_num qui_num pig_num\n",
       "year                                 \n",
       "1993   35506     6318       0       0\n",
       "1994   35956     7056       0       0\n",
       "1995   31264     6166       0       0\n",
       "1996   36312     6193       0       0\n",
       "1997   38631     6884       0       0\n",
       "1998   41124     6268       0       0\n",
       "1999   44858     7357       0       0\n",
       "2000   42727     7428       0       0\n",
       "2001   43484     6729       0       0\n",
       "2002   44768     6953       0       0\n",
       "2003   42838     6477       0       0\n",
       "2004   34363     4290       0       0\n",
       "2005   37845     6491       0       0\n",
       "2006   37996     5331       0       0\n",
       "2007   41537     6375       0       0\n",
       "2008   41312     6398       0       0\n",
       "2009   43075     5847       0       0\n",
       "2010   44659     6317       0       0\n",
       "2011   46193     5947       0       0\n",
       "2012   46099     5896      80       0\n",
       "2013   47036     6012      62       0\n",
       "2014   46154     6084      83       0\n",
       "2015   48008     5601     100     334\n",
       "2016   48820     5489     111     333\n",
       "2017   48323     5177      72     323\n",
       "2018   51400     5429     103     306\n",
       "2019   51212     5312      85     355\n",
       "2020   50997     4869      83     431\n",
       "2021   49384     5225      75     408"
      ]
     },
     "metadata": {},
     "output_type": "display_data"
    }
   ],
   "source": [
    "#replace NaN value with 0\n",
    "df_livestock=df_livestock.fillna(0)\n",
    "\n",
    "display(df_livestock)"
   ]
  },
  {
   "cell_type": "markdown",
   "id": "5afc1a2e",
   "metadata": {},
   "source": [
    "<h3>4.2 Remove out of bound data</h3>"
   ]
  },
  {
   "cell_type": "markdown",
   "id": "63f86104",
   "metadata": {},
   "source": [
    "<p>As the research question and the aim only targets year 2010 to 2021, all other year's data will be removed</p>"
   ]
  },
  {
   "cell_type": "code",
   "execution_count": 19,
   "id": "a50f7059",
   "metadata": {},
   "outputs": [],
   "source": [
    "df_livestock.drop([\"1993\",\"1994\",\"1995\",\"1996\",\"1997\",\"1998\",\"1999\", \"2000\",\"2001\",\n",
    "                   \"2002\",\"2003\",\"2004\",\"2005\",\"2006\",\"2007\",\"2008\",\"2009\"], axis=0, inplace=True)"
   ]
  },
  {
   "cell_type": "code",
   "execution_count": 20,
   "id": "5e9f33f0",
   "metadata": {},
   "outputs": [
    {
     "data": {
      "text/html": [
       "<div>\n",
       "<style scoped>\n",
       "    .dataframe tbody tr th:only-of-type {\n",
       "        vertical-align: middle;\n",
       "    }\n",
       "\n",
       "    .dataframe tbody tr th {\n",
       "        vertical-align: top;\n",
       "    }\n",
       "\n",
       "    .dataframe thead th {\n",
       "        text-align: right;\n",
       "    }\n",
       "</style>\n",
       "<table border=\"1\" class=\"dataframe\">\n",
       "  <thead>\n",
       "    <tr style=\"text-align: right;\">\n",
       "      <th></th>\n",
       "      <th>chi_num</th>\n",
       "      <th>duck_num</th>\n",
       "      <th>qui_num</th>\n",
       "      <th>pig_num</th>\n",
       "    </tr>\n",
       "    <tr>\n",
       "      <th>year</th>\n",
       "      <th></th>\n",
       "      <th></th>\n",
       "      <th></th>\n",
       "      <th></th>\n",
       "    </tr>\n",
       "  </thead>\n",
       "  <tbody>\n",
       "    <tr>\n",
       "      <th>2010</th>\n",
       "      <td>44659</td>\n",
       "      <td>6317</td>\n",
       "      <td>0</td>\n",
       "      <td>0</td>\n",
       "    </tr>\n",
       "    <tr>\n",
       "      <th>2011</th>\n",
       "      <td>46193</td>\n",
       "      <td>5947</td>\n",
       "      <td>0</td>\n",
       "      <td>0</td>\n",
       "    </tr>\n",
       "    <tr>\n",
       "      <th>2012</th>\n",
       "      <td>46099</td>\n",
       "      <td>5896</td>\n",
       "      <td>80</td>\n",
       "      <td>0</td>\n",
       "    </tr>\n",
       "    <tr>\n",
       "      <th>2013</th>\n",
       "      <td>47036</td>\n",
       "      <td>6012</td>\n",
       "      <td>62</td>\n",
       "      <td>0</td>\n",
       "    </tr>\n",
       "    <tr>\n",
       "      <th>2014</th>\n",
       "      <td>46154</td>\n",
       "      <td>6084</td>\n",
       "      <td>83</td>\n",
       "      <td>0</td>\n",
       "    </tr>\n",
       "    <tr>\n",
       "      <th>2015</th>\n",
       "      <td>48008</td>\n",
       "      <td>5601</td>\n",
       "      <td>100</td>\n",
       "      <td>334</td>\n",
       "    </tr>\n",
       "    <tr>\n",
       "      <th>2016</th>\n",
       "      <td>48820</td>\n",
       "      <td>5489</td>\n",
       "      <td>111</td>\n",
       "      <td>333</td>\n",
       "    </tr>\n",
       "    <tr>\n",
       "      <th>2017</th>\n",
       "      <td>48323</td>\n",
       "      <td>5177</td>\n",
       "      <td>72</td>\n",
       "      <td>323</td>\n",
       "    </tr>\n",
       "    <tr>\n",
       "      <th>2018</th>\n",
       "      <td>51400</td>\n",
       "      <td>5429</td>\n",
       "      <td>103</td>\n",
       "      <td>306</td>\n",
       "    </tr>\n",
       "    <tr>\n",
       "      <th>2019</th>\n",
       "      <td>51212</td>\n",
       "      <td>5312</td>\n",
       "      <td>85</td>\n",
       "      <td>355</td>\n",
       "    </tr>\n",
       "    <tr>\n",
       "      <th>2020</th>\n",
       "      <td>50997</td>\n",
       "      <td>4869</td>\n",
       "      <td>83</td>\n",
       "      <td>431</td>\n",
       "    </tr>\n",
       "    <tr>\n",
       "      <th>2021</th>\n",
       "      <td>49384</td>\n",
       "      <td>5225</td>\n",
       "      <td>75</td>\n",
       "      <td>408</td>\n",
       "    </tr>\n",
       "  </tbody>\n",
       "</table>\n",
       "</div>"
      ],
      "text/plain": [
       "     chi_num duck_num qui_num pig_num\n",
       "year                                 \n",
       "2010   44659     6317       0       0\n",
       "2011   46193     5947       0       0\n",
       "2012   46099     5896      80       0\n",
       "2013   47036     6012      62       0\n",
       "2014   46154     6084      83       0\n",
       "2015   48008     5601     100     334\n",
       "2016   48820     5489     111     333\n",
       "2017   48323     5177      72     323\n",
       "2018   51400     5429     103     306\n",
       "2019   51212     5312      85     355\n",
       "2020   50997     4869      83     431\n",
       "2021   49384     5225      75     408"
      ]
     },
     "metadata": {},
     "output_type": "display_data"
    }
   ],
   "source": [
    "display(df_livestock)"
   ]
  },
  {
   "cell_type": "markdown",
   "id": "44222031",
   "metadata": {},
   "source": [
    "<h3>4.3 Formatting data</h3>"
   ]
  },
  {
   "cell_type": "markdown",
   "id": "3ca300db",
   "metadata": {},
   "source": [
    "<p> The data will be left in dataframe to allow ploting of graph later. The data will also be copied and coverted to numpy arrray for statistical calculation. The values within the numpy array is also changed to integer allow the calculation and comparison of nunbers.\n",
    "    \n",
    "The code is shown below:</p>"
   ]
  },
  {
   "cell_type": "code",
   "execution_count": 21,
   "id": "a2ed38d5",
   "metadata": {},
   "outputs": [
    {
     "data": {
      "text/plain": [
       "array([2010, 2011, 2012, 2013, 2014, 2015, 2016, 2017, 2018, 2019, 2020,\n",
       "       2021])"
      ]
     },
     "execution_count": 21,
     "metadata": {},
     "output_type": "execute_result"
    }
   ],
   "source": [
    "#changing to array\n",
    "ls_array=df_livestock.to_numpy()\n",
    "\n",
    "#array for chicken\n",
    "chicken=([])\n",
    "for i in range(0,len(ls_array)):\n",
    "    chicken=chicken+[int(ls_array[i][0])]\n",
    "\n",
    "#array for duck\n",
    "duck=([])\n",
    "for i in range(0,len(ls_array)):\n",
    "    duck=duck+[int(ls_array[i][1])]\n",
    "    \n",
    "#array for quail\n",
    "quail=([])\n",
    "for i in range(0,len(ls_array)):\n",
    "    quail=quail+[int(ls_array[i][2])]\n",
    "    \n",
    "#array for pig\n",
    "pig=([])\n",
    "for i in range(0,len(ls_array)):\n",
    "    pig=pig+[int(ls_array[i][3])]\n",
    "    \n",
    "#create new array for the years (old one used for index)\n",
    "year = np.array(list(range(2010, 2022)))\n",
    "year"
   ]
  },
  {
   "cell_type": "markdown",
   "id": "1f67249b",
   "metadata": {},
   "source": [
    "<h3> 4.4 Insights from data</h3>"
   ]
  },
  {
   "cell_type": "markdown",
   "id": "3a4bdd3d",
   "metadata": {},
   "source": [
    "<p>The code below shows the standard deviation over the years for each type of meat.</p>\n",
    "<p>The larger the value of standard deviation, the larger the spread of data</p>\n",
    "<p>This means that the spread of data is the largest for chicken. It could be a significant increase or decrease in number over the years.</p>\n",
    "<p>The smallest value is from quail, this means that it has the smallest spread of data. This could be due to the relatively small data size making it insignificant as compared to other types of meat. </p>"
   ]
  },
  {
   "cell_type": "code",
   "execution_count": 22,
   "id": "45b91011",
   "metadata": {},
   "outputs": [
    {
     "data": {
      "text/plain": [
       "2150.4736477627953"
      ]
     },
     "execution_count": 22,
     "metadata": {},
     "output_type": "execute_result"
    }
   ],
   "source": [
    "#standard deviation of number of chicken\n",
    "np.std(chicken)"
   ]
  },
  {
   "cell_type": "code",
   "execution_count": 23,
   "id": "707d1f0c",
   "metadata": {},
   "outputs": [
    {
     "data": {
      "text/plain": [
       "418.574532059571"
      ]
     },
     "execution_count": 23,
     "metadata": {},
     "output_type": "execute_result"
    }
   ],
   "source": [
    "#standard deviation of number of duck\n",
    "np.std(duck)"
   ]
  },
  {
   "cell_type": "code",
   "execution_count": 24,
   "id": "1711f133",
   "metadata": {},
   "outputs": [
    {
     "data": {
      "text/plain": [
       "34.41131919716082"
      ]
     },
     "execution_count": 24,
     "metadata": {},
     "output_type": "execute_result"
    }
   ],
   "source": [
    "#standard deviation of number of quail\n",
    "np.std(quail)"
   ]
  },
  {
   "cell_type": "code",
   "execution_count": 25,
   "id": "20595e74",
   "metadata": {},
   "outputs": [
    {
     "data": {
      "text/plain": [
       "178.4154795227514"
      ]
     },
     "execution_count": 25,
     "metadata": {},
     "output_type": "execute_result"
    }
   ],
   "source": [
    "#standard deviation of number of pig\n",
    "np.std(pig)"
   ]
  },
  {
   "cell_type": "markdown",
   "id": "40827420",
   "metadata": {},
   "source": [
    "<h1>5. Ethics of use of data</h1>"
   ]
  },
  {
   "cell_type": "markdown",
   "id": "1843e347",
   "metadata": {},
   "source": [
    "<h3>5.1 Origin of data</h3>"
   ]
  },
  {
   "cell_type": "markdown",
   "id": "e93d9727",
   "metadata": {},
   "source": [
    "<p>As stated above, the data is retrived from the Singapore Department of Statistics using a web API. The two images below show the terms and conditions of usage of API and the requirement for Intellectual property. I am using this data for a study purpose and using the web API for a non-commercial use. During the analysis, I did not inlcude any personal data through the API and the intellectual property has been refered to properly</p>"
   ]
  },
  {
   "cell_type": "markdown",
   "id": "9667e008",
   "metadata": {},
   "source": [
    "<p>Terms and condition: <img src=\"img/tnc.jpg\" alt=\"terms and condition\" width=\"500\" height=\"600\"> </p>"
   ]
  },
  {
   "cell_type": "markdown",
   "id": "bd92a486",
   "metadata": {},
   "source": [
    "<p>Intellectual property: <img src=\"img/ip.jpg\" alt=\"Intellectual property\" width=\"500\" height=\"600\"> </p>"
   ]
  },
  {
   "cell_type": "markdown",
   "id": "c942fecc",
   "metadata": {},
   "source": [
    "<p>The use of web scrapping is allowed in the website for Singstats as shown in the <a href=\"https://tablebuilder.singstat.gov.sg/robots.txt\">https://tablebuilder.singstat.gov.sg/robots.txt</a>, all User-agent are allowed to scrape data from this website.(The screenshot is attached below)"
   ]
  },
  {
   "cell_type": "markdown",
   "id": "ae3d3f9a",
   "metadata": {},
   "source": [
    "<p>robots.txt in the website showing allow for web scrapping: <img src=\"img/robots.jpg\" alt=\"Intellectual property\" width=\"500\" height=\"600\"> </p>"
   ]
  },
  {
   "cell_type": "markdown",
   "id": "4b9cef45",
   "metadata": {},
   "source": [
    "<h3>5.2 Usage and reusage of data</h3>"
   ]
  },
  {
   "cell_type": "markdown",
   "id": "2eca9a2d",
   "metadata": {},
   "source": [
    "<p>The data analysis has the potential to create new forms of intellectual property. The compiled and cleaned csv files could be used for machine learning and linear regression for future projects. </p>"
   ]
  },
  {
   "cell_type": "markdown",
   "id": "0eb6a556",
   "metadata": {},
   "source": [
    "<h3>5.3 Implication of utilising the data for purpose</h3>"
   ]
  },
  {
   "cell_type": "markdown",
   "id": "5016ca38",
   "metadata": {},
   "source": [
    "<p>This research assumes that the consumption of meat is a necessity for everyone. However, this could be uncomfortable for people whose religion requires them to be Vegetarian/Vegan. This research potentially discriminate against them and did not consider them as part of society. This could be a dangerouse assumption as Singapore is a multi-religion society, a discrimination agaist one group could spark disturbance to society. </p>"
   ]
  },
  {
   "cell_type": "markdown",
   "id": "f8a31965",
   "metadata": {},
   "source": [
    "<h3> 5.4 Security of data</h3>"
   ]
  },
  {
   "cell_type": "markdown",
   "id": "370e1214",
   "metadata": {},
   "source": [
    "<p>One negative side of this research is that the data is not encrypted nor secured during the data analysis. It is readily accessible in the Jupyter notebook. Anyone could access the data. This could lead to potential data leaks for this project.\n",
    "\n",
    "On the flip side, the data is anonymous as it does not involve nor contain information about any particular person or company.</p>"
   ]
  },
  {
   "cell_type": "markdown",
   "id": "6cddc328",
   "metadata": {},
   "source": [
    "<h3>5.5 Potential biases</h3>"
   ]
  },
  {
   "cell_type": "markdown",
   "id": "1e9b8af1",
   "metadata": {},
   "source": [
    "<p> As mentioned above, this data assumes that the consumption of meat is a necessity for people living in Singapore. However, only 42% of the population here are meat-eaters and 39% are flexitarian. There are also 7% of vegetarian/vegan (source:<a href=\"https://www.statista.com/statistics/1102014/singapore-dietary-preferences/\">statista</a>). This research did not consider their presence in society when using the number of livestock slaughtered to analyze the general food supply. Better research should consider a range of commonly eaten food/dishes.</p>"
   ]
  },
  {
   "cell_type": "markdown",
   "id": "4812d4fa",
   "metadata": {},
   "source": [
    "<h1>6. Data analysis</h1>"
   ]
  },
  {
   "cell_type": "markdown",
   "id": "b64f93f9",
   "metadata": {},
   "source": [
    "<h3> 6.1 plotting of graph </h3>"
   ]
  },
  {
   "cell_type": "markdown",
   "id": "6f2ef4f6",
   "metadata": {},
   "source": [
    "<p>To have a clearer view of the data, the following graphs are drawn"
   ]
  },
  {
   "cell_type": "markdown",
   "id": "59ec8ba8",
   "metadata": {},
   "source": [
    "<p>Plot for changes in chicken:</p>"
   ]
  },
  {
   "cell_type": "code",
   "execution_count": 26,
   "id": "e985e03d",
   "metadata": {},
   "outputs": [
    {
     "data": {
      "image/png": "[encoded data removed]",
      "text/plain": [
       "<Figure size 432x288 with 1 Axes>"
      ]
     },
     "metadata": {
      "needs_background": "light"
     },
     "output_type": "display_data"
    }
   ],
   "source": [
    "x = year\n",
    "y_c= chicken\n",
    "colors = year%255\n",
    "area = 60\n",
    "\n",
    "plt.scatter(x, y_c,s=area, c=colors, alpha=0.5)\n",
    "plt.plot(x,y_c)\n",
    "plt.show()"
   ]
  },
  {
   "cell_type": "markdown",
   "id": "4a85b1ca",
   "metadata": {},
   "source": [
    "<h4>Findings:</h4> <p> The number of chicken slaughtered has been steadily increasing with some fluctuation over the years. This could mean that their is an increase in supply of chicken in the market in Singapore. However, the number has being decreasing dramatically in 2021, this could be due to the stricter testing for import raw material during covid-19</p>"
   ]
  },
  {
   "cell_type": "markdown",
   "id": "4e11db86",
   "metadata": {},
   "source": [
    "<p>Plot for changes in duck:</p>"
   ]
  },
  {
   "cell_type": "code",
   "execution_count": 27,
   "id": "0a5ca0ba",
   "metadata": {},
   "outputs": [
    {
     "data": {
      "image/png": "[encoded data removed]",
      "text/plain": [
       "<Figure size 432x288 with 1 Axes>"
      ]
     },
     "metadata": {
      "needs_background": "light"
     },
     "output_type": "display_data"
    }
   ],
   "source": [
    "x = year\n",
    "y_d= duck\n",
    "colors = year%255\n",
    "area = 60\n",
    "\n",
    "plt.scatter(x, y_d,s=area, c=colors, alpha=0.5)\n",
    "plt.plot(x,y_d)\n",
    "plt.show()"
   ]
  },
  {
   "cell_type": "markdown",
   "id": "86257335",
   "metadata": {},
   "source": [
    "<h4>Findings:</h4> <p>The number of duck slaughtered has been decreasing with significatant fluctuation. It raised up to second highest in 2014 after decreasing for years. However, the general trend is still decreasing. </p>"
   ]
  },
  {
   "cell_type": "markdown",
   "id": "0c6c0506",
   "metadata": {},
   "source": [
    "<p>Plot for changes in quail:</p>"
   ]
  },
  {
   "cell_type": "code",
   "execution_count": 28,
   "id": "619da35e",
   "metadata": {},
   "outputs": [
    {
     "data": {
      "image/png": "[encoded data removed]",
      "text/plain": [
       "<Figure size 432x288 with 1 Axes>"
      ]
     },
     "metadata": {
      "needs_background": "light"
     },
     "output_type": "display_data"
    }
   ],
   "source": [
    "x = year\n",
    "y_q= quail\n",
    "colors = year%255\n",
    "area = 60\n",
    "\n",
    "plt.scatter(x, y_q,s=area, c=colors, alpha=0.5)\n",
    "plt.plot(x,y_q)\n",
    "plt.show()"
   ]
  },
  {
   "cell_type": "markdown",
   "id": "e445944a",
   "metadata": {},
   "source": [
    "<h4>Findings:</h4> <p>The number of quail slaughtered has not being changing rapidly over the years. The overall supply of quail is also insignificant. This could be due to that quail is not the main source of meat in Singapore</p>"
   ]
  },
  {
   "cell_type": "markdown",
   "id": "e1031ccc",
   "metadata": {},
   "source": [
    "<p>Plot for changes in pig:</p>"
   ]
  },
  {
   "cell_type": "code",
   "execution_count": 29,
   "id": "0f98b688",
   "metadata": {},
   "outputs": [
    {
     "data": {
      "image/png": "[encoded data removed]",
      "text/plain": [
       "<Figure size 432x288 with 1 Axes>"
      ]
     },
     "metadata": {
      "needs_background": "light"
     },
     "output_type": "display_data"
    }
   ],
   "source": [
    "x = year\n",
    "y_p= pig\n",
    "colors = year%255\n",
    "area = 60\n",
    "\n",
    "plt.scatter(x, y_p,s=area, c=colors, alpha=0.5)\n",
    "plt.plot(x,y_p)\n",
    "plt.show()"
   ]
  },
  {
   "cell_type": "markdown",
   "id": "ed0f43ab",
   "metadata": {},
   "source": [
    "<h4>Findings:</h4> <p>There wasnt any pig slaughtered in Singapore until 2014. It is generally stable with some fluctuations. It reaches its peak in 2020 during the pandanmic. This could be due to an increase in home cook food during lockdown</p>"
   ]
  },
  {
   "cell_type": "markdown",
   "id": "bfa13133",
   "metadata": {},
   "source": [
    "<p>Comparison plot for all livestocks togather(livestocks labelled in diffferent colours, refer to the comment for the colour)</p>"
   ]
  },
  {
   "cell_type": "code",
   "execution_count": 30,
   "id": "8a50343c",
   "metadata": {},
   "outputs": [
    {
     "data": {
      "image/png": "[encoded data removed]",
      "text/plain": [
       "<Figure size 432x288 with 1 Axes>"
      ]
     },
     "metadata": {
      "needs_background": "light"
     },
     "output_type": "display_data"
    }
   ],
   "source": [
    "plt.plot(x,y_p, color='#ff0000')#pig red\n",
    "plt.plot(x,y_q, color=\"#99ccff\")#quail blue\n",
    "plt.plot(x,y_d, color=\"#669900\") #duck green\n",
    "plt.plot(x,y_c, color=\"#ff00ff\") #chicken pink\n",
    "plt.show()"
   ]
  },
  {
   "cell_type": "markdown",
   "id": "0acaea6c",
   "metadata": {},
   "source": [
    "<h4>Findings:</h4> <p>The Number of chicken slaughtered is significantly higher than any other kind of meat. The number of pig slaughtered is much high than duck and quail but still significantly less than that of chicken</p>"
   ]
  },
  {
   "cell_type": "markdown",
   "id": "5e57b295",
   "metadata": {},
   "source": [
    "<h3>6.2 Problem with data</h3>"
   ]
  },
  {
   "cell_type": "markdown",
   "id": "c310803e",
   "metadata": {},
   "source": [
    "<p>The overall data is extremely imbalanced. The dataset for chicken is a few magnitude higher than the other kinds of meat. This makes the comparison difficult using simple graphs.</p>"
   ]
  },
  {
   "cell_type": "markdown",
   "id": "ac038c78",
   "metadata": {},
   "source": [
    "<h3>6.3 Insights, evaluation and conclusion</h3>"
   ]
  },
  {
   "cell_type": "markdown",
   "id": "9a8e0269",
   "metadata": {},
   "source": [
    "<p>This research found out that the main supply of meat in Singapore is very likely to be chicken as the number of chicken slaughtered is a few magnitude higher than other kinds of meat.</p>\n",
    "\n",
    "<p>Policy makers should consider diversify the source of fresh meat in Singapore, one way is to start producing/slaughtering other sources of meat such as beef and fish locally. Another way is to invest in meatless meat/impossible meat where planet based ingredients were made into meat-like food.</p>\n",
    "\n",
    "<p>The number of livestock slaughtered varys siginificantly over the years. However, They are generally in an increasing trend. This is a possitive news for the policy maker in Singapore as this ensure the food security locally to a large extent. Even there is limited food produced locally, increasing the mumber of livestocks slaughtered locally will enhance the position of Singapore in the supply chain of the food. Making the nation more durable at the time of crisis</p>"
   ]
  },
  {
   "cell_type": "markdown",
   "id": "08d876c8",
   "metadata": {},
   "source": [
    "<h3>6.4 Evaluation of flaws</h3>"
   ]
  },
  {
   "cell_type": "markdown",
   "id": "603380a7",
   "metadata": {},
   "source": [
    "<p>The ideation of this project has an inherent flaw as it only considers the consumption of locally slaughtered meat. This is an overly simplification of the issue of food security. Firstly, there are other sources of meat such as frozen meat slaughtered elsewhere as well as processed meat. These are all some examples of substitutes for locally slaughtered meat.  Moreover, as I mentioned before in this report, there are also other variances in food such as vegetables and rice. Only considering locally slaughtered meat will give an inaccurate representation of the overall food supply and security in Singapore. Policymakers should consider other factors and indicators as well during the decision-making process of things related to food to gain a better understanding.</p>"
   ]
  },
  {
   "cell_type": "code",
   "execution_count": null,
   "id": "1ac78c99",
   "metadata": {},
   "outputs": [],
   "source": []
  }
 ],
 "metadata": {
  "kernelspec": {
   "display_name": "Python 3 (ipykernel)",
   "language": "python",
   "name": "python3"
  },
  "language_info": {
   "codemirror_mode": {
    "name": "ipython",
    "version": 3
   },
   "file_extension": ".py",
   "mimetype": "text/x-python",
   "name": "python",
   "nbconvert_exporter": "python",
   "pygments_lexer": "ipython3",
   "version": "3.10.2"
  }
 },
 "nbformat": 4,
 "nbformat_minor": 5
}
