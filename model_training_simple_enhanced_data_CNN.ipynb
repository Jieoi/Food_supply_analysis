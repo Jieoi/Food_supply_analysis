{
  "nbformat": 4,
  "nbformat_minor": 0,
  "metadata": {
    "colab": {
      "provenance": [],
      "gpuType": "T4",
      "authorship_tag": "ABX9TyNxJDujUp4WZXq7drc/Z4Qn",
      "include_colab_link": true
    },
    "kernelspec": {
      "name": "python3",
      "display_name": "Python 3"
    },
    "language_info": {
      "name": "python"
    },
    "accelerator": "GPU"
  },
  "cells": [
    {
      "cell_type": "markdown",
      "metadata": {
        "id": "view-in-github",
        "colab_type": "text"
      },
      "source": [
        "<a href=\"https://colab.research.google.com/github/Jieoi/Food_supply_analysis/blob/master/model_training_simple_enhanced_data_CNN.ipynb\" target=\"_parent\"><img src=\"https://colab.research.google.com/assets/colab-badge.svg\" alt=\"Open In Colab\"/></a>"
      ]
    },
    {
      "cell_type": "markdown",
      "source": [
        "Note: This instance of Google Colab has been configured to use T4 GPU. It is possible to run all other sections at a slower rate on CPU."
      ],
      "metadata": {
        "id": "n4bbpXqXE-ys"
      }
    },
    {
      "cell_type": "markdown",
      "source": [
        "Note: The code below has been configured to run on Google colab with python scripts and data imported from google drive. Please download the scripts and data from [here](https://drive.google.com/drive/folders/1nViTcpc952b0ftRGqkDBFqbSEC01t0a8). Files required including all scripts and helper files under data_preparation folder and data_augmentation folder. Alternatively, vist my github repository to [download](https://github.com/Jieoi/traffic_sign_recognition/tree/main) the scripts and helper files."
      ],
      "metadata": {
        "id": "dGeJSyPpFI_t"
      }
    },
    {
      "cell_type": "markdown",
      "source": [
        "<h1> 2.1 Data Preparation for Machine Learning</h1>"
      ],
      "metadata": {
        "id": "cX68P2z6KqgN"
      }
    },
    {
      "cell_type": "markdown",
      "source": [
        "<h2>2.1.1 Preparing the notebook</h2>"
      ],
      "metadata": {
        "id": "M5uxRK7kKx_U"
      }
    },
    {
      "cell_type": "markdown",
      "source": [
        "The first step is to connect to Google Drive so that the data enhanced in the previouse notebook can be used.\n",
        "\n",
        "The exact files that the notebook needs to  access are <code>final_image.zip</code> and <code>image_data.csv</code>. It can be found in the link <a href=\"https://drive.google.com/drive/folders/1nViTcpc952b0ftRGqkDBFqbSEC01t0a8\">here</a>.\n",
        "\n",
        "Ideally, the notebook should be run in Google Colab with high RAM and GPU support. However, the code can be excuted on CPU only mode with a longer training time."
      ],
      "metadata": {
        "id": "COiJJylxK30z"
      }
    },
    {
      "cell_type": "code",
      "source": [
        "# Checking GPU availability\n",
        "!nvidia-smi"
      ],
      "metadata": {
        "colab": {
          "base_uri": "https://localhost:8080/"
        },
        "id": "NKBTqdfmQUr1",
        "outputId": "a57ef37d-e2f2-4b55-c133-f91d34f0a950"
      },
      "execution_count": null,
      "outputs": [
        {
          "output_type": "stream",
          "name": "stdout",
          "text": [
            "Tue Sep  5 05:52:50 2023       \n",
            "+-----------------------------------------------------------------------------+\n",
            "| NVIDIA-SMI 525.105.17   Driver Version: 525.105.17   CUDA Version: 12.0     |\n",
            "|-------------------------------+----------------------+----------------------+\n",
            "| GPU  Name        Persistence-M| Bus-Id        Disp.A | Volatile Uncorr. ECC |\n",
            "| Fan  Temp  Perf  Pwr:Usage/Cap|         Memory-Usage | GPU-Util  Compute M. |\n",
            "|                               |                      |               MIG M. |\n",
            "|===============================+======================+======================|\n",
            "|   0  Tesla T4            Off  | 00000000:00:04.0 Off |                    0 |\n",
            "| N/A   44C    P8     9W /  70W |      0MiB / 15360MiB |      0%      Default |\n",
            "|                               |                      |                  N/A |\n",
            "+-------------------------------+----------------------+----------------------+\n",
            "                                                                               \n",
            "+-----------------------------------------------------------------------------+\n",
            "| Processes:                                                                  |\n",
            "|  GPU   GI   CI        PID   Type   Process name                  GPU Memory |\n",
            "|        ID   ID                                                   Usage      |\n",
            "|=============================================================================|\n",
            "|  No running processes found                                                 |\n",
            "+-----------------------------------------------------------------------------+\n"
          ]
        }
      ]
    },
    {
      "cell_type": "code",
      "execution_count": null,
      "metadata": {
        "colab": {
          "base_uri": "https://localhost:8080/"
        },
        "id": "_hnGCcs_4sNy",
        "outputId": "04278f6d-7714-4cc8-df62-5ae30634d77d"
      },
      "outputs": [
        {
          "output_type": "stream",
          "name": "stdout",
          "text": [
            "Mounted at /content/drive\n"
          ]
        }
      ],
      "source": [
        "from google.colab import drive\n",
        "\n",
        "# Mount Google Drive\n",
        "drive.mount('/content/drive', force_remount=True)"
      ]
    },
    {
      "cell_type": "markdown",
      "source": [
        "The libraries used in this notebook are listed below."
      ],
      "metadata": {
        "id": "DYBNIWx1Km-Q"
      }
    },
    {
      "cell_type": "code",
      "source": [
        "# Zip file handling\n",
        "import zipfile\n",
        "import os\n",
        "\n",
        "# Data handling and visualization\n",
        "import os\n",
        "import cv2\n",
        "import numpy as np\n",
        "import pandas as pd\n",
        "import matplotlib.pyplot as plt\n",
        "\n",
        "# File handling and management for training and validation data\n",
        "from shutil import copyfile\n",
        "from sklearn.model_selection import train_test_split\n",
        "\n",
        "#\n",
        "import tensorflow as tf\n",
        "from tensorflow.keras.models import Sequential\n",
        "from tensorflow.keras.layers import Conv2D, MaxPooling2D, Flatten, Dense, Dropout, BatchNormalization\n",
        "from tensorflow.keras.preprocessing.image import ImageDataGenerator\n",
        "from tensorflow.keras.callbacks import EarlyStopping\n",
        "\n",
        "from tensorflow.keras import regularizers\n",
        "\n",
        "from tensorflow.keras.models import save_model\n",
        "\n",
        "from sklearn.metrics import classification_report\n",
        "\n",
        "from sklearn.metrics import precision_score"
      ],
      "metadata": {
        "id": "VEemnXizTEw4"
      },
      "execution_count": null,
      "outputs": []
    },
    {
      "cell_type": "markdown",
      "source": [
        "<h2>2.1.2 Data preparation for Machine Learning</h2>"
      ],
      "metadata": {
        "id": "d_ycXAdhSGV7"
      }
    },
    {
      "cell_type": "markdown",
      "source": [
        "Firstly, pre-porcessed training data is obtained and prepared for machine learning:\n"
      ],
      "metadata": {
        "id": "znQglMe3mU_p"
      }
    },
    {
      "cell_type": "markdown",
      "source": [
        "The labels for all the images is in the <code>image_data.csv</code> file. It is first extracted in the code below."
      ],
      "metadata": {
        "id": "_RWYzZpNM_LA"
      }
    },
    {
      "cell_type": "code",
      "source": [
        "csv_file = '/content/drive/MyDrive/final/train_data/image_data2.csv'\n",
        "\n",
        "# Read the CSV file into a pandas DataFrame\n",
        "df_classes = pd.read_csv(csv_file)\n",
        "df_classes.info"
      ],
      "metadata": {
        "colab": {
          "base_uri": "https://localhost:8080/"
        },
        "id": "i94oSVmWCYpC",
        "outputId": "1fbeaa4a-a8e4-43d7-8270-2732757e7145"
      },
      "execution_count": null,
      "outputs": [
        {
          "output_type": "execute_result",
          "data": {
            "text/plain": [
              "<bound method DataFrame.info of        class      filename\n",
              "0          0       0_0.png\n",
              "1          0       0_1.png\n",
              "2          0       0_2.png\n",
              "3          0       0_3.png\n",
              "4          0       0_4.png\n",
              "...      ...           ...\n",
              "26655     42  42_26655.png\n",
              "26656     42  42_26656.png\n",
              "26657     42  42_26657.png\n",
              "26658     42  42_26658.png\n",
              "26659     42  42_26659.png\n",
              "\n",
              "[26660 rows x 2 columns]>"
            ]
          },
          "metadata": {},
          "execution_count": 4
        }
      ]
    },
    {
      "cell_type": "markdown",
      "source": [
        "Then the images are extracted from the <code>final_image.zip</code> file."
      ],
      "metadata": {
        "id": "tKBDwP7kNu-L"
      }
    },
    {
      "cell_type": "code",
      "source": [
        "# Paths\n",
        "zip_file_path = '/content/drive/MyDrive/final/train_data/final_image.zip'\n",
        "extracted_dir = '/content/extracted_images'\n",
        "\n",
        "# Create the directory for extracted images if it doesn't exist\n",
        "os.makedirs(extracted_dir, exist_ok=True)\n",
        "\n",
        "\n",
        "# Open the ZIP file and extract its contents\n",
        "with zipfile.ZipFile(zip_file_path, 'r') as zip_ref:\n",
        "    zip_ref.extractall(extracted_dir)\n",
        "\n",
        "# Check the length of the extracted images\n",
        "num_extracted_images = len(os.listdir(extracted_dir))\n",
        "print(f\"Number of extracted images: {num_extracted_images}\")\n",
        "print(\"Extraction completed.\")"
      ],
      "metadata": {
        "colab": {
          "base_uri": "https://localhost:8080/"
        },
        "id": "aegfPAhacJRR",
        "outputId": "1cfc9872-44cd-41b2-864f-cea5cfa50618"
      },
      "execution_count": null,
      "outputs": [
        {
          "output_type": "stream",
          "name": "stdout",
          "text": [
            "Number of extracted images: 26660\n",
            "Extraction completed.\n"
          ]
        }
      ]
    },
    {
      "cell_type": "markdown",
      "source": [
        "Both images and there labels extracted contains the same number of entries."
      ],
      "metadata": {
        "id": "UgAfoUUON3vh"
      }
    },
    {
      "cell_type": "markdown",
      "source": [
        "The distribution of the final classes is shown below."
      ],
      "metadata": {
        "id": "ZrskEW6ON0Zc"
      }
    },
    {
      "cell_type": "code",
      "source": [
        "# Count the occurrences of each class in the DataFrame\n",
        "class_counts = df_classes['class'].value_counts()\n",
        "\n",
        "# Sort the unique class IDs\n",
        "unique_classes = np.sort(df_classes['class'].unique())\n",
        "\n",
        "# Create a bar chart\n",
        "plt.figure(figsize=(10, 6))\n",
        "plt.bar(unique_classes, class_counts[unique_classes])\n",
        "plt.xlabel('Class')\n",
        "plt.ylabel('Count')\n",
        "plt.title('Class Distribution')\n",
        "plt.xticks(unique_classes)\n",
        "plt.show()"
      ],
      "metadata": {
        "colab": {
          "base_uri": "https://localhost:8080/",
          "height": 564
        },
        "id": "s28B6914YyMd",
        "outputId": "127b8ebe-0bc8-431d-bef0-6613eea0292d"
      },
      "execution_count": null,
      "outputs": [
        {
          "output_type": "display_data",
          "data": {
            "text/plain": [
              "<Figure size 1000x600 with 1 Axes>"
            ],
            "image/png": "[encoded data removed]"
          },
          "metadata": {}
        }
      ]
    },
    {
      "cell_type": "markdown",
      "source": [
        "Both images are first split into training and validation sets. They are grouped by their classes and stored in individual directories for every classes."
      ],
      "metadata": {
        "id": "obTCtr8vORqc"
      }
    },
    {
      "cell_type": "code",
      "source": [
        "train_dir = '/content/train_images'\n",
        "valid_dir = '/content/valid_images'\n",
        "\n",
        "# Create directories for training and validation images\n",
        "os.makedirs(train_dir, exist_ok=True)\n",
        "os.makedirs(valid_dir, exist_ok=True)\n",
        "\n",
        "# Split the data into training and validation sets\n",
        "train_df, valid_df = train_test_split(df_classes, test_size=0.2, random_state=42, stratify=df_classes['class'])\n",
        "\n",
        "# Copy images to directories based on classes for training set\n",
        "for index, row in train_df.iterrows():\n",
        "    src_path = os.path.join(extracted_dir, row['filename'])\n",
        "    dst_path = os.path.join(train_dir, str(row['class']), row['filename'])\n",
        "    os.makedirs(os.path.dirname(dst_path), exist_ok=True)\n",
        "    copyfile(src_path, dst_path)\n",
        "\n",
        "# Copy images to directories based on classes for validation set\n",
        "for index, row in valid_df.iterrows():\n",
        "    src_path = os.path.join(extracted_dir, row['filename'])\n",
        "    dst_path = os.path.join(valid_dir, str(row['class']), row['filename'])\n",
        "    os.makedirs(os.path.dirname(dst_path), exist_ok=True)\n",
        "    copyfile(src_path, dst_path)\n",
        "\n",
        "print(\"Data preparation for ML completed.\")"
      ],
      "metadata": {
        "colab": {
          "base_uri": "https://localhost:8080/"
        },
        "id": "husZ2lw6dYyC",
        "outputId": "39c8aaac-787f-4ac3-f520-db9b21cc1dc8"
      },
      "execution_count": null,
      "outputs": [
        {
          "output_type": "stream",
          "name": "stdout",
          "text": [
            "Data preparation for ML completed.\n"
          ]
        }
      ]
    },
    {
      "cell_type": "markdown",
      "source": [
        "<h1> 2.2 Machine Learning</h1>"
      ],
      "metadata": {
        "id": "-F61JPGGOoN2"
      }
    },
    {
      "cell_type": "markdown",
      "source": [
        "<h2>2.2.1 Data pipeline</h2>"
      ],
      "metadata": {
        "id": "kumuDOWeSTrX"
      }
    },
    {
      "cell_type": "markdown",
      "source": [
        "<code>flow_from_directory()</code> from Keras ImageDataGenerator is used to load the images with rescaling to 1/255. batch size and image size are pre-set to 32 and (128, 128), respectively."
      ],
      "metadata": {
        "id": "XEkNgAgcRWjj"
      }
    },
    {
      "cell_type": "code",
      "source": [
        "# Define paths\n",
        "train_dir = '/content/train_images'\n",
        "valid_dir = '/content/valid_images'\n",
        "\n",
        "# Define image dimensions and batch size\n",
        "image_size = (30,30)\n",
        "batch_size = 32\n",
        "\n",
        "# Create data generators and rescale image for ML on training and validation\n",
        "train_datagen = ImageDataGenerator(rescale=1.0/255)\n",
        "valid_datagen = ImageDataGenerator(rescale=1.0/255)\n",
        "\n",
        "train_generator = train_datagen.flow_from_directory(\n",
        "    train_dir,\n",
        "    target_size=image_size,\n",
        "    batch_size=batch_size,\n",
        "    class_mode='categorical',\n",
        "    shuffle=True  # Set shuffle to True for training data\n",
        ")\n",
        "\n",
        "valid_generator = valid_datagen.flow_from_directory(\n",
        "    valid_dir,\n",
        "    target_size=image_size,\n",
        "    batch_size=batch_size,\n",
        "    class_mode='categorical',\n",
        "    shuffle=False  # Set shuffle to False for validation data\n",
        ")\n",
        "\n",
        "# Get the number of classes from the training generator\n",
        "num_classes = len(train_generator.class_indices)"
      ],
      "metadata": {
        "colab": {
          "base_uri": "https://localhost:8080/"
        },
        "id": "ICEfnqPEeJBl",
        "outputId": "cd382415-9566-45ff-bbf6-9a3a061460b5"
      },
      "execution_count": null,
      "outputs": [
        {
          "output_type": "stream",
          "name": "stdout",
          "text": [
            "Found 21328 images belonging to 43 classes.\n",
            "Found 5332 images belonging to 43 classes.\n"
          ]
        }
      ]
    },
    {
      "cell_type": "markdown",
      "source": [
        "Next, the test data is also obtained and prepared for machine learning."
      ],
      "metadata": {
        "id": "AFiJylAImhVR"
      }
    },
    {
      "cell_type": "code",
      "source": [
        "# Define the paths\n",
        "test_zip_path = '/content/drive/MyDrive/final/test_data/test_image_simple.zip'\n",
        "test_extracted_dir = '/content/extracted_test_images'\n",
        "test_dir = '/content/test_images'\n",
        "\n",
        "# Create the directory for extracted test images if it doesn't exist\n",
        "os.makedirs(test_extracted_dir, exist_ok=True)\n",
        "\n",
        "# Open the ZIP file and extract its contents\n",
        "with zipfile.ZipFile(test_zip_path, 'r') as zip_ref:\n",
        "    zip_ref.extractall(test_extracted_dir)"
      ],
      "metadata": {
        "id": "wjQBx8gQmnaV"
      },
      "execution_count": null,
      "outputs": []
    },
    {
      "cell_type": "code",
      "source": [
        "# Move the test images to the test directory while renaming them with their true labels\n",
        "for filename in os.listdir(test_extracted_dir):\n",
        "    src_path = os.path.join(test_extracted_dir, filename)\n",
        "    # Extract the true label from the filename (before the underscore)\n",
        "    true_label = filename.split('_')[0]\n",
        "    dst_path = os.path.join(test_dir, true_label, filename)\n",
        "    os.makedirs(os.path.dirname(dst_path), exist_ok=True)\n",
        "    copyfile(src_path, dst_path)"
      ],
      "metadata": {
        "id": "V7txY676psmN"
      },
      "execution_count": null,
      "outputs": []
    },
    {
      "cell_type": "code",
      "source": [
        "# Create a data generator for the test data\n",
        "test_datagen = ImageDataGenerator(rescale=1.0/255)\n",
        "\n",
        "test_generator = test_datagen.flow_from_directory(\n",
        "    test_dir,\n",
        "    target_size=image_size,\n",
        "    batch_size=batch_size,\n",
        "    class_mode='categorical',\n",
        "    shuffle=False  # Set shuffle to False for testing data\n",
        ")"
      ],
      "metadata": {
        "colab": {
          "base_uri": "https://localhost:8080/"
        },
        "id": "oelcW3EtnlSz",
        "outputId": "01bdad69-f889-4fac-83e2-9d1070dc1b17"
      },
      "execution_count": null,
      "outputs": [
        {
          "output_type": "stream",
          "name": "stdout",
          "text": [
            "Found 12630 images belonging to 43 classes.\n"
          ]
        }
      ]
    },
    {
      "cell_type": "markdown",
      "source": [
        "<h2>2.2.2 Training the CNN model</h2>"
      ],
      "metadata": {
        "id": "EJUQK66CaB8W"
      }
    },
    {
      "cell_type": "markdown",
      "source": [
        "Double checking the GPU availability and set the GPU device if it is available"
      ],
      "metadata": {
        "id": "xsMRTT06SepR"
      }
    },
    {
      "cell_type": "code",
      "source": [
        "# Check GPU availability\n",
        "print(\"Num GPUs Available: \", len(tf.config.list_physical_devices('GPU')))\n",
        "\n",
        "# Specify GPU device\n",
        "physical_devices = tf.config.list_physical_devices('GPU')\n",
        "if len(physical_devices) > 0:\n",
        "    tf.config.experimental.set_memory_growth(physical_devices[0], True)"
      ],
      "metadata": {
        "colab": {
          "base_uri": "https://localhost:8080/"
        },
        "id": "42FI4zL2feiP",
        "outputId": "26284f24-b1b3-424a-b7bc-81e11cad1942"
      },
      "execution_count": null,
      "outputs": [
        {
          "output_type": "stream",
          "name": "stdout",
          "text": [
            "Num GPUs Available:  1\n"
          ]
        }
      ]
    },
    {
      "cell_type": "markdown",
      "source": [
        "A function is defined to plot the training history"
      ],
      "metadata": {
        "id": "VSCR24GDSyqc"
      }
    },
    {
      "cell_type": "code",
      "source": [
        "def calculate_accuracy_increase_rate(history):\n",
        "    train_accuracy = history.history['accuracy']\n",
        "    val_accuracy = history.history['val_accuracy']\n",
        "\n",
        "    train_rate = np.mean(np.diff(train_accuracy))\n",
        "    val_rate = np.mean(np.diff(val_accuracy))\n",
        "\n",
        "    return train_rate, val_rate"
      ],
      "metadata": {
        "id": "U_5cFB1DjMZ4"
      },
      "execution_count": null,
      "outputs": []
    },
    {
      "cell_type": "code",
      "source": [
        "def plot_training_history(history):\n",
        "    # Access the training history\n",
        "    training_loss = history.history['loss']\n",
        "    training_accuracy = history.history['accuracy']\n",
        "    validation_loss = history.history['val_loss']\n",
        "    validation_accuracy = history.history['val_accuracy']\n",
        "\n",
        "    # Create a figure with two subplots\n",
        "    fig, (ax1, ax2) = plt.subplots(1, 2, figsize=(12, 6))\n",
        "\n",
        "    # Plotting the training and validation accuracy\n",
        "    ax1.plot(training_accuracy)\n",
        "    ax1.plot(validation_accuracy)\n",
        "    ax1.set_title('Model Accuracy')\n",
        "    ax1.set_xlabel('Epoch')\n",
        "    ax1.set_ylabel('Accuracy')\n",
        "    ax1.legend(['Train', 'Validation'], loc='upper left')\n",
        "\n",
        "    # Plotting the training and validation loss\n",
        "    ax2.plot(training_loss)\n",
        "    ax2.plot(validation_loss)\n",
        "    ax2.set_title('Model Loss')\n",
        "    ax2.set_xlabel('Epoch')\n",
        "    ax2.set_ylabel('Loss')\n",
        "    ax2.legend(['Train', 'Validation'], loc='upper right')\n",
        "\n",
        "    # Adjust the spacing between subplots\n",
        "    plt.tight_layout()\n",
        "\n",
        "    # Show the figure\n",
        "    plt.show()"
      ],
      "metadata": {
        "id": "0ZcwYOoBef3J"
      },
      "execution_count": null,
      "outputs": []
    },
    {
      "cell_type": "markdown",
      "source": [
        "Training the CNN model to upto 30 epochs, early stopping is used to prevent overfitting. However, no regularization is applied."
      ],
      "metadata": {
        "id": "eXwyIjLpS3Em"
      }
    },
    {
      "cell_type": "code",
      "source": [
        "# Define the CNN model\n",
        "with tf.device('/device:GPU:0'):\n",
        "  model = Sequential([\n",
        "      Conv2D(32, (3, 3), activation='relu', input_shape=(30, 30, 3)),\n",
        "      MaxPooling2D(2, 2),\n",
        "\n",
        "      Conv2D(64, (3, 3), activation='relu'),\n",
        "      MaxPooling2D(2, 2),\n",
        "\n",
        "      Conv2D(128, (3, 3), activation='relu'),\n",
        "      MaxPooling2D(2, 2),\n",
        "\n",
        "      Flatten(),\n",
        "      Dense(512, activation='relu'),\n",
        "      Dropout(0.5),\n",
        "      Dense(num_classes, activation='softmax')\n",
        "  ])\n",
        "\n",
        "  # Compile the model\n",
        "  model.compile(optimizer='adam', loss='categorical_crossentropy', metrics=['accuracy'])\n",
        "\n",
        "  # Early stopping callback\n",
        "  early_stopping = EarlyStopping(monitor='val_loss', patience=5, restore_best_weights=True)\n",
        "\n",
        "  # Train the model\n",
        "  num_epochs = 30\n",
        "  history_simpleCNN=model.fit(train_generator, epochs=num_epochs, validation_data=valid_generator,callbacks=[early_stopping])\n",
        "\n",
        "print(\"Model training completed.\")"
      ],
      "metadata": {
        "colab": {
          "base_uri": "https://localhost:8080/"
        },
        "id": "JKsC0Lk4eYzV",
        "outputId": "15b49cc0-c1d1-4e50-e64c-dc7a7ff5c725"
      },
      "execution_count": null,
      "outputs": [
        {
          "output_type": "stream",
          "name": "stdout",
          "text": [
            "Epoch 1/30\n",
            "667/667 [==============================] - 25s 20ms/step - loss: 2.2401 - accuracy: 0.3522 - val_loss: 0.9907 - val_accuracy: 0.6911\n",
            "Epoch 2/30\n",
            "667/667 [==============================] - 14s 20ms/step - loss: 0.8144 - accuracy: 0.7412 - val_loss: 0.5705 - val_accuracy: 0.8175\n",
            "Epoch 3/30\n",
            "667/667 [==============================] - 14s 21ms/step - loss: 0.5108 - accuracy: 0.8350 - val_loss: 0.3948 - val_accuracy: 0.8727\n",
            "Epoch 4/30\n",
            "667/667 [==============================] - 13s 19ms/step - loss: 0.3742 - accuracy: 0.8780 - val_loss: 0.3107 - val_accuracy: 0.8997\n",
            "Epoch 5/30\n",
            "667/667 [==============================] - 13s 19ms/step - loss: 0.2872 - accuracy: 0.9052 - val_loss: 0.2733 - val_accuracy: 0.9145\n",
            "Epoch 6/30\n",
            "667/667 [==============================] - 13s 19ms/step - loss: 0.2434 - accuracy: 0.9172 - val_loss: 0.2650 - val_accuracy: 0.9197\n",
            "Epoch 7/30\n",
            "667/667 [==============================] - 13s 19ms/step - loss: 0.2013 - accuracy: 0.9333 - val_loss: 0.2174 - val_accuracy: 0.9284\n",
            "Epoch 8/30\n",
            "667/667 [==============================] - 12s 18ms/step - loss: 0.1789 - accuracy: 0.9403 - val_loss: 0.2155 - val_accuracy: 0.9359\n",
            "Epoch 9/30\n",
            "667/667 [==============================] - 13s 19ms/step - loss: 0.1658 - accuracy: 0.9449 - val_loss: 0.2052 - val_accuracy: 0.9360\n",
            "Epoch 10/30\n",
            "667/667 [==============================] - 13s 19ms/step - loss: 0.1420 - accuracy: 0.9533 - val_loss: 0.2324 - val_accuracy: 0.9289\n",
            "Epoch 11/30\n",
            "667/667 [==============================] - 13s 20ms/step - loss: 0.1334 - accuracy: 0.9554 - val_loss: 0.2162 - val_accuracy: 0.9344\n",
            "Epoch 12/30\n",
            "667/667 [==============================] - 13s 19ms/step - loss: 0.1226 - accuracy: 0.9594 - val_loss: 0.1977 - val_accuracy: 0.9426\n",
            "Epoch 13/30\n",
            "667/667 [==============================] - 15s 23ms/step - loss: 0.1089 - accuracy: 0.9635 - val_loss: 0.1982 - val_accuracy: 0.9417\n",
            "Epoch 14/30\n",
            "667/667 [==============================] - 12s 19ms/step - loss: 0.1128 - accuracy: 0.9611 - val_loss: 0.2019 - val_accuracy: 0.9404\n",
            "Epoch 15/30\n",
            "667/667 [==============================] - 14s 22ms/step - loss: 0.1033 - accuracy: 0.9651 - val_loss: 0.1858 - val_accuracy: 0.9464\n",
            "Epoch 16/30\n",
            "667/667 [==============================] - 13s 20ms/step - loss: 0.0905 - accuracy: 0.9697 - val_loss: 0.2081 - val_accuracy: 0.9394\n",
            "Epoch 17/30\n",
            "667/667 [==============================] - 15s 22ms/step - loss: 0.0887 - accuracy: 0.9696 - val_loss: 0.1742 - val_accuracy: 0.9522\n",
            "Epoch 18/30\n",
            "667/667 [==============================] - 13s 19ms/step - loss: 0.0911 - accuracy: 0.9697 - val_loss: 0.1967 - val_accuracy: 0.9475\n",
            "Epoch 19/30\n",
            "667/667 [==============================] - 13s 19ms/step - loss: 0.0855 - accuracy: 0.9718 - val_loss: 0.1945 - val_accuracy: 0.9454\n",
            "Epoch 20/30\n",
            "667/667 [==============================] - 13s 20ms/step - loss: 0.0816 - accuracy: 0.9743 - val_loss: 0.2247 - val_accuracy: 0.9424\n",
            "Epoch 21/30\n",
            "667/667 [==============================] - 13s 20ms/step - loss: 0.0653 - accuracy: 0.9781 - val_loss: 0.2121 - val_accuracy: 0.9419\n",
            "Epoch 22/30\n",
            "667/667 [==============================] - 13s 19ms/step - loss: 0.0814 - accuracy: 0.9733 - val_loss: 0.2002 - val_accuracy: 0.9492\n",
            "Model training completed.\n"
          ]
        }
      ]
    },
    {
      "cell_type": "code",
      "source": [
        "plot_training_history(history_simpleCNN)"
      ],
      "metadata": {
        "id": "Zn9XUczieoVY",
        "colab": {
          "base_uri": "https://localhost:8080/",
          "height": 607
        },
        "outputId": "d278cd67-448f-4d03-c4e4-b919cdbcdbca"
      },
      "execution_count": null,
      "outputs": [
        {
          "output_type": "display_data",
          "data": {
            "text/plain": [
              "<Figure size 1200x600 with 2 Axes>"
            ],
            "image/png": "[encoded data removed]"
          },
          "metadata": {}
        }
      ]
    },
    {
      "cell_type": "code",
      "source": [
        "# Increasing rate\n",
        "train_rate1, val_rate1 = calculate_accuracy_increase_rate(history_simpleCNN)\n",
        "print(\"Training Accuracy Increase Rate:\", train_rate1)\n",
        "print(\"Validation Accuracy Increase Rate:\", val_rate1)"
      ],
      "metadata": {
        "colab": {
          "base_uri": "https://localhost:8080/"
        },
        "id": "ubZZ4EK_jRRD",
        "outputId": "cfd27785-71b4-4920-ba1f-41d7acd8a8aa"
      },
      "execution_count": null,
      "outputs": [
        {
          "output_type": "stream",
          "name": "stdout",
          "text": [
            "Training Accuracy Increase Rate: 0.029576589663823444\n",
            "Validation Accuracy Increase Rate: 0.01228878895441691\n"
          ]
        }
      ]
    },
    {
      "cell_type": "code",
      "source": [
        "# Test the model with the test data\n",
        "test_loss, test_accuracy = model.evaluate(test_generator)\n",
        "\n",
        "print(f\"Test Loss: {test_loss:.4f}\")\n",
        "print(f\"Test Accuracy: {test_accuracy:.4f}\")"
      ],
      "metadata": {
        "colab": {
          "base_uri": "https://localhost:8080/"
        },
        "id": "nU0BSx5cqIvH",
        "outputId": "072158f1-7113-461f-fe7e-96112980ddb3"
      },
      "execution_count": null,
      "outputs": [
        {
          "output_type": "stream",
          "name": "stdout",
          "text": [
            "395/395 [==============================] - 11s 27ms/step - loss: 1.1074 - accuracy: 0.8340\n",
            "Test Loss: 1.1074\n",
            "Test Accuracy: 0.8340\n"
          ]
        }
      ]
    },
    {
      "cell_type": "code",
      "source": [
        "# Make predictions on the test data\n",
        "test_predictions = model.predict(test_generator)\n",
        "\n",
        "# Convert one-hot encoded predictions back to class labels\n",
        "predicted_labels = np.argmax(test_predictions, axis=1)\n",
        "\n",
        "# Get true labels from the test generator\n",
        "true_labels = test_generator.classes\n",
        "\n",
        "# Calculate the precision score\n",
        "precision = precision_score(true_labels, predicted_labels, average='weighted')\n",
        "\n",
        "print(f\"Precision Score: {precision:.4f}\")"
      ],
      "metadata": {
        "colab": {
          "base_uri": "https://localhost:8080/"
        },
        "id": "pRYMAq09qSus",
        "outputId": "8cc64d42-8f0d-412e-d03f-998ef50679f4"
      },
      "execution_count": null,
      "outputs": [
        {
          "output_type": "stream",
          "name": "stdout",
          "text": [
            "395/395 [==============================] - 11s 27ms/step\n",
            "Precision Score: 0.8549\n"
          ]
        }
      ]
    },
    {
      "cell_type": "code",
      "source": [
        "# Get unique true labels\n",
        "class_names = [str(label) for label in range(43)]\n",
        "\n",
        "# Generate a classification report\n",
        "classification_rep = classification_report(true_labels, predicted_labels, target_names=class_names)\n",
        "\n",
        "print(\"Classification Report:\\n\", classification_rep)"
      ],
      "metadata": {
        "id": "2DxGUG22tefV"
      },
      "execution_count": null,
      "outputs": []
    },
    {
      "cell_type": "markdown",
      "source": [
        "More complexity is added to the CNN model with regularization added:\n",
        "\n",
        "Added more convolutional layers with increasing filters to capture more complex features.\n",
        "Added batch normalization layers after each convolutional and dense layer to help stabilize training.\n",
        "Added an additional dense layer with dropout and batch normalization."
      ],
      "metadata": {
        "id": "jjUFO2mmT4RJ"
      }
    },
    {
      "cell_type": "code",
      "source": [
        "# Define the CNN model\n",
        "with tf.device('/device:GPU:0'):\n",
        "  model = Sequential([\n",
        "      Conv2D(64, (3, 3), activation='relu', kernel_regularizer=regularizers.l2(0.01), input_shape=(30, 30, 3)),\n",
        "      BatchNormalization(),\n",
        "      MaxPooling2D(2, 2),\n",
        "\n",
        "      Conv2D(128, (3, 3), activation='relu', kernel_regularizer=regularizers.l2(0.01)),\n",
        "      BatchNormalization(),\n",
        "      MaxPooling2D(2, 2),\n",
        "\n",
        "      Conv2D(256, (3, 3), activation='relu', kernel_regularizer=regularizers.l2(0.01)),\n",
        "      BatchNormalization(),\n",
        "      MaxPooling2D(2, 2),\n",
        "\n",
        "      Flatten(),\n",
        "      Dense(512, activation='relu', kernel_regularizer=regularizers.l2(0.01)),\n",
        "      Dropout(0.5),\n",
        "      Dense(num_classes, activation='softmax')\n",
        "  ])\n",
        "\n",
        "  # Compile the model with a lower learning rate\n",
        "  model.compile(optimizer=tf.keras.optimizers.Adam(learning_rate=0.0001), loss='categorical_crossentropy', metrics=['accuracy'])\n",
        "\n",
        "  # Early stopping callback\n",
        "  early_stopping = EarlyStopping(monitor='val_loss', patience=5, restore_best_weights=True)\n",
        "\n",
        "  # Train the model with data augmentation and early stopping\n",
        "  num_epochs = 30\n",
        "  history_complex_model = model.fit(train_generator, epochs=num_epochs, validation_data=valid_generator, callbacks=[early_stopping])\n",
        "\n",
        "print(\"Model training completed.\")"
      ],
      "metadata": {
        "colab": {
          "base_uri": "https://localhost:8080/"
        },
        "id": "WI8yjfWTvKNZ",
        "outputId": "db939f28-0a89-46bc-9449-c8d68cf132b8"
      },
      "execution_count": null,
      "outputs": [
        {
          "output_type": "stream",
          "name": "stdout",
          "text": [
            "Epoch 1/30\n",
            "667/667 [==============================] - 29s 21ms/step - loss: 10.7916 - accuracy: 0.3944 - val_loss: 8.7933 - val_accuracy: 0.7026\n",
            "Epoch 2/30\n",
            "667/667 [==============================] - 14s 21ms/step - loss: 7.7986 - accuracy: 0.6975 - val_loss: 6.6569 - val_accuracy: 0.8243\n",
            "Epoch 3/30\n",
            "667/667 [==============================] - 13s 19ms/step - loss: 5.9819 - accuracy: 0.8050 - val_loss: 5.1694 - val_accuracy: 0.8667\n",
            "Epoch 4/30\n",
            "667/667 [==============================] - 13s 20ms/step - loss: 4.6105 - accuracy: 0.8700 - val_loss: 4.0635 - val_accuracy: 0.8807\n",
            "Epoch 5/30\n",
            "667/667 [==============================] - 14s 21ms/step - loss: 3.5561 - accuracy: 0.9095 - val_loss: 3.1422 - val_accuracy: 0.9092\n",
            "Epoch 6/30\n",
            "667/667 [==============================] - 13s 19ms/step - loss: 2.7367 - accuracy: 0.9349 - val_loss: 2.4353 - val_accuracy: 0.9308\n",
            "Epoch 7/30\n",
            "667/667 [==============================] - 13s 20ms/step - loss: 2.1205 - accuracy: 0.9518 - val_loss: 1.9023 - val_accuracy: 0.9430\n",
            "Epoch 8/30\n",
            "667/667 [==============================] - 13s 20ms/step - loss: 1.6483 - accuracy: 0.9649 - val_loss: 1.5458 - val_accuracy: 0.9349\n",
            "Epoch 9/30\n",
            "667/667 [==============================] - 13s 19ms/step - loss: 1.2947 - accuracy: 0.9747 - val_loss: 1.2295 - val_accuracy: 0.9486\n",
            "Epoch 10/30\n",
            "667/667 [==============================] - 13s 20ms/step - loss: 1.0369 - accuracy: 0.9790 - val_loss: 1.1022 - val_accuracy: 0.9229\n",
            "Epoch 11/30\n",
            "667/667 [==============================] - 13s 20ms/step - loss: 0.8497 - accuracy: 0.9828 - val_loss: 0.8601 - val_accuracy: 0.9507\n",
            "Epoch 12/30\n",
            "667/667 [==============================] - 14s 21ms/step - loss: 0.7086 - accuracy: 0.9855 - val_loss: 0.7835 - val_accuracy: 0.9450\n",
            "Epoch 13/30\n",
            "667/667 [==============================] - 13s 20ms/step - loss: 0.6007 - accuracy: 0.9880 - val_loss: 0.6583 - val_accuracy: 0.9544\n",
            "Epoch 14/30\n",
            "667/667 [==============================] - 14s 21ms/step - loss: 0.5345 - accuracy: 0.9862 - val_loss: 0.7005 - val_accuracy: 0.9250\n",
            "Epoch 15/30\n",
            "667/667 [==============================] - 13s 20ms/step - loss: 0.4697 - accuracy: 0.9893 - val_loss: 0.5647 - val_accuracy: 0.9497\n",
            "Epoch 16/30\n",
            "667/667 [==============================] - 13s 20ms/step - loss: 0.4276 - accuracy: 0.9899 - val_loss: 0.5166 - val_accuracy: 0.9567\n",
            "Epoch 17/30\n",
            "667/667 [==============================] - 13s 20ms/step - loss: 0.3889 - accuracy: 0.9893 - val_loss: 0.5130 - val_accuracy: 0.9445\n",
            "Epoch 18/30\n",
            "667/667 [==============================] - 13s 20ms/step - loss: 0.3610 - accuracy: 0.9901 - val_loss: 0.5299 - val_accuracy: 0.9398\n",
            "Epoch 19/30\n",
            "667/667 [==============================] - 13s 20ms/step - loss: 0.3482 - accuracy: 0.9891 - val_loss: 0.4381 - val_accuracy: 0.9586\n",
            "Epoch 20/30\n",
            "667/667 [==============================] - 13s 19ms/step - loss: 0.3233 - accuracy: 0.9917 - val_loss: 0.4178 - val_accuracy: 0.9567\n",
            "Epoch 21/30\n",
            "667/667 [==============================] - 13s 19ms/step - loss: 0.2998 - accuracy: 0.9923 - val_loss: 0.4385 - val_accuracy: 0.9507\n",
            "Epoch 22/30\n",
            "667/667 [==============================] - 14s 21ms/step - loss: 0.2827 - accuracy: 0.9924 - val_loss: 0.3988 - val_accuracy: 0.9546\n",
            "Epoch 23/30\n",
            "667/667 [==============================] - 14s 21ms/step - loss: 0.2815 - accuracy: 0.9902 - val_loss: 0.3809 - val_accuracy: 0.9580\n",
            "Epoch 24/30\n",
            "667/667 [==============================] - 13s 20ms/step - loss: 0.2706 - accuracy: 0.9921 - val_loss: 0.4278 - val_accuracy: 0.9456\n",
            "Epoch 25/30\n",
            "667/667 [==============================] - 13s 20ms/step - loss: 0.2666 - accuracy: 0.9921 - val_loss: 0.3560 - val_accuracy: 0.9608\n",
            "Epoch 26/30\n",
            "667/667 [==============================] - 15s 23ms/step - loss: 0.2572 - accuracy: 0.9915 - val_loss: 0.3429 - val_accuracy: 0.9642\n",
            "Epoch 27/30\n",
            "667/667 [==============================] - 13s 20ms/step - loss: 0.2478 - accuracy: 0.9921 - val_loss: 0.4079 - val_accuracy: 0.9454\n",
            "Epoch 28/30\n",
            "667/667 [==============================] - 13s 20ms/step - loss: 0.2567 - accuracy: 0.9911 - val_loss: 0.3552 - val_accuracy: 0.9584\n",
            "Epoch 29/30\n",
            "667/667 [==============================] - 15s 23ms/step - loss: 0.2356 - accuracy: 0.9947 - val_loss: 0.3082 - val_accuracy: 0.9668\n",
            "Epoch 30/30\n",
            "667/667 [==============================] - 13s 20ms/step - loss: 0.2366 - accuracy: 0.9915 - val_loss: 0.3860 - val_accuracy: 0.9460\n",
            "Model training completed.\n"
          ]
        }
      ]
    },
    {
      "cell_type": "code",
      "source": [
        "plot_training_history(history_complex_model)"
      ],
      "metadata": {
        "colab": {
          "base_uri": "https://localhost:8080/",
          "height": 607
        },
        "id": "7LMYWjxCv3Ga",
        "outputId": "f13388ff-ab16-4f4b-fcbf-cbd9a3564bcc"
      },
      "execution_count": null,
      "outputs": [
        {
          "output_type": "display_data",
          "data": {
            "text/plain": [
              "<Figure size 1200x600 with 2 Axes>"
            ],
            "image/png": "[encoded data removed]"
          },
          "metadata": {}
        }
      ]
    },
    {
      "cell_type": "code",
      "source": [
        "# Increasing rate\n",
        "train_rate_complex, val_rate_complex = calculate_accuracy_increase_rate(history_complex_model)\n",
        "print(\"Training Accuracy Increase Rate:\", train_rate_complex)\n",
        "print(\"Validation Accuracy Increase Rate:\", val_rate_complex)"
      ],
      "metadata": {
        "colab": {
          "base_uri": "https://localhost:8080/"
        },
        "id": "MHVWoQyrwTk6",
        "outputId": "ab782b1f-dab8-4569-c435-ce1b7939ce46"
      },
      "execution_count": null,
      "outputs": [
        {
          "output_type": "stream",
          "name": "stdout",
          "text": [
            "Training Accuracy Increase Rate: 0.020589739084243774\n",
            "Validation Accuracy Increase Rate: 0.008394339988971579\n"
          ]
        }
      ]
    },
    {
      "cell_type": "code",
      "source": [
        "# Test the model with the test data\n",
        "test_loss, test_accuracy = model.evaluate(test_generator)\n",
        "\n",
        "print(f\"Test Loss: {test_loss:.4f}\")\n",
        "print(f\"Test Accuracy: {test_accuracy:.4f}\")"
      ],
      "metadata": {
        "colab": {
          "base_uri": "https://localhost:8080/"
        },
        "id": "u2UhqO-Wv3r4",
        "outputId": "c97e5ea0-f226-445c-92eb-420f4b1b8865"
      },
      "execution_count": null,
      "outputs": [
        {
          "output_type": "stream",
          "name": "stdout",
          "text": [
            "395/395 [==============================] - 11s 28ms/step - loss: 0.8417 - accuracy: 0.8461\n",
            "Test Loss: 0.8417\n",
            "Test Accuracy: 0.8461\n"
          ]
        }
      ]
    },
    {
      "cell_type": "code",
      "source": [
        "# Make predictions on the test data\n",
        "test_predictions = model.predict(test_generator)\n",
        "\n",
        "# Convert one-hot encoded predictions back to class labels\n",
        "predicted_labels = np.argmax(test_predictions, axis=1)\n",
        "\n",
        "# Get true labels from the test generator\n",
        "true_labels = test_generator.classes\n",
        "\n",
        "# Calculate the precision score\n",
        "precision = precision_score(true_labels, predicted_labels, average='weighted')\n",
        "\n",
        "print(f\"Precision Score: {precision:.4f}\")"
      ],
      "metadata": {
        "colab": {
          "base_uri": "https://localhost:8080/"
        },
        "id": "NGjoJfhUv31a",
        "outputId": "cef15ec3-4c89-4779-b956-9353b8f90fe2"
      },
      "execution_count": null,
      "outputs": [
        {
          "output_type": "stream",
          "name": "stdout",
          "text": [
            "395/395 [==============================] - 10s 25ms/step\n",
            "Precision Score: 0.8786\n"
          ]
        }
      ]
    },
    {
      "cell_type": "code",
      "source": [
        "# Get unique true labels\n",
        "class_names = [str(label) for label in range(43)]\n",
        "\n",
        "# Generate a classification report\n",
        "classification_rep = classification_report(true_labels, predicted_labels, target_names=class_names)\n",
        "\n",
        "print(\"Classification Report:\\n\", classification_rep)"
      ],
      "metadata": {
        "colab": {
          "base_uri": "https://localhost:8080/"
        },
        "id": "YtZr-SxJwJEQ",
        "outputId": "b7520ef9-76ef-4ca0-ac42-a1f34e555574"
      },
      "execution_count": null,
      "outputs": [
        {
          "output_type": "stream",
          "name": "stdout",
          "text": [
            "Classification Report:\n",
            "               precision    recall  f1-score   support\n",
            "\n",
            "           0       0.85      0.28      0.42        60\n",
            "           1       0.98      0.74      0.85       720\n",
            "           2       0.99      0.92      0.95       660\n",
            "           3       0.97      0.91      0.94       420\n",
            "           4       0.97      1.00      0.99       690\n",
            "           5       0.91      1.00      0.95       720\n",
            "           6       0.97      0.91      0.94       270\n",
            "           7       0.62      0.90      0.73       210\n",
            "           8       0.97      0.97      0.97       150\n",
            "           9       0.98      0.86      0.92       360\n",
            "          10       0.93      0.84      0.89       390\n",
            "          11       0.85      0.73      0.79        60\n",
            "          12       0.98      0.69      0.81       750\n",
            "          13       0.47      0.60      0.53        90\n",
            "          14       0.86      0.67      0.75        90\n",
            "          15       0.46      0.97      0.62       120\n",
            "          16       0.57      0.84      0.68       150\n",
            "          17       0.77      0.94      0.85        90\n",
            "          18       1.00      0.93      0.96       480\n",
            "          19       0.68      0.85      0.76       180\n",
            "          20       0.78      0.67      0.72        60\n",
            "          21       0.84      0.88      0.86       150\n",
            "          22       0.96      0.57      0.71        90\n",
            "          23       0.46      0.96      0.62       450\n",
            "          24       0.58      0.61      0.59       150\n",
            "          25       0.93      0.71      0.81       270\n",
            "          26       0.58      0.98      0.73        60\n",
            "          27       1.00      0.96      0.98       210\n",
            "          28       0.81      1.00      0.90       120\n",
            "          29       0.99      0.98      0.99       390\n",
            "          30       0.87      0.98      0.93       120\n",
            "          31       0.95      0.98      0.97        60\n",
            "          32       1.00      0.96      0.98       690\n",
            "          33       0.84      0.94      0.89        90\n",
            "          34       0.81      0.86      0.84       660\n",
            "          35       0.97      0.64      0.77        90\n",
            "          36       0.52      0.87      0.65        60\n",
            "          37       0.94      0.51      0.66        90\n",
            "          38       0.62      0.50      0.55       630\n",
            "          39       0.87      0.73      0.79       150\n",
            "          40       0.94      0.71      0.81       450\n",
            "          41       0.80      0.80      0.80       450\n",
            "          42       0.99      0.96      0.98       480\n",
            "\n",
            "    accuracy                           0.85     12630\n",
            "   macro avg       0.83      0.82      0.81     12630\n",
            "weighted avg       0.88      0.85      0.85     12630\n",
            "\n"
          ]
        }
      ]
    },
    {
      "cell_type": "markdown",
      "source": [
        "Model 3"
      ],
      "metadata": {
        "id": "NxP02q59wPQ2"
      }
    },
    {
      "cell_type": "code",
      "source": [
        "# Define the CNN model with more complexity and regularization\n",
        "with tf.device('/device:GPU:0'):\n",
        "    model = Sequential([\n",
        "        Conv2D(64, (3, 3), activation='relu', input_shape=(30, 30, 3)),\n",
        "        MaxPooling2D(2, 2),\n",
        "        BatchNormalization(),\n",
        "        Dropout(0.25),\n",
        "\n",
        "        Conv2D(128, (3, 3), activation='relu'),\n",
        "        MaxPooling2D(2, 2),\n",
        "        BatchNormalization(),\n",
        "        Dropout(0.25),\n",
        "\n",
        "        Conv2D(256, (3, 3), activation='relu'),\n",
        "        MaxPooling2D(2, 2),\n",
        "        BatchNormalization(),\n",
        "        Dropout(0.25),\n",
        "\n",
        "        Flatten(),\n",
        "\n",
        "        Dense(512, activation='relu'),\n",
        "        BatchNormalization(),\n",
        "        Dropout(0.5),\n",
        "\n",
        "        Dense(256, activation='relu'),\n",
        "        BatchNormalization(),\n",
        "        Dropout(0.3),\n",
        "\n",
        "        Dense(num_classes, activation='softmax')\n",
        "    ])\n",
        "\n",
        "    # Compile the model\n",
        "    model.compile(optimizer='adam', loss='categorical_crossentropy', metrics=['accuracy'])\n",
        "\n",
        "    # Early stopping callback\n",
        "    early_stopping = EarlyStopping(monitor='val_loss', patience=3, restore_best_weights=True)\n",
        "\n",
        "    # Train the model\n",
        "    num_epochs = 30\n",
        "    history_normCNN = model.fit(train_generator, epochs=num_epochs, validation_data=valid_generator, callbacks=[early_stopping])\n",
        "\n",
        "print(\"Model training completed.\")"
      ],
      "metadata": {
        "colab": {
          "base_uri": "https://localhost:8080/"
        },
        "id": "xjqCYaU3T10o",
        "outputId": "6781706c-cb5f-443d-fc44-49d07ef3a151"
      },
      "execution_count": null,
      "outputs": [
        {
          "output_type": "stream",
          "name": "stdout",
          "text": [
            "Epoch 1/30\n",
            "667/667 [==============================] - 25s 25ms/step - loss: 1.9757 - accuracy: 0.4466 - val_loss: 1.2986 - val_accuracy: 0.6137\n",
            "Epoch 2/30\n",
            "667/667 [==============================] - 14s 21ms/step - loss: 0.8373 - accuracy: 0.7364 - val_loss: 0.4656 - val_accuracy: 0.8586\n",
            "Epoch 3/30\n",
            "667/667 [==============================] - 14s 21ms/step - loss: 0.5852 - accuracy: 0.8137 - val_loss: 0.5039 - val_accuracy: 0.8408\n",
            "Epoch 4/30\n",
            "667/667 [==============================] - 17s 25ms/step - loss: 0.4670 - accuracy: 0.8528 - val_loss: 0.3099 - val_accuracy: 0.8978\n",
            "Epoch 5/30\n",
            "667/667 [==============================] - 14s 21ms/step - loss: 0.3965 - accuracy: 0.8732 - val_loss: 0.3839 - val_accuracy: 0.8869\n",
            "Epoch 6/30\n",
            "667/667 [==============================] - 14s 21ms/step - loss: 0.3518 - accuracy: 0.8863 - val_loss: 0.2027 - val_accuracy: 0.9325\n",
            "Epoch 7/30\n",
            "667/667 [==============================] - 14s 21ms/step - loss: 0.3031 - accuracy: 0.9013 - val_loss: 0.3970 - val_accuracy: 0.8766\n",
            "Epoch 8/30\n",
            "667/667 [==============================] - 14s 21ms/step - loss: 0.2733 - accuracy: 0.9108 - val_loss: 0.2041 - val_accuracy: 0.9342\n",
            "Epoch 9/30\n",
            "667/667 [==============================] - 14s 21ms/step - loss: 0.2529 - accuracy: 0.9177 - val_loss: 0.2134 - val_accuracy: 0.9297\n",
            "Model training completed.\n"
          ]
        }
      ]
    },
    {
      "cell_type": "code",
      "source": [
        "plot_training_history(history_normCNN)"
      ],
      "metadata": {
        "id": "1ZIG9-9wVd4C",
        "colab": {
          "base_uri": "https://localhost:8080/",
          "height": 607
        },
        "outputId": "13560030-e7ee-45fb-c07d-20aa9e2bb827"
      },
      "execution_count": null,
      "outputs": [
        {
          "output_type": "display_data",
          "data": {
            "text/plain": [
              "<Figure size 1200x600 with 2 Axes>"
            ],
            "image/png": "[encoded data removed]"
          },
          "metadata": {}
        }
      ]
    },
    {
      "cell_type": "code",
      "source": [
        "# Test the model with the test data\n",
        "test_loss, test_accuracy = model.evaluate(test_generator)\n",
        "\n",
        "print(f\"Test Loss: {test_loss:.4f}\")\n",
        "print(f\"Test Accuracy: {test_accuracy:.4f}\")"
      ],
      "metadata": {
        "id": "lOQJcz2duiua",
        "colab": {
          "base_uri": "https://localhost:8080/"
        },
        "outputId": "3a9e52be-445e-464e-b96f-db5c53c1ae1b"
      },
      "execution_count": null,
      "outputs": [
        {
          "output_type": "stream",
          "name": "stdout",
          "text": [
            "395/395 [==============================] - 12s 29ms/step - loss: 0.5347 - accuracy: 0.8533\n",
            "Test Loss: 0.5347\n",
            "Test Accuracy: 0.8533\n"
          ]
        }
      ]
    },
    {
      "cell_type": "code",
      "source": [
        "# Make predictions on the test data\n",
        "test_predictions = model.predict(test_generator)\n",
        "\n",
        "# Convert one-hot encoded predictions back to class labels\n",
        "predicted_labels = np.argmax(test_predictions, axis=1)\n",
        "\n",
        "# Get true labels from the test generator\n",
        "true_labels = test_generator.classes\n",
        "\n",
        "# Calculate the precision score\n",
        "precision = precision_score(true_labels, predicted_labels, average='weighted')\n",
        "\n",
        "print(f\"Precision Score: {precision:.4f}\")"
      ],
      "metadata": {
        "id": "9r6PFojTuqq9",
        "colab": {
          "base_uri": "https://localhost:8080/"
        },
        "outputId": "86023e49-182d-4489-d8b9-2044bcb9a611"
      },
      "execution_count": null,
      "outputs": [
        {
          "output_type": "stream",
          "name": "stdout",
          "text": [
            "395/395 [==============================] - 12s 31ms/step\n",
            "Precision Score: 0.8748\n"
          ]
        }
      ]
    },
    {
      "cell_type": "code",
      "source": [
        "# Increasing rate\n",
        "train_rate2, val_rate2 = calculate_accuracy_increase_rate(history_normCNN)\n",
        "print(\"Training Accuracy Increase Rate:\", train_rate2)\n",
        "print(\"Validation Accuracy Increase Rate:\", val_rate2)"
      ],
      "metadata": {
        "id": "BlPptPKHjZOQ",
        "colab": {
          "base_uri": "https://localhost:8080/"
        },
        "outputId": "beb05084-cd95-4187-bc78-2c98769e4f0f"
      },
      "execution_count": null,
      "outputs": [
        {
          "output_type": "stream",
          "name": "stdout",
          "text": [
            "Training Accuracy Increase Rate: 0.05888386443257332\n",
            "Validation Accuracy Increase Rate: 0.039502061903476715\n"
          ]
        }
      ]
    },
    {
      "cell_type": "code",
      "source": [
        "# Get unique true labels\n",
        "class_names = [str(label) for label in range(43)]\n",
        "\n",
        "# Generate a classification report\n",
        "classification_rep = classification_report(true_labels, predicted_labels, target_names=class_names)\n",
        "\n",
        "print(\"Classification Report:\\n\", classification_rep)"
      ],
      "metadata": {
        "colab": {
          "base_uri": "https://localhost:8080/"
        },
        "id": "omduGPdyO7Nz",
        "outputId": "e79a322d-d601-49f9-9d54-67966b55f410"
      },
      "execution_count": null,
      "outputs": [
        {
          "output_type": "stream",
          "name": "stdout",
          "text": [
            "Classification Report:\n",
            "               precision    recall  f1-score   support\n",
            "\n",
            "           0       0.94      0.50      0.65        60\n",
            "           1       0.94      0.85      0.89       720\n",
            "           2       0.99      0.94      0.97       660\n",
            "           3       0.80      0.94      0.86       420\n",
            "           4       0.93      1.00      0.96       690\n",
            "           5       0.96      1.00      0.98       720\n",
            "           6       1.00      1.00      1.00       270\n",
            "           7       0.61      0.95      0.74       210\n",
            "           8       0.97      0.99      0.98       150\n",
            "           9       1.00      0.92      0.96       360\n",
            "          10       1.00      0.69      0.81       390\n",
            "          11       0.71      0.75      0.73        60\n",
            "          12       0.86      0.75      0.80       750\n",
            "          13       0.46      0.79      0.58        90\n",
            "          14       0.71      0.58      0.64        90\n",
            "          15       0.72      0.83      0.78       120\n",
            "          16       0.85      0.84      0.85       150\n",
            "          17       0.76      0.86      0.81        90\n",
            "          18       0.99      0.92      0.96       480\n",
            "          19       0.45      0.96      0.61       180\n",
            "          20       0.86      0.30      0.44        60\n",
            "          21       0.93      0.86      0.90       150\n",
            "          22       0.93      0.70      0.80        90\n",
            "          23       0.84      0.86      0.85       450\n",
            "          24       0.69      0.55      0.61       150\n",
            "          25       0.93      0.81      0.86       270\n",
            "          26       0.53      0.98      0.69        60\n",
            "          27       0.97      1.00      0.99       210\n",
            "          28       0.92      0.99      0.96       120\n",
            "          29       1.00      0.99      0.99       390\n",
            "          30       0.85      0.99      0.92       120\n",
            "          31       0.92      1.00      0.96        60\n",
            "          32       1.00      0.95      0.97       690\n",
            "          33       0.98      0.97      0.97        90\n",
            "          34       0.60      0.89      0.72       660\n",
            "          35       0.75      0.76      0.75        90\n",
            "          36       0.85      0.68      0.76        60\n",
            "          37       0.66      0.97      0.79        90\n",
            "          38       0.85      0.44      0.58       630\n",
            "          39       0.86      0.61      0.72       150\n",
            "          40       0.78      0.64      0.70       450\n",
            "          41       0.76      0.77      0.76       450\n",
            "          42       0.96      0.98      0.97       480\n",
            "\n",
            "    accuracy                           0.85     12630\n",
            "   macro avg       0.84      0.83      0.82     12630\n",
            "weighted avg       0.87      0.85      0.85     12630\n",
            "\n"
          ]
        }
      ]
    },
    {
      "cell_type": "markdown",
      "source": [
        "<h1> 2.3 Saving the model</h1>"
      ],
      "metadata": {
        "id": "hPIoN9AEBbSc"
      }
    },
    {
      "cell_type": "code",
      "source": [
        "model.save(\"final_CNN_model.h5\")"
      ],
      "metadata": {
        "id": "Xfuln5m4C3R7"
      },
      "execution_count": null,
      "outputs": []
    },
    {
      "cell_type": "code",
      "source": [
        "def save_training_history(history, filename):\n",
        "    # Create a DataFrame from the training history\n",
        "    history_df = pd.DataFrame(history.history)\n",
        "\n",
        "    # Save the DataFrame to a CSV file\n",
        "    history_df.to_csv(filename, index=False)\n",
        "\n",
        "    # Print the first few rows of the history DataFrame\n",
        "    print(history_df.head())"
      ],
      "metadata": {
        "id": "jD8a_DTcBd5C"
      },
      "execution_count": null,
      "outputs": []
    },
    {
      "cell_type": "code",
      "source": [
        "save_training_history(history_simpleCNN, 'training_history_simpleCNN.csv')"
      ],
      "metadata": {
        "colab": {
          "base_uri": "https://localhost:8080/"
        },
        "id": "hIWdpGeiBwBV",
        "outputId": "145159de-2152-4e38-f576-13b665860c6b"
      },
      "execution_count": null,
      "outputs": [
        {
          "output_type": "stream",
          "name": "stdout",
          "text": [
            "       loss  accuracy  val_loss  val_accuracy\n",
            "0  2.240147  0.352213  0.990703      0.691110\n",
            "1  0.814394  0.741185  0.570504      0.817517\n",
            "2  0.510753  0.834959  0.394753      0.872656\n",
            "3  0.374212  0.878001  0.310682      0.899662\n",
            "4  0.287175  0.905242  0.273307      0.914479\n"
          ]
        }
      ]
    },
    {
      "cell_type": "code",
      "source": [
        "save_training_history(history_normCNN, 'training_history_normCNN.csv')"
      ],
      "metadata": {
        "colab": {
          "base_uri": "https://localhost:8080/"
        },
        "id": "J6DAvrGfBpQB",
        "outputId": "8e172614-87d1-4dd1-e21b-5ae07c25eaa6"
      },
      "execution_count": null,
      "outputs": [
        {
          "output_type": "stream",
          "name": "stdout",
          "text": [
            "       loss  accuracy  val_loss  val_accuracy\n",
            "0  1.975680  0.446643  1.298589      0.613653\n",
            "1  0.837306  0.736450  0.465591      0.858590\n",
            "2  0.585172  0.813672  0.503914      0.840773\n",
            "3  0.466988  0.852776  0.309858      0.897787\n",
            "4  0.396488  0.873218  0.383946      0.886909\n"
          ]
        }
      ]
    },
    {
      "cell_type": "code",
      "source": [
        "import shutil\n",
        "import os\n",
        "\n",
        "# Define the destination directory in Google Drive\n",
        "dest_dir = '/content/drive/MyDrive/final/training_models/CNN/'\n",
        "\n",
        "# Create the destination directory if it doesn't exist\n",
        "os.makedirs(dest_dir, exist_ok=True)\n",
        "\n",
        "# Define the source paths\n",
        "src_paths = [\n",
        "    'final_CNN_model.h5',\n",
        "    'training_history_simpleCNN.csv',\n",
        "    'training_history_normCNN.csv',\n",
        "]\n",
        "\n",
        "# Copy files to Google Drive\n",
        "for src_path in src_paths:\n",
        "    shutil.copy(src_path, dest_dir)\n",
        "\n",
        "print(\"Files copied to Google Drive successfully.\")"
      ],
      "metadata": {
        "colab": {
          "base_uri": "https://localhost:8080/"
        },
        "id": "INCKfh3KDhys",
        "outputId": "675d0a43-3283-4684-e8e7-5039edd86db2"
      },
      "execution_count": null,
      "outputs": [
        {
          "output_type": "stream",
          "name": "stdout",
          "text": [
            "Files copied to Google Drive successfully.\n"
          ]
        }
      ]
    }
  ]
}