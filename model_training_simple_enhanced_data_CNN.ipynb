{
  "nbformat": 4,
  "nbformat_minor": 0,
  "metadata": {
    "colab": {
      "provenance": [],
      "gpuType": "T4",
      "authorship_tag": "ABX9TyPzv+bNDHhO3v9OqRfD5HXF",
      "include_colab_link": true
    },
    "kernelspec": {
      "name": "python3",
      "display_name": "Python 3"
    },
    "language_info": {
      "name": "python"
    },
    "accelerator": "GPU"
  },
  "cells": [
    {
      "cell_type": "markdown",
      "metadata": {
        "id": "view-in-github",
        "colab_type": "text"
      },
      "source": [
        "<a href=\"https://colab.research.google.com/github/Jieoi/Food_supply_analysis/blob/master/model_training_simple_enhanced_data_CNN.ipynb\" target=\"_parent\"><img src=\"https://colab.research.google.com/assets/colab-badge.svg\" alt=\"Open In Colab\"/></a>"
      ]
    },
    {
      "cell_type": "markdown",
      "source": [
        "Note: This instance of Google Colab has been configured to use T4 GPU. It is possible to run all other sections at a slower rate on CPU."
      ],
      "metadata": {
        "id": "n4bbpXqXE-ys"
      }
    },
    {
      "cell_type": "markdown",
      "source": [
        "Note: The code below has been configured to run on Google colab with python scripts and data imported from google drive. Please download the scripts and data from [here](https://drive.google.com/drive/folders/1nViTcpc952b0ftRGqkDBFqbSEC01t0a8). Files required including all scripts and helper files under data_preparation folder and data_augmentation folder. Alternatively, vist my github repository to [download](https://github.com/Jieoi/traffic_sign_recognition/tree/main) the scripts and helper files."
      ],
      "metadata": {
        "id": "dGeJSyPpFI_t"
      }
    },
    {
      "cell_type": "markdown",
      "source": [
        "<h1> 2.1 Data Preparation for Machine Learning</h1>"
      ],
      "metadata": {
        "id": "cX68P2z6KqgN"
      }
    },
    {
      "cell_type": "markdown",
      "source": [
        "<h2>2.1.1 Preparing the notebook</h2>"
      ],
      "metadata": {
        "id": "M5uxRK7kKx_U"
      }
    },
    {
      "cell_type": "markdown",
      "source": [
        "The first step is to connect to Google Drive so that the data enhanced in the previouse notebook can be used.\n",
        "\n",
        "The exact files that the notebook needs to  access are <code>final_image.zip</code> and <code>image_data.csv</code>. It can be found in the link <a href=\"https://drive.google.com/drive/folders/1nViTcpc952b0ftRGqkDBFqbSEC01t0a8\">here</a>.\n",
        "\n",
        "Ideally, the notebook should be run in Google Colab with high RAM and GPU support. However, the code can be excuted on CPU only mode with a longer training time."
      ],
      "metadata": {
        "id": "COiJJylxK30z"
      }
    },
    {
      "cell_type": "code",
      "source": [
        "# Checking GPU availability\n",
        "!nvidia-smi"
      ],
      "metadata": {
        "colab": {
          "base_uri": "https://localhost:8080/"
        },
        "id": "NKBTqdfmQUr1",
        "outputId": "92d2403c-2227-44d7-99f3-73553c559f2f"
      },
      "execution_count": 1,
      "outputs": [
        {
          "output_type": "stream",
          "name": "stdout",
          "text": [
            "Fri Sep  8 10:22:16 2023       \n",
            "+-----------------------------------------------------------------------------+\n",
            "| NVIDIA-SMI 525.105.17   Driver Version: 525.105.17   CUDA Version: 12.0     |\n",
            "|-------------------------------+----------------------+----------------------+\n",
            "| GPU  Name        Persistence-M| Bus-Id        Disp.A | Volatile Uncorr. ECC |\n",
            "| Fan  Temp  Perf  Pwr:Usage/Cap|         Memory-Usage | GPU-Util  Compute M. |\n",
            "|                               |                      |               MIG M. |\n",
            "|===============================+======================+======================|\n",
            "|   0  Tesla T4            Off  | 00000000:00:04.0 Off |                    0 |\n",
            "| N/A   58C    P8    11W /  70W |      0MiB / 15360MiB |      0%      Default |\n",
            "|                               |                      |                  N/A |\n",
            "+-------------------------------+----------------------+----------------------+\n",
            "                                                                               \n",
            "+-----------------------------------------------------------------------------+\n",
            "| Processes:                                                                  |\n",
            "|  GPU   GI   CI        PID   Type   Process name                  GPU Memory |\n",
            "|        ID   ID                                                   Usage      |\n",
            "|=============================================================================|\n",
            "|  No running processes found                                                 |\n",
            "+-----------------------------------------------------------------------------+\n"
          ]
        }
      ]
    },
    {
      "cell_type": "code",
      "execution_count": 2,
      "metadata": {
        "colab": {
          "base_uri": "https://localhost:8080/"
        },
        "id": "_hnGCcs_4sNy",
        "outputId": "7d1663ce-c4a9-4d36-b649-9091cf47a75a"
      },
      "outputs": [
        {
          "output_type": "stream",
          "name": "stdout",
          "text": [
            "Mounted at /content/drive\n"
          ]
        }
      ],
      "source": [
        "from google.colab import drive\n",
        "\n",
        "# Mount Google Drive\n",
        "drive.mount('/content/drive', force_remount=True)"
      ]
    },
    {
      "cell_type": "markdown",
      "source": [
        "The libraries used in this notebook are listed below."
      ],
      "metadata": {
        "id": "DYBNIWx1Km-Q"
      }
    },
    {
      "cell_type": "code",
      "source": [
        "# Zip file handling\n",
        "import zipfile\n",
        "import os\n",
        "\n",
        "# Data handling and visualization\n",
        "import os\n",
        "import cv2\n",
        "import numpy as np\n",
        "import pandas as pd\n",
        "import matplotlib.pyplot as plt\n",
        "\n",
        "# File handling and management for training and validation data\n",
        "from shutil import copyfile\n",
        "from sklearn.model_selection import train_test_split\n",
        "\n",
        "# importing library for ML processing\n",
        "import tensorflow as tf\n",
        "from tensorflow.keras.preprocessing.image import ImageDataGenerator\n",
        "\n",
        "# CNN layers\n",
        "from tensorflow.keras.layers import Input, Conv2D, MaxPooling2D, Flatten, Dense, Dropout, BatchNormalization\n",
        "from tensorflow.keras.models import Model\n",
        "from tensorflow.keras.optimizers import Adam,RMSprop\n",
        "from tensorflow.keras.callbacks import EarlyStopping\n",
        "\n",
        "# Regularization\n",
        "from tensorflow.keras import regularizers\n",
        "\n",
        "# Saving the model\n",
        "from tensorflow.keras.models import save_model\n",
        "\n",
        "# Metrics for evaluation\n",
        "from sklearn.metrics import classification_report\n",
        "from sklearn.metrics import precision_score"
      ],
      "metadata": {
        "id": "VEemnXizTEw4"
      },
      "execution_count": 3,
      "outputs": []
    },
    {
      "cell_type": "markdown",
      "source": [
        "<h2>2.1.2 Data preparation for Machine Learning</h2>"
      ],
      "metadata": {
        "id": "d_ycXAdhSGV7"
      }
    },
    {
      "cell_type": "markdown",
      "source": [
        "Firstly, pre-porcessed training data is obtained and prepared for machine learning:\n"
      ],
      "metadata": {
        "id": "znQglMe3mU_p"
      }
    },
    {
      "cell_type": "markdown",
      "source": [
        "The labels for all the images is in the <code>image_data.csv</code> file. It is first extracted in the code below."
      ],
      "metadata": {
        "id": "_RWYzZpNM_LA"
      }
    },
    {
      "cell_type": "code",
      "source": [
        "csv_file = '/content/drive/MyDrive/final/train_data/image_data.csv'\n",
        "\n",
        "# Read the CSV file into a pandas DataFrame\n",
        "df_classes = pd.read_csv(csv_file)\n",
        "df_classes.info"
      ],
      "metadata": {
        "colab": {
          "base_uri": "https://localhost:8080/"
        },
        "id": "i94oSVmWCYpC",
        "outputId": "747ae403-6866-48c4-a344-45da7b996452"
      },
      "execution_count": 4,
      "outputs": [
        {
          "output_type": "execute_result",
          "data": {
            "text/plain": [
              "<bound method DataFrame.info of        class      filename\n",
              "0          0       0_0.png\n",
              "1          0       0_1.png\n",
              "2          0       0_2.png\n",
              "3          0       0_3.png\n",
              "4          0       0_4.png\n",
              "...      ...           ...\n",
              "26655     42  42_26655.png\n",
              "26656     42  42_26656.png\n",
              "26657     42  42_26657.png\n",
              "26658     42  42_26658.png\n",
              "26659     42  42_26659.png\n",
              "\n",
              "[26660 rows x 2 columns]>"
            ]
          },
          "metadata": {},
          "execution_count": 4
        }
      ]
    },
    {
      "cell_type": "markdown",
      "source": [
        "Then the images are extracted from the <code>final_image.zip</code> file."
      ],
      "metadata": {
        "id": "tKBDwP7kNu-L"
      }
    },
    {
      "cell_type": "code",
      "source": [
        "# Paths\n",
        "zip_file_path = '/content/drive/MyDrive/final/train_data/final_image.zip'\n",
        "extracted_dir = '/content/extracted_images'\n",
        "\n",
        "# Create the directory for extracted images if it doesn't exist\n",
        "os.makedirs(extracted_dir, exist_ok=True)\n",
        "\n",
        "\n",
        "# Open the ZIP file and extract its contents\n",
        "with zipfile.ZipFile(zip_file_path, 'r') as zip_ref:\n",
        "    zip_ref.extractall(extracted_dir)\n",
        "\n",
        "# Check the length of the extracted images\n",
        "num_extracted_images = len(os.listdir(extracted_dir))\n",
        "print(f\"Number of extracted images: {num_extracted_images}\")\n",
        "print(\"Extraction completed.\")"
      ],
      "metadata": {
        "colab": {
          "base_uri": "https://localhost:8080/"
        },
        "id": "aegfPAhacJRR",
        "outputId": "9931c22e-83da-4797-a76b-6bdf70755875"
      },
      "execution_count": 5,
      "outputs": [
        {
          "output_type": "stream",
          "name": "stdout",
          "text": [
            "Number of extracted images: 26660\n",
            "Extraction completed.\n"
          ]
        }
      ]
    },
    {
      "cell_type": "markdown",
      "source": [
        "Both images and there labels extracted contains the same number of entries."
      ],
      "metadata": {
        "id": "UgAfoUUON3vh"
      }
    },
    {
      "cell_type": "markdown",
      "source": [
        "The distribution of the final classes is shown below."
      ],
      "metadata": {
        "id": "ZrskEW6ON0Zc"
      }
    },
    {
      "cell_type": "code",
      "source": [
        "# Count the occurrences of each class in the DataFrame\n",
        "class_counts = df_classes['class'].value_counts()\n",
        "\n",
        "# Sort the unique class IDs\n",
        "unique_classes = np.sort(df_classes['class'].unique())\n",
        "\n",
        "# Create a bar chart\n",
        "plt.figure(figsize=(10, 6))\n",
        "plt.bar(unique_classes, class_counts[unique_classes])\n",
        "plt.xlabel('Class')\n",
        "plt.ylabel('Count')\n",
        "plt.title('Class Distribution')\n",
        "plt.xticks(unique_classes)\n",
        "plt.show()"
      ],
      "metadata": {
        "colab": {
          "base_uri": "https://localhost:8080/",
          "height": 474
        },
        "id": "s28B6914YyMd",
        "outputId": "a0b7f58f-cc0d-437b-9889-61a2b0b9b792"
      },
      "execution_count": 6,
      "outputs": [
        {
          "output_type": "display_data",
          "data": {
            "text/plain": [
              "<Figure size 1000x600 with 1 Axes>"
            ],
            "image/png": "[encoded data removed]"
          },
          "metadata": {}
        }
      ]
    },
    {
      "cell_type": "markdown",
      "source": [
        "Both images are first split into training and validation sets. They are grouped by their classes and stored in individual directories for every classes."
      ],
      "metadata": {
        "id": "obTCtr8vORqc"
      }
    },
    {
      "cell_type": "code",
      "source": [
        "train_dir = '/content/train_images'\n",
        "valid_dir = '/content/valid_images'\n",
        "\n",
        "# Create directories for training and validation images\n",
        "os.makedirs(train_dir, exist_ok=True)\n",
        "os.makedirs(valid_dir, exist_ok=True)\n",
        "\n",
        "# Split the data into training and validation sets\n",
        "train_df, valid_df = train_test_split(df_classes, test_size=0.2, random_state=42, stratify=df_classes['class'])\n",
        "\n",
        "# Copy images to directories based on classes for training set\n",
        "for index, row in train_df.iterrows():\n",
        "    src_path = os.path.join(extracted_dir, row['filename'])\n",
        "    dst_path = os.path.join(train_dir, str(row['class']), row['filename'])\n",
        "    os.makedirs(os.path.dirname(dst_path), exist_ok=True)\n",
        "    copyfile(src_path, dst_path)\n",
        "\n",
        "# Copy images to directories based on classes for validation set\n",
        "for index, row in valid_df.iterrows():\n",
        "    src_path = os.path.join(extracted_dir, row['filename'])\n",
        "    dst_path = os.path.join(valid_dir, str(row['class']), row['filename'])\n",
        "    os.makedirs(os.path.dirname(dst_path), exist_ok=True)\n",
        "    copyfile(src_path, dst_path)\n",
        "\n",
        "print(\"Data preparation for ML completed.\")"
      ],
      "metadata": {
        "colab": {
          "base_uri": "https://localhost:8080/"
        },
        "id": "husZ2lw6dYyC",
        "outputId": "b36bcf3f-17d9-4e4d-ea61-f3326ae90e6f"
      },
      "execution_count": 7,
      "outputs": [
        {
          "output_type": "stream",
          "name": "stdout",
          "text": [
            "Data preparation for ML completed.\n"
          ]
        }
      ]
    },
    {
      "cell_type": "markdown",
      "source": [
        "<h1> 2.2 Machine Learning</h1>"
      ],
      "metadata": {
        "id": "-F61JPGGOoN2"
      }
    },
    {
      "cell_type": "markdown",
      "source": [
        "<h2>2.2.1 Data pipeline</h2>"
      ],
      "metadata": {
        "id": "kumuDOWeSTrX"
      }
    },
    {
      "cell_type": "markdown",
      "source": [
        "<code>flow_from_directory()</code> from Keras ImageDataGenerator is used to load the images with rescaling to 1/255. batch size and image size are pre-set to 32 and (128, 128), respectively."
      ],
      "metadata": {
        "id": "XEkNgAgcRWjj"
      }
    },
    {
      "cell_type": "code",
      "source": [
        "# Define paths\n",
        "train_dir = '/content/train_images'\n",
        "valid_dir = '/content/valid_images'\n",
        "\n",
        "# Define image dimensions and batch size\n",
        "image_size = (30,30)\n",
        "batch_size = 32\n",
        "\n",
        "# Create data generators and rescale image for ML on training and validation\n",
        "train_datagen = ImageDataGenerator(rescale=1.0/255)\n",
        "valid_datagen = ImageDataGenerator(rescale=1.0/255)\n",
        "\n",
        "train_generator = train_datagen.flow_from_directory(\n",
        "    train_dir,\n",
        "    target_size=image_size,\n",
        "    batch_size=batch_size,\n",
        "    class_mode='categorical',\n",
        "    color_mode='grayscale',  # Load images as grayscale\n",
        "    shuffle=True  # Set shuffle to True for training data\n",
        ")\n",
        "\n",
        "valid_generator = valid_datagen.flow_from_directory(\n",
        "    valid_dir,\n",
        "    target_size=image_size,\n",
        "    batch_size=batch_size,\n",
        "    class_mode='categorical',\n",
        "    color_mode='grayscale',  # Load images as grayscale\n",
        "    shuffle=False  # Set shuffle to False for validation data\n",
        ")\n",
        "\n",
        "# Get the number of classes from the training generator\n",
        "num_classes = len(train_generator.class_indices)"
      ],
      "metadata": {
        "colab": {
          "base_uri": "https://localhost:8080/"
        },
        "id": "ICEfnqPEeJBl",
        "outputId": "91c3d896-6967-4090-ff43-819633038a4e"
      },
      "execution_count": 8,
      "outputs": [
        {
          "output_type": "stream",
          "name": "stdout",
          "text": [
            "Found 21328 images belonging to 43 classes.\n",
            "Found 5332 images belonging to 43 classes.\n"
          ]
        }
      ]
    },
    {
      "cell_type": "markdown",
      "source": [
        "Next, the test data is also obtained and prepared for machine learning."
      ],
      "metadata": {
        "id": "AFiJylAImhVR"
      }
    },
    {
      "cell_type": "code",
      "source": [
        "# Define the paths\n",
        "test_zip_path = '/content/drive/MyDrive/final/test_data/test_image_simple.zip'\n",
        "test_extracted_dir = '/content/extracted_test_images'\n",
        "test_dir = '/content/test_images'\n",
        "\n",
        "# Create the directory for extracted test images if it doesn't exist\n",
        "os.makedirs(test_extracted_dir, exist_ok=True)\n",
        "\n",
        "# Open the ZIP file and extract its contents\n",
        "with zipfile.ZipFile(test_zip_path, 'r') as zip_ref:\n",
        "    zip_ref.extractall(test_extracted_dir)"
      ],
      "metadata": {
        "id": "wjQBx8gQmnaV"
      },
      "execution_count": 9,
      "outputs": []
    },
    {
      "cell_type": "code",
      "source": [
        "# Move the test images to the test directory while renaming them with their true labels\n",
        "for filename in os.listdir(test_extracted_dir):\n",
        "    src_path = os.path.join(test_extracted_dir, filename)\n",
        "    # Extract the true label from the filename (before the underscore)\n",
        "    true_label = filename.split('_')[0]\n",
        "    dst_path = os.path.join(test_dir, true_label, filename)\n",
        "    os.makedirs(os.path.dirname(dst_path), exist_ok=True)\n",
        "    copyfile(src_path, dst_path)"
      ],
      "metadata": {
        "id": "V7txY676psmN"
      },
      "execution_count": 10,
      "outputs": []
    },
    {
      "cell_type": "code",
      "source": [
        "# Create a data generator for the test data\n",
        "test_datagen = ImageDataGenerator(rescale=1.0/255)\n",
        "\n",
        "test_generator = test_datagen.flow_from_directory(\n",
        "    test_dir,\n",
        "    target_size=image_size,\n",
        "    batch_size=batch_size,\n",
        "    class_mode='categorical',\n",
        "    color_mode='grayscale',  # Load images as grayscale\n",
        "    shuffle=False  # Set shuffle to False for testing data\n",
        ")"
      ],
      "metadata": {
        "colab": {
          "base_uri": "https://localhost:8080/"
        },
        "id": "oelcW3EtnlSz",
        "outputId": "c4f93e52-db03-44db-bc13-d7eca814cfba"
      },
      "execution_count": 11,
      "outputs": [
        {
          "output_type": "stream",
          "name": "stdout",
          "text": [
            "Found 12630 images belonging to 43 classes.\n"
          ]
        }
      ]
    },
    {
      "cell_type": "markdown",
      "source": [
        "<h2>2.2.2 Training the CNN model</h2>"
      ],
      "metadata": {
        "id": "EJUQK66CaB8W"
      }
    },
    {
      "cell_type": "markdown",
      "source": [
        "Double checking the GPU availability and set the GPU device if it is available"
      ],
      "metadata": {
        "id": "xsMRTT06SepR"
      }
    },
    {
      "cell_type": "code",
      "source": [
        "# Check GPU availability\n",
        "print(\"Num GPUs Available: \", len(tf.config.list_physical_devices('GPU')))\n",
        "\n",
        "# Specify GPU device\n",
        "physical_devices = tf.config.list_physical_devices('GPU')\n",
        "if len(physical_devices) > 0:\n",
        "    tf.config.experimental.set_memory_growth(physical_devices[0], True)"
      ],
      "metadata": {
        "colab": {
          "base_uri": "https://localhost:8080/"
        },
        "id": "42FI4zL2feiP",
        "outputId": "b543108d-aa1a-4892-839a-29a092721471"
      },
      "execution_count": 12,
      "outputs": [
        {
          "output_type": "stream",
          "name": "stdout",
          "text": [
            "Num GPUs Available:  1\n"
          ]
        }
      ]
    },
    {
      "cell_type": "markdown",
      "source": [
        "A function is defined to plot the training history"
      ],
      "metadata": {
        "id": "VSCR24GDSyqc"
      }
    },
    {
      "cell_type": "code",
      "source": [
        "def calculate_accuracy_increase_rate(history):\n",
        "    train_accuracy = history.history['accuracy']\n",
        "    val_accuracy = history.history['val_accuracy']\n",
        "\n",
        "    train_rate = np.mean(np.diff(train_accuracy))\n",
        "    val_rate = np.mean(np.diff(val_accuracy))\n",
        "\n",
        "    return train_rate, val_rate"
      ],
      "metadata": {
        "id": "U_5cFB1DjMZ4"
      },
      "execution_count": 13,
      "outputs": []
    },
    {
      "cell_type": "code",
      "source": [
        "def plot_training_history(history):\n",
        "    # Access the training history\n",
        "    training_loss = history.history['loss']\n",
        "    training_accuracy = history.history['accuracy']\n",
        "    validation_loss = history.history['val_loss']\n",
        "    validation_accuracy = history.history['val_accuracy']\n",
        "\n",
        "    # Create a figure with two subplots\n",
        "    fig, (ax1, ax2) = plt.subplots(1, 2, figsize=(12, 6))\n",
        "\n",
        "    # Plotting the training and validation accuracy\n",
        "    ax1.plot(training_accuracy)\n",
        "    ax1.plot(validation_accuracy)\n",
        "    ax1.set_title('Model Accuracy')\n",
        "    ax1.set_xlabel('Epoch')\n",
        "    ax1.set_ylabel('Accuracy')\n",
        "    ax1.legend(['Train', 'Validation'], loc='upper left')\n",
        "\n",
        "    # Plotting the training and validation loss\n",
        "    ax2.plot(training_loss)\n",
        "    ax2.plot(validation_loss)\n",
        "    ax2.set_title('Model Loss')\n",
        "    ax2.set_xlabel('Epoch')\n",
        "    ax2.set_ylabel('Loss')\n",
        "    ax2.legend(['Train', 'Validation'], loc='upper right')\n",
        "\n",
        "    # Adjust the spacing between subplots\n",
        "    plt.tight_layout()\n",
        "\n",
        "    # Show the figure\n",
        "    plt.show()"
      ],
      "metadata": {
        "id": "0ZcwYOoBef3J"
      },
      "execution_count": 14,
      "outputs": []
    },
    {
      "cell_type": "code",
      "source": [
        "# Get true labels from the test generator\n",
        "true_labels = test_generator.classes\n",
        "\n",
        "# Get unique true labels\n",
        "class_names = [str(label) for label in range(43)]"
      ],
      "metadata": {
        "id": "Ra0sBmAbv8QP"
      },
      "execution_count": 15,
      "outputs": []
    },
    {
      "cell_type": "markdown",
      "source": [
        "<h2> Model 1: Simple CNN baseline</h2>\n"
      ],
      "metadata": {
        "id": "OgUFRqk4uAFq"
      }
    },
    {
      "cell_type": "markdown",
      "source": [
        "Training the CNN model to upto 30 epochs, early stopping is used to prevent overfitting. However, no regularization is applied."
      ],
      "metadata": {
        "id": "eXwyIjLpS3Em"
      }
    },
    {
      "cell_type": "code",
      "source": [
        "# Define the CNN layers\n",
        "input_layer = Input(shape=(30, 30, 1))\n",
        "x = Conv2D(32, (3, 3), activation='relu')(input_layer)\n",
        "x = MaxPooling2D(2, 2)(x)\n",
        "\n",
        "x = Conv2D(64, (3, 3), activation='relu')(x)\n",
        "x = MaxPooling2D(2, 2)(x)\n",
        "\n",
        "x = Conv2D(128, (3, 3), activation='relu')(x)\n",
        "x = MaxPooling2D(2, 2)(x)\n",
        "\n",
        "x = Flatten()(x)\n",
        "x = Dense(256, activation='relu')(x)\n",
        "x = Dropout(0.5)(x)\n",
        "output_layer = Dense(num_classes, activation='softmax')(x)\n",
        "\n",
        "# Create the model\n",
        "model_CNN = Model(inputs=input_layer, outputs=output_layer)\n",
        "\n",
        "# Compile the model\n",
        "model_CNN.compile(optimizer=Adam(learning_rate=0.001), loss='categorical_crossentropy', metrics=['accuracy'])"
      ],
      "metadata": {
        "id": "S2FXPHyGS1vm"
      },
      "execution_count": 20,
      "outputs": []
    },
    {
      "cell_type": "code",
      "source": [
        "model_CNN.summary()"
      ],
      "metadata": {
        "colab": {
          "base_uri": "https://localhost:8080/"
        },
        "id": "J1A1_tc-UtXG",
        "outputId": "515aa003-ce85-4682-8de6-e7ff3a9366a3"
      },
      "execution_count": 21,
      "outputs": [
        {
          "output_type": "stream",
          "name": "stdout",
          "text": [
            "Model: \"model_1\"\n",
            "_________________________________________________________________\n",
            " Layer (type)                Output Shape              Param #   \n",
            "=================================================================\n",
            " input_2 (InputLayer)        [(None, 30, 30, 1)]       0         \n",
            "                                                                 \n",
            " conv2d_3 (Conv2D)           (None, 28, 28, 32)        320       \n",
            "                                                                 \n",
            " max_pooling2d_3 (MaxPooling  (None, 14, 14, 32)       0         \n",
            " 2D)                                                             \n",
            "                                                                 \n",
            " conv2d_4 (Conv2D)           (None, 12, 12, 64)        18496     \n",
            "                                                                 \n",
            " max_pooling2d_4 (MaxPooling  (None, 6, 6, 64)         0         \n",
            " 2D)                                                             \n",
            "                                                                 \n",
            " conv2d_5 (Conv2D)           (None, 4, 4, 128)         73856     \n",
            "                                                                 \n",
            " max_pooling2d_5 (MaxPooling  (None, 2, 2, 128)        0         \n",
            " 2D)                                                             \n",
            "                                                                 \n",
            " flatten_1 (Flatten)         (None, 512)               0         \n",
            "                                                                 \n",
            " dense_2 (Dense)             (None, 256)               131328    \n",
            "                                                                 \n",
            " dropout_1 (Dropout)         (None, 256)               0         \n",
            "                                                                 \n",
            " dense_3 (Dense)             (None, 43)                11051     \n",
            "                                                                 \n",
            "=================================================================\n",
            "Total params: 235,051\n",
            "Trainable params: 235,051\n",
            "Non-trainable params: 0\n",
            "_________________________________________________________________\n"
          ]
        }
      ]
    },
    {
      "cell_type": "code",
      "source": [
        "# Early stopping callback\n",
        "early_stopping = EarlyStopping(monitor='val_loss', patience=3, restore_best_weights=True)\n",
        "\n",
        "# Train the model\n",
        "num_epochs = 30\n",
        "history_simpleCNN = model_CNN.fit(train_generator, epochs=num_epochs, validation_data=valid_generator, callbacks=[early_stopping])\n",
        "\n",
        "print(\"Model training completed.\")"
      ],
      "metadata": {
        "colab": {
          "base_uri": "https://localhost:8080/"
        },
        "id": "m0sYx0qRTFsH",
        "outputId": "8422e69a-8df1-4efe-9e6d-98fbcab6fb38"
      },
      "execution_count": 22,
      "outputs": [
        {
          "output_type": "stream",
          "name": "stdout",
          "text": [
            "Epoch 1/30\n",
            "667/667 [==============================] - 30s 24ms/step - loss: 2.4272 - accuracy: 0.3224 - val_loss: 1.1494 - val_accuracy: 0.6688\n",
            "Epoch 2/30\n",
            "667/667 [==============================] - 12s 18ms/step - loss: 1.0419 - accuracy: 0.6722 - val_loss: 0.6654 - val_accuracy: 0.8057\n",
            "Epoch 3/30\n",
            "667/667 [==============================] - 12s 18ms/step - loss: 0.6963 - accuracy: 0.7811 - val_loss: 0.4541 - val_accuracy: 0.8706\n",
            "Epoch 4/30\n",
            "667/667 [==============================] - 12s 17ms/step - loss: 0.5353 - accuracy: 0.8293 - val_loss: 0.4225 - val_accuracy: 0.8680\n",
            "Epoch 5/30\n",
            "667/667 [==============================] - 11s 17ms/step - loss: 0.4221 - accuracy: 0.8632 - val_loss: 0.3173 - val_accuracy: 0.9032\n",
            "Epoch 6/30\n",
            "667/667 [==============================] - 12s 18ms/step - loss: 0.3555 - accuracy: 0.8817 - val_loss: 0.2998 - val_accuracy: 0.9029\n",
            "Epoch 7/30\n",
            "667/667 [==============================] - 12s 18ms/step - loss: 0.3015 - accuracy: 0.9023 - val_loss: 0.2534 - val_accuracy: 0.9199\n",
            "Epoch 8/30\n",
            "667/667 [==============================] - 13s 19ms/step - loss: 0.2675 - accuracy: 0.9092 - val_loss: 0.2574 - val_accuracy: 0.9190\n",
            "Epoch 9/30\n",
            "667/667 [==============================] - 12s 17ms/step - loss: 0.2318 - accuracy: 0.9239 - val_loss: 0.2257 - val_accuracy: 0.9306\n",
            "Epoch 10/30\n",
            "667/667 [==============================] - 12s 17ms/step - loss: 0.2050 - accuracy: 0.9327 - val_loss: 0.2448 - val_accuracy: 0.9274\n",
            "Epoch 11/30\n",
            "667/667 [==============================] - 12s 18ms/step - loss: 0.1955 - accuracy: 0.9354 - val_loss: 0.2276 - val_accuracy: 0.9302\n",
            "Epoch 12/30\n",
            "667/667 [==============================] - 12s 18ms/step - loss: 0.1786 - accuracy: 0.9396 - val_loss: 0.2206 - val_accuracy: 0.9332\n",
            "Epoch 13/30\n",
            "667/667 [==============================] - 12s 18ms/step - loss: 0.1498 - accuracy: 0.9476 - val_loss: 0.2128 - val_accuracy: 0.9390\n",
            "Epoch 14/30\n",
            "667/667 [==============================] - 12s 18ms/step - loss: 0.1485 - accuracy: 0.9503 - val_loss: 0.2180 - val_accuracy: 0.9379\n",
            "Epoch 15/30\n",
            "667/667 [==============================] - 13s 19ms/step - loss: 0.1397 - accuracy: 0.9533 - val_loss: 0.2040 - val_accuracy: 0.9387\n",
            "Epoch 16/30\n",
            "667/667 [==============================] - 12s 18ms/step - loss: 0.1366 - accuracy: 0.9544 - val_loss: 0.2236 - val_accuracy: 0.9355\n",
            "Epoch 17/30\n",
            "667/667 [==============================] - 12s 18ms/step - loss: 0.1264 - accuracy: 0.9575 - val_loss: 0.2157 - val_accuracy: 0.9360\n",
            "Epoch 18/30\n",
            "667/667 [==============================] - 12s 18ms/step - loss: 0.1170 - accuracy: 0.9610 - val_loss: 0.2058 - val_accuracy: 0.9424\n",
            "Model training completed.\n"
          ]
        }
      ]
    },
    {
      "cell_type": "code",
      "source": [
        "plot_training_history(history_simpleCNN)"
      ],
      "metadata": {
        "id": "Zn9XUczieoVY",
        "colab": {
          "base_uri": "https://localhost:8080/",
          "height": 370
        },
        "outputId": "c4f6aca8-0ad0-441c-afe5-b33018964f5d"
      },
      "execution_count": 23,
      "outputs": [
        {
          "output_type": "display_data",
          "data": {
            "text/plain": [
              "<Figure size 1200x600 with 2 Axes>"
            ],
            "image/png": "[encoded data removed]"
          },
          "metadata": {}
        }
      ]
    },
    {
      "cell_type": "code",
      "source": [
        "# Increasing rate\n",
        "train_rate_SCNN, val_rate_SCNN = calculate_accuracy_increase_rate(history_simpleCNN)\n",
        "print(\"Training Accuracy Increase Rate:\", train_rate_SCNN)\n",
        "print(\"Validation Accuracy Increase Rate:\", val_rate_SCNN)"
      ],
      "metadata": {
        "colab": {
          "base_uri": "https://localhost:8080/"
        },
        "id": "ubZZ4EK_jRRD",
        "outputId": "d87e5f87-3304-4168-8ac9-4334dee29154"
      },
      "execution_count": 24,
      "outputs": [
        {
          "output_type": "stream",
          "name": "stdout",
          "text": [
            "Training Accuracy Increase Rate: 0.037561779513078576\n",
            "Validation Accuracy Increase Rate: 0.01609593629837036\n"
          ]
        }
      ]
    },
    {
      "cell_type": "code",
      "source": [
        "# Test the model with the test data\n",
        "test_loss_SCNN, test_accuracy_SCNN = model_CNN.evaluate(test_generator)\n",
        "\n",
        "print(f\"Test Loss: {test_loss_SCNN:.4f}\")\n",
        "print(f\"Test Accuracy: {test_accuracy_SCNN:.4f}\")"
      ],
      "metadata": {
        "colab": {
          "base_uri": "https://localhost:8080/"
        },
        "id": "nU0BSx5cqIvH",
        "outputId": "7f6b0a28-885f-456f-991b-0975109aa410"
      },
      "execution_count": 25,
      "outputs": [
        {
          "output_type": "stream",
          "name": "stdout",
          "text": [
            "395/395 [==============================] - 9s 24ms/step - loss: 0.7098 - accuracy: 0.8646\n",
            "Test Loss: 0.7098\n",
            "Test Accuracy: 0.8646\n"
          ]
        }
      ]
    },
    {
      "cell_type": "code",
      "source": [
        "# Make predictions on the test data\n",
        "test_pred_SCNN = model_CNN.predict(test_generator)\n",
        "\n",
        "# Convert one-hot encoded predictions back to class labels\n",
        "pred_labels_SCNN = np.argmax(test_pred_SCNN, axis=1)\n",
        "\n",
        "# Calculate the precision score\n",
        "precision_SCNN = precision_score(true_labels, pred_labels_SCNN, average='weighted')\n",
        "\n",
        "print(f\"Precision Score: {precision_SCNN:.4f}\")"
      ],
      "metadata": {
        "colab": {
          "base_uri": "https://localhost:8080/"
        },
        "id": "pRYMAq09qSus",
        "outputId": "9fa4a4f7-a408-4a15-c5f9-d4a008f43288"
      },
      "execution_count": 26,
      "outputs": [
        {
          "output_type": "stream",
          "name": "stdout",
          "text": [
            "395/395 [==============================] - 10s 25ms/step\n",
            "Precision Score: 0.8816\n"
          ]
        }
      ]
    },
    {
      "cell_type": "code",
      "source": [
        "# Generate a classification report\n",
        "class_rep_SCNN = classification_report(true_labels, pred_labels_SCNN, target_names=class_names)\n",
        "\n",
        "print(\"Classification Report:\\n\", class_rep_SCNN)"
      ],
      "metadata": {
        "id": "2DxGUG22tefV",
        "colab": {
          "base_uri": "https://localhost:8080/"
        },
        "outputId": "e2fc2b7b-351e-44c3-fa2e-38a0b9668d39"
      },
      "execution_count": 27,
      "outputs": [
        {
          "output_type": "stream",
          "name": "stdout",
          "text": [
            "Classification Report:\n",
            "               precision    recall  f1-score   support\n",
            "\n",
            "           0       0.59      0.28      0.38        60\n",
            "           1       0.94      0.88      0.91       720\n",
            "           2       0.98      0.90      0.94       660\n",
            "           3       0.95      0.85      0.90       420\n",
            "           4       0.98      0.98      0.98       690\n",
            "           5       0.98      0.99      0.99       720\n",
            "           6       0.99      0.99      0.99       270\n",
            "           7       0.84      0.96      0.90       210\n",
            "           8       0.94      0.98      0.96       150\n",
            "           9       0.99      0.96      0.98       360\n",
            "          10       0.97      0.63      0.76       390\n",
            "          11       0.54      0.85      0.66        60\n",
            "          12       0.92      0.84      0.88       750\n",
            "          13       0.26      0.59      0.36        90\n",
            "          14       0.58      0.70      0.64        90\n",
            "          15       0.84      0.85      0.84       120\n",
            "          16       0.74      0.82      0.78       150\n",
            "          17       0.87      0.83      0.85        90\n",
            "          18       0.95      0.94      0.95       480\n",
            "          19       0.58      0.79      0.67       180\n",
            "          20       0.25      0.45      0.32        60\n",
            "          21       0.87      0.82      0.84       150\n",
            "          22       0.79      0.89      0.84        90\n",
            "          23       0.80      0.87      0.83       450\n",
            "          24       0.74      0.61      0.67       150\n",
            "          25       0.88      0.88      0.88       270\n",
            "          26       0.62      1.00      0.76        60\n",
            "          27       0.99      0.93      0.96       210\n",
            "          28       0.94      0.99      0.96       120\n",
            "          29       1.00      0.96      0.98       390\n",
            "          30       0.77      0.88      0.82       120\n",
            "          31       0.86      0.92      0.89        60\n",
            "          32       1.00      0.90      0.95       690\n",
            "          33       0.53      0.98      0.69        90\n",
            "          34       0.84      0.87      0.86       660\n",
            "          35       0.79      0.79      0.79        90\n",
            "          36       0.85      0.68      0.76        60\n",
            "          37       0.82      0.90      0.86        90\n",
            "          38       0.73      0.59      0.65       630\n",
            "          39       0.96      0.68      0.80       150\n",
            "          40       0.69      0.88      0.77       450\n",
            "          41       0.83      0.77      0.80       450\n",
            "          42       0.92      0.99      0.95       480\n",
            "\n",
            "    accuracy                           0.86     12630\n",
            "   macro avg       0.81      0.83      0.81     12630\n",
            "weighted avg       0.88      0.86      0.87     12630\n",
            "\n"
          ]
        }
      ]
    },
    {
      "cell_type": "markdown",
      "source": [
        "<h2> Model 2: More complex CNN with regularization</h2>\n",
        "\n"
      ],
      "metadata": {
        "id": "me2jCS4-t0Vj"
      }
    },
    {
      "cell_type": "markdown",
      "source": [
        "More complexity is added to the CNN model with regularization added:\n",
        "\n",
        "Added more convolutional layers with increasing filters to capture more complex features.\n",
        "Added batch normalization layers after each convolutional and dense layer to help stabilize training.\n",
        "Added an additional dense layer with dropout and batch normalization."
      ],
      "metadata": {
        "id": "jjUFO2mmT4RJ"
      }
    },
    {
      "cell_type": "code",
      "source": [
        "# Define the CNN layers\n",
        "input_layer = Input(shape=(30, 30, 1))\n",
        "x = Conv2D(64, (3, 3), activation='relu', kernel_regularizer=regularizers.l2(0.01))(input_layer)\n",
        "x = BatchNormalization()(x)\n",
        "x = MaxPooling2D(2, 2)(x)\n",
        "\n",
        "x = Conv2D(128, (3, 3), activation='relu', kernel_regularizer=regularizers.l2(0.01))(x)\n",
        "x = BatchNormalization()(x)\n",
        "x = MaxPooling2D(2, 2)(x)\n",
        "\n",
        "x = Conv2D(256, (3, 3), activation='relu', kernel_regularizer=regularizers.l2(0.01))(x)\n",
        "x = BatchNormalization()(x)\n",
        "x = MaxPooling2D(2, 2)(x)\n",
        "\n",
        "x = Flatten()(x)\n",
        "x = Dense(512, activation='relu', kernel_regularizer=regularizers.l2(0.01))(x)\n",
        "x = Dropout(0.5)(x)\n",
        "output_layer = Dense(num_classes, activation='softmax')(x)\n",
        "\n",
        "# Create the model\n",
        "model_complex = Model(inputs=input_layer, outputs=output_layer)\n",
        "\n",
        "# Compile the model with a lower learning rate\n",
        "model_complex.compile(optimizer=Adam(learning_rate=0.0001), loss='categorical_crossentropy', metrics=['accuracy'])\n"
      ],
      "metadata": {
        "id": "B57Siq1yYQZL"
      },
      "execution_count": 28,
      "outputs": []
    },
    {
      "cell_type": "code",
      "source": [
        "model_complex.summary()"
      ],
      "metadata": {
        "colab": {
          "base_uri": "https://localhost:8080/"
        },
        "id": "BXOBt8CkYt9-",
        "outputId": "d205bc13-557b-4e0a-baf5-1f961189eae6"
      },
      "execution_count": 29,
      "outputs": [
        {
          "output_type": "stream",
          "name": "stdout",
          "text": [
            "Model: \"model_2\"\n",
            "_________________________________________________________________\n",
            " Layer (type)                Output Shape              Param #   \n",
            "=================================================================\n",
            " input_3 (InputLayer)        [(None, 30, 30, 1)]       0         \n",
            "                                                                 \n",
            " conv2d_6 (Conv2D)           (None, 28, 28, 64)        640       \n",
            "                                                                 \n",
            " batch_normalization (BatchN  (None, 28, 28, 64)       256       \n",
            " ormalization)                                                   \n",
            "                                                                 \n",
            " max_pooling2d_6 (MaxPooling  (None, 14, 14, 64)       0         \n",
            " 2D)                                                             \n",
            "                                                                 \n",
            " conv2d_7 (Conv2D)           (None, 12, 12, 128)       73856     \n",
            "                                                                 \n",
            " batch_normalization_1 (Batc  (None, 12, 12, 128)      512       \n",
            " hNormalization)                                                 \n",
            "                                                                 \n",
            " max_pooling2d_7 (MaxPooling  (None, 6, 6, 128)        0         \n",
            " 2D)                                                             \n",
            "                                                                 \n",
            " conv2d_8 (Conv2D)           (None, 4, 4, 256)         295168    \n",
            "                                                                 \n",
            " batch_normalization_2 (Batc  (None, 4, 4, 256)        1024      \n",
            " hNormalization)                                                 \n",
            "                                                                 \n",
            " max_pooling2d_8 (MaxPooling  (None, 2, 2, 256)        0         \n",
            " 2D)                                                             \n",
            "                                                                 \n",
            " flatten_2 (Flatten)         (None, 1024)              0         \n",
            "                                                                 \n",
            " dense_4 (Dense)             (None, 512)               524800    \n",
            "                                                                 \n",
            " dropout_2 (Dropout)         (None, 512)               0         \n",
            "                                                                 \n",
            " dense_5 (Dense)             (None, 43)                22059     \n",
            "                                                                 \n",
            "=================================================================\n",
            "Total params: 918,315\n",
            "Trainable params: 917,419\n",
            "Non-trainable params: 896\n",
            "_________________________________________________________________\n"
          ]
        }
      ]
    },
    {
      "cell_type": "code",
      "source": [
        "# Early stopping callback\n",
        "early_stopping = EarlyStopping(monitor='val_loss', patience=3, restore_best_weights=True)\n",
        "\n",
        "# Train the model with data augmentation and early stopping\n",
        "num_epochs = 50\n",
        "history_complex_model = model_complex.fit(train_generator, epochs=num_epochs, validation_data=valid_generator, callbacks=[early_stopping])\n",
        "\n",
        "print(\"Model training completed.\")"
      ],
      "metadata": {
        "colab": {
          "base_uri": "https://localhost:8080/"
        },
        "id": "2YiIxl2kYbXX",
        "outputId": "0979016c-532e-4aed-d0e0-26a9134bae7d"
      },
      "execution_count": 30,
      "outputs": [
        {
          "output_type": "stream",
          "name": "stdout",
          "text": [
            "Epoch 1/50\n",
            "667/667 [==============================] - 20s 24ms/step - loss: 10.8167 - accuracy: 0.3897 - val_loss: 8.8092 - val_accuracy: 0.6855\n",
            "Epoch 2/50\n",
            "667/667 [==============================] - 13s 20ms/step - loss: 7.7786 - accuracy: 0.6869 - val_loss: 6.6578 - val_accuracy: 0.8123\n",
            "Epoch 3/50\n",
            "667/667 [==============================] - 13s 19ms/step - loss: 5.9609 - accuracy: 0.8016 - val_loss: 5.1796 - val_accuracy: 0.8610\n",
            "Epoch 4/50\n",
            "667/667 [==============================] - 13s 19ms/step - loss: 4.6049 - accuracy: 0.8658 - val_loss: 4.0285 - val_accuracy: 0.8912\n",
            "Epoch 5/50\n",
            "667/667 [==============================] - 13s 19ms/step - loss: 3.5700 - accuracy: 0.9006 - val_loss: 3.1848 - val_accuracy: 0.9062\n",
            "Epoch 6/50\n",
            "667/667 [==============================] - 14s 21ms/step - loss: 2.7512 - accuracy: 0.9345 - val_loss: 2.5052 - val_accuracy: 0.9094\n",
            "Epoch 7/50\n",
            "667/667 [==============================] - 13s 19ms/step - loss: 2.1278 - accuracy: 0.9497 - val_loss: 1.9339 - val_accuracy: 0.9353\n",
            "Epoch 8/50\n",
            "667/667 [==============================] - 13s 20ms/step - loss: 1.6576 - accuracy: 0.9605 - val_loss: 1.5439 - val_accuracy: 0.9420\n",
            "Epoch 9/50\n",
            "667/667 [==============================] - 13s 19ms/step - loss: 1.3043 - accuracy: 0.9700 - val_loss: 1.2746 - val_accuracy: 0.9392\n",
            "Epoch 10/50\n",
            "667/667 [==============================] - 13s 19ms/step - loss: 1.0371 - accuracy: 0.9789 - val_loss: 1.0329 - val_accuracy: 0.9465\n",
            "Epoch 11/50\n",
            "667/667 [==============================] - 13s 19ms/step - loss: 0.8438 - accuracy: 0.9812 - val_loss: 0.8779 - val_accuracy: 0.9449\n",
            "Epoch 12/50\n",
            "667/667 [==============================] - 15s 23ms/step - loss: 0.7091 - accuracy: 0.9829 - val_loss: 0.7814 - val_accuracy: 0.9415\n",
            "Epoch 13/50\n",
            "667/667 [==============================] - 13s 19ms/step - loss: 0.6055 - accuracy: 0.9850 - val_loss: 0.7049 - val_accuracy: 0.9428\n",
            "Epoch 14/50\n",
            "667/667 [==============================] - 13s 19ms/step - loss: 0.5183 - accuracy: 0.9887 - val_loss: 0.6155 - val_accuracy: 0.9426\n",
            "Epoch 15/50\n",
            "667/667 [==============================] - 13s 19ms/step - loss: 0.4532 - accuracy: 0.9898 - val_loss: 0.5355 - val_accuracy: 0.9567\n",
            "Epoch 16/50\n",
            "667/667 [==============================] - 13s 19ms/step - loss: 0.4107 - accuracy: 0.9896 - val_loss: 0.5218 - val_accuracy: 0.9512\n",
            "Epoch 17/50\n",
            "667/667 [==============================] - 13s 19ms/step - loss: 0.3793 - accuracy: 0.9892 - val_loss: 0.5161 - val_accuracy: 0.9437\n",
            "Epoch 18/50\n",
            "667/667 [==============================] - 12s 19ms/step - loss: 0.3489 - accuracy: 0.9903 - val_loss: 0.4660 - val_accuracy: 0.9518\n",
            "Epoch 19/50\n",
            "667/667 [==============================] - 13s 19ms/step - loss: 0.3200 - accuracy: 0.9912 - val_loss: 0.4779 - val_accuracy: 0.9387\n",
            "Epoch 20/50\n",
            "667/667 [==============================] - 13s 19ms/step - loss: 0.3046 - accuracy: 0.9907 - val_loss: 0.3908 - val_accuracy: 0.9631\n",
            "Epoch 21/50\n",
            "667/667 [==============================] - 13s 19ms/step - loss: 0.2941 - accuracy: 0.9904 - val_loss: 0.3900 - val_accuracy: 0.9556\n",
            "Epoch 22/50\n",
            "667/667 [==============================] - 13s 19ms/step - loss: 0.2839 - accuracy: 0.9902 - val_loss: 0.3557 - val_accuracy: 0.9672\n",
            "Epoch 23/50\n",
            "667/667 [==============================] - 13s 19ms/step - loss: 0.2643 - accuracy: 0.9928 - val_loss: 0.3754 - val_accuracy: 0.9542\n",
            "Epoch 24/50\n",
            "667/667 [==============================] - 13s 19ms/step - loss: 0.2510 - accuracy: 0.9923 - val_loss: 0.3313 - val_accuracy: 0.9629\n",
            "Epoch 25/50\n",
            "667/667 [==============================] - 13s 19ms/step - loss: 0.2387 - accuracy: 0.9933 - val_loss: 0.3667 - val_accuracy: 0.9516\n",
            "Epoch 26/50\n",
            "667/667 [==============================] - 12s 18ms/step - loss: 0.2548 - accuracy: 0.9894 - val_loss: 0.3669 - val_accuracy: 0.9529\n",
            "Epoch 27/50\n",
            "667/667 [==============================] - 13s 19ms/step - loss: 0.2325 - accuracy: 0.9937 - val_loss: 0.3297 - val_accuracy: 0.9619\n",
            "Epoch 28/50\n",
            "667/667 [==============================] - 13s 19ms/step - loss: 0.2391 - accuracy: 0.9905 - val_loss: 0.3223 - val_accuracy: 0.9629\n",
            "Epoch 29/50\n",
            "667/667 [==============================] - 13s 19ms/step - loss: 0.2188 - accuracy: 0.9936 - val_loss: 0.3450 - val_accuracy: 0.9565\n",
            "Epoch 30/50\n",
            "667/667 [==============================] - 13s 19ms/step - loss: 0.2231 - accuracy: 0.9919 - val_loss: 0.3974 - val_accuracy: 0.9381\n",
            "Epoch 31/50\n",
            "667/667 [==============================] - 13s 19ms/step - loss: 0.2223 - accuracy: 0.9925 - val_loss: 0.3247 - val_accuracy: 0.9593\n",
            "Model training completed.\n"
          ]
        }
      ]
    },
    {
      "cell_type": "code",
      "source": [
        "plot_training_history(history_complex_model)"
      ],
      "metadata": {
        "colab": {
          "base_uri": "https://localhost:8080/",
          "height": 369
        },
        "id": "7LMYWjxCv3Ga",
        "outputId": "6ced4e3f-e0a6-470d-b8f3-ef91a72b0ea4"
      },
      "execution_count": 31,
      "outputs": [
        {
          "output_type": "display_data",
          "data": {
            "text/plain": [
              "<Figure size 1200x600 with 2 Axes>"
            ],
            "image/png": "[encoded data removed]"
          },
          "metadata": {}
        }
      ]
    },
    {
      "cell_type": "code",
      "source": [
        "# Increasing rate\n",
        "train_rate_complex, val_rate_complex = calculate_accuracy_increase_rate(history_complex_model)\n",
        "print(\"Training Accuracy Increase Rate:\", train_rate_complex)\n",
        "print(\"Validation Accuracy Increase Rate:\", val_rate_complex)"
      ],
      "metadata": {
        "colab": {
          "base_uri": "https://localhost:8080/"
        },
        "id": "MHVWoQyrwTk6",
        "outputId": "f7598f13-e9d2-486e-8b28-438c2fef4c3c"
      },
      "execution_count": 32,
      "outputs": [
        {
          "output_type": "stream",
          "name": "stdout",
          "text": [
            "Training Accuracy Increase Rate: 0.020094084739685058\n",
            "Validation Accuracy Increase Rate: 0.009127281109491984\n"
          ]
        }
      ]
    },
    {
      "cell_type": "code",
      "source": [
        "# Test the model with the test data\n",
        "test_loss_complex, test_accuracy_complex = model_complex.evaluate(test_generator)\n",
        "\n",
        "print(f\"Test Loss: {test_loss_complex:.4f}\")\n",
        "print(f\"Test Accuracy: {test_accuracy_complex:.4f}\")"
      ],
      "metadata": {
        "colab": {
          "base_uri": "https://localhost:8080/"
        },
        "id": "u2UhqO-Wv3r4",
        "outputId": "44278227-a00e-4b82-ac89-b09244b6f2a7"
      },
      "execution_count": 33,
      "outputs": [
        {
          "output_type": "stream",
          "name": "stdout",
          "text": [
            "395/395 [==============================] - 10s 24ms/step - loss: 0.6121 - accuracy: 0.8935\n",
            "Test Loss: 0.6121\n",
            "Test Accuracy: 0.8935\n"
          ]
        }
      ]
    },
    {
      "cell_type": "code",
      "source": [
        "# Make predictions on the test data\n",
        "test_pred_complex = model_complex.predict(test_generator)\n",
        "\n",
        "# Convert one-hot encoded predictions back to class labels\n",
        "predicted_labels_complex = np.argmax(test_pred_complex, axis=1)\n",
        "\n",
        "# Calculate the precision score\n",
        "precision_complex = precision_score(true_labels, predicted_labels_complex, average='weighted')\n",
        "\n",
        "print(f\"Precision Score: {precision_complex:.4f}\")"
      ],
      "metadata": {
        "colab": {
          "base_uri": "https://localhost:8080/"
        },
        "id": "NGjoJfhUv31a",
        "outputId": "3376904f-56f0-459f-eeb0-47587ec5e56c"
      },
      "execution_count": 34,
      "outputs": [
        {
          "output_type": "stream",
          "name": "stdout",
          "text": [
            "395/395 [==============================] - 10s 25ms/step\n",
            "Precision Score: 0.9090\n"
          ]
        }
      ]
    },
    {
      "cell_type": "code",
      "source": [
        "# Generate a classification report\n",
        "class_rep_complex = classification_report(true_labels, predicted_labels_complex, target_names=class_names)\n",
        "\n",
        "print(\"Classification Report:\\n\", class_rep_complex)"
      ],
      "metadata": {
        "colab": {
          "base_uri": "https://localhost:8080/"
        },
        "id": "YtZr-SxJwJEQ",
        "outputId": "2c213adb-21bf-4577-956e-51313050f261"
      },
      "execution_count": null,
      "outputs": [
        {
          "output_type": "stream",
          "name": "stdout",
          "text": [
            "Classification Report:\n",
            "               precision    recall  f1-score   support\n",
            "\n",
            "           0       0.53      0.70      0.60        60\n",
            "           1       0.97      0.80      0.88       720\n",
            "           2       1.00      0.86      0.92       660\n",
            "           3       0.92      0.93      0.93       420\n",
            "           4       0.95      1.00      0.97       690\n",
            "           5       0.99      0.99      0.99       720\n",
            "           6       0.99      0.92      0.95       270\n",
            "           7       0.78      0.93      0.85       210\n",
            "           8       0.96      1.00      0.98       150\n",
            "           9       0.96      0.98      0.97       360\n",
            "          10       0.98      0.62      0.76       390\n",
            "          11       0.58      0.88      0.70        60\n",
            "          12       0.91      0.81      0.86       750\n",
            "          13       0.65      0.81      0.72        90\n",
            "          14       0.94      0.52      0.67        90\n",
            "          15       0.82      0.88      0.85       120\n",
            "          16       0.80      0.69      0.74       150\n",
            "          17       0.89      0.84      0.87        90\n",
            "          18       0.99      0.95      0.97       480\n",
            "          19       0.38      0.98      0.54       180\n",
            "          20       0.65      0.25      0.36        60\n",
            "          21       0.95      0.88      0.91       150\n",
            "          22       0.84      0.57      0.68        90\n",
            "          23       0.61      0.90      0.72       450\n",
            "          24       0.70      0.55      0.61       150\n",
            "          25       0.68      0.93      0.79       270\n",
            "          26       0.82      1.00      0.90        60\n",
            "          27       0.98      1.00      0.99       210\n",
            "          28       0.96      0.99      0.98       120\n",
            "          29       1.00      0.97      0.99       390\n",
            "          30       0.99      0.89      0.94       120\n",
            "          31       0.74      1.00      0.85        60\n",
            "          32       1.00      0.98      0.99       690\n",
            "          33       0.85      0.96      0.90        90\n",
            "          34       0.81      0.90      0.85       660\n",
            "          35       0.33      0.77      0.46        90\n",
            "          36       0.98      0.68      0.80        60\n",
            "          37       0.81      0.98      0.88        90\n",
            "          38       0.69      0.49      0.57       630\n",
            "          39       0.98      0.77      0.87       150\n",
            "          40       0.82      0.76      0.79       450\n",
            "          41       0.91      0.70      0.79       450\n",
            "          42       0.93      0.99      0.96       480\n",
            "\n",
            "    accuracy                           0.86     12630\n",
            "   macro avg       0.84      0.84      0.82     12630\n",
            "weighted avg       0.88      0.86      0.86     12630\n",
            "\n"
          ]
        }
      ]
    },
    {
      "cell_type": "markdown",
      "source": [
        "<h2> Model 3: Even more complex CNN with regularization and more layers</h2>"
      ],
      "metadata": {
        "id": "NxP02q59wPQ2"
      }
    },
    {
      "cell_type": "code",
      "source": [
        "# Define the CNN layers\n",
        "input_layer = Input(shape=(30, 30, 1))\n",
        "x = Conv2D(64, (3, 3), activation='relu', kernel_regularizer=regularizers.l2(0.01))(input_layer)\n",
        "x = BatchNormalization()(x)\n",
        "x = MaxPooling2D(2, 2)(x)\n",
        "\n",
        "x = Conv2D(128, (3, 3), activation='relu', kernel_regularizer=regularizers.l2(0.01))(x)\n",
        "x = BatchNormalization()(x)\n",
        "x = MaxPooling2D(2, 2)(x)\n",
        "\n",
        "x = Conv2D(256, (3, 3), activation='relu', kernel_regularizer=regularizers.l2(0.01))(x)\n",
        "x = BatchNormalization()(x)\n",
        "x = MaxPooling2D(2, 2)(x)\n",
        "\n",
        "x = Flatten()(x)\n",
        "x = Dense(512, activation='relu', kernel_regularizer=regularizers.l2(0.01))(x)\n",
        "x = Dropout(0.5)(x)\n",
        "output_layer = Dense(num_classes, activation='softmax')(x)\n",
        "# Create the model\n",
        "model_more_complex = Model(inputs=input_layer, outputs=output_layer)\n",
        "\n",
        "# Compile the model with a lower learning rate\n",
        "model_more_complex.compile(optimizer=RMSprop(learning_rate=0.0001), loss='categorical_crossentropy', metrics=['accuracy'])\n"
      ],
      "metadata": {
        "id": "v7yCUqraioFY"
      },
      "execution_count": 35,
      "outputs": []
    },
    {
      "cell_type": "code",
      "source": [
        "model_more_complex.summary()"
      ],
      "metadata": {
        "colab": {
          "base_uri": "https://localhost:8080/"
        },
        "id": "RtwjmB0vkwK6",
        "outputId": "703fe0de-9a67-405b-943b-0aff8320cbac"
      },
      "execution_count": 36,
      "outputs": [
        {
          "output_type": "stream",
          "name": "stdout",
          "text": [
            "Model: \"model_3\"\n",
            "_________________________________________________________________\n",
            " Layer (type)                Output Shape              Param #   \n",
            "=================================================================\n",
            " input_4 (InputLayer)        [(None, 30, 30, 1)]       0         \n",
            "                                                                 \n",
            " conv2d_9 (Conv2D)           (None, 28, 28, 64)        640       \n",
            "                                                                 \n",
            " batch_normalization_3 (Batc  (None, 28, 28, 64)       256       \n",
            " hNormalization)                                                 \n",
            "                                                                 \n",
            " max_pooling2d_9 (MaxPooling  (None, 14, 14, 64)       0         \n",
            " 2D)                                                             \n",
            "                                                                 \n",
            " conv2d_10 (Conv2D)          (None, 12, 12, 128)       73856     \n",
            "                                                                 \n",
            " batch_normalization_4 (Batc  (None, 12, 12, 128)      512       \n",
            " hNormalization)                                                 \n",
            "                                                                 \n",
            " max_pooling2d_10 (MaxPoolin  (None, 6, 6, 128)        0         \n",
            " g2D)                                                            \n",
            "                                                                 \n",
            " conv2d_11 (Conv2D)          (None, 4, 4, 256)         295168    \n",
            "                                                                 \n",
            " batch_normalization_5 (Batc  (None, 4, 4, 256)        1024      \n",
            " hNormalization)                                                 \n",
            "                                                                 \n",
            " max_pooling2d_11 (MaxPoolin  (None, 2, 2, 256)        0         \n",
            " g2D)                                                            \n",
            "                                                                 \n",
            " flatten_3 (Flatten)         (None, 1024)              0         \n",
            "                                                                 \n",
            " dense_6 (Dense)             (None, 512)               524800    \n",
            "                                                                 \n",
            " dropout_3 (Dropout)         (None, 512)               0         \n",
            "                                                                 \n",
            " dense_7 (Dense)             (None, 43)                22059     \n",
            "                                                                 \n",
            "=================================================================\n",
            "Total params: 918,315\n",
            "Trainable params: 917,419\n",
            "Non-trainable params: 896\n",
            "_________________________________________________________________\n"
          ]
        }
      ]
    },
    {
      "cell_type": "code",
      "source": [
        "# Compile the model with a lower learning rate\n",
        "model_more_complex.compile(optimizer=RMSprop(learning_rate=0.0001), loss='categorical_crossentropy', metrics=['accuracy'])\n",
        "\n",
        "# Early stopping callback\n",
        "early_stopping = EarlyStopping(monitor='val_loss', patience=3, restore_best_weights=True)\n",
        "\n",
        "# Train the model\n",
        "num_epochs = 50\n",
        "history_more_complex_model = model_more_complex.fit(train_generator, epochs=num_epochs, validation_data=valid_generator, callbacks=[early_stopping])\n",
        "\n",
        "print(\"Model training completed.\")"
      ],
      "metadata": {
        "colab": {
          "base_uri": "https://localhost:8080/"
        },
        "id": "vjvOOI-fjmqk",
        "outputId": "c2b7117e-e88f-4c52-dd52-d90a575cc6c1"
      },
      "execution_count": 37,
      "outputs": [
        {
          "output_type": "stream",
          "name": "stdout",
          "text": [
            "Epoch 1/50\n",
            "667/667 [==============================] - 19s 24ms/step - loss: 10.5239 - accuracy: 0.4078 - val_loss: 8.4291 - val_accuracy: 0.6997\n",
            "Epoch 2/50\n",
            "667/667 [==============================] - 13s 19ms/step - loss: 7.3513 - accuracy: 0.7020 - val_loss: 6.1803 - val_accuracy: 0.8301\n",
            "Epoch 3/50\n",
            "667/667 [==============================] - 13s 20ms/step - loss: 5.4807 - accuracy: 0.8168 - val_loss: 4.6726 - val_accuracy: 0.8807\n",
            "Epoch 4/50\n",
            "667/667 [==============================] - 16s 23ms/step - loss: 4.0935 - accuracy: 0.8759 - val_loss: 3.5254 - val_accuracy: 0.8989\n",
            "Epoch 5/50\n",
            "667/667 [==============================] - 13s 19ms/step - loss: 3.0429 - accuracy: 0.9130 - val_loss: 2.6226 - val_accuracy: 0.9306\n",
            "Epoch 6/50\n",
            "667/667 [==============================] - 13s 19ms/step - loss: 2.2607 - accuracy: 0.9382 - val_loss: 2.0158 - val_accuracy: 0.9263\n",
            "Epoch 7/50\n",
            "667/667 [==============================] - 14s 21ms/step - loss: 1.6993 - accuracy: 0.9514 - val_loss: 1.5276 - val_accuracy: 0.9443\n",
            "Epoch 8/50\n",
            "667/667 [==============================] - 12s 18ms/step - loss: 1.2890 - accuracy: 0.9649 - val_loss: 1.1990 - val_accuracy: 0.9458\n",
            "Epoch 9/50\n",
            "667/667 [==============================] - 13s 19ms/step - loss: 0.9947 - accuracy: 0.9743 - val_loss: 1.0251 - val_accuracy: 0.9342\n",
            "Epoch 10/50\n",
            "667/667 [==============================] - 13s 19ms/step - loss: 0.7898 - accuracy: 0.9783 - val_loss: 0.8360 - val_accuracy: 0.9364\n",
            "Epoch 11/50\n",
            "667/667 [==============================] - 13s 19ms/step - loss: 0.6409 - accuracy: 0.9832 - val_loss: 0.7050 - val_accuracy: 0.9497\n",
            "Epoch 12/50\n",
            "667/667 [==============================] - 13s 19ms/step - loss: 0.5336 - accuracy: 0.9852 - val_loss: 0.5786 - val_accuracy: 0.9542\n",
            "Epoch 13/50\n",
            "667/667 [==============================] - 13s 19ms/step - loss: 0.4537 - accuracy: 0.9871 - val_loss: 0.5230 - val_accuracy: 0.9539\n",
            "Epoch 14/50\n",
            "667/667 [==============================] - 13s 19ms/step - loss: 0.3912 - accuracy: 0.9896 - val_loss: 0.4722 - val_accuracy: 0.9531\n",
            "Epoch 15/50\n",
            "667/667 [==============================] - 13s 19ms/step - loss: 0.3426 - accuracy: 0.9898 - val_loss: 0.4192 - val_accuracy: 0.9587\n",
            "Epoch 16/50\n",
            "667/667 [==============================] - 13s 20ms/step - loss: 0.3070 - accuracy: 0.9901 - val_loss: 0.4022 - val_accuracy: 0.9541\n",
            "Epoch 17/50\n",
            "667/667 [==============================] - 12s 18ms/step - loss: 0.2735 - accuracy: 0.9913 - val_loss: 0.3545 - val_accuracy: 0.9599\n",
            "Epoch 18/50\n",
            "667/667 [==============================] - 13s 19ms/step - loss: 0.2500 - accuracy: 0.9918 - val_loss: 0.3480 - val_accuracy: 0.9593\n",
            "Epoch 19/50\n",
            "667/667 [==============================] - 13s 19ms/step - loss: 0.2300 - accuracy: 0.9923 - val_loss: 0.3030 - val_accuracy: 0.9677\n",
            "Epoch 20/50\n",
            "667/667 [==============================] - 13s 19ms/step - loss: 0.2128 - accuracy: 0.9933 - val_loss: 0.3084 - val_accuracy: 0.9606\n",
            "Epoch 21/50\n",
            "667/667 [==============================] - 13s 19ms/step - loss: 0.2014 - accuracy: 0.9922 - val_loss: 0.2931 - val_accuracy: 0.9597\n",
            "Epoch 22/50\n",
            "667/667 [==============================] - 15s 23ms/step - loss: 0.1879 - accuracy: 0.9926 - val_loss: 0.3068 - val_accuracy: 0.9548\n",
            "Epoch 23/50\n",
            "667/667 [==============================] - 13s 19ms/step - loss: 0.1797 - accuracy: 0.9933 - val_loss: 0.2512 - val_accuracy: 0.9668\n",
            "Epoch 24/50\n",
            "667/667 [==============================] - 13s 19ms/step - loss: 0.1729 - accuracy: 0.9928 - val_loss: 0.2610 - val_accuracy: 0.9649\n",
            "Epoch 25/50\n",
            "667/667 [==============================] - 13s 19ms/step - loss: 0.1626 - accuracy: 0.9939 - val_loss: 0.2483 - val_accuracy: 0.9646\n",
            "Epoch 26/50\n",
            "667/667 [==============================] - 13s 19ms/step - loss: 0.1589 - accuracy: 0.9932 - val_loss: 0.2240 - val_accuracy: 0.9707\n",
            "Epoch 27/50\n",
            "667/667 [==============================] - 15s 22ms/step - loss: 0.1539 - accuracy: 0.9936 - val_loss: 0.2514 - val_accuracy: 0.9595\n",
            "Epoch 28/50\n",
            "667/667 [==============================] - 13s 19ms/step - loss: 0.1478 - accuracy: 0.9940 - val_loss: 0.2268 - val_accuracy: 0.9668\n",
            "Epoch 29/50\n",
            "667/667 [==============================] - 13s 19ms/step - loss: 0.1461 - accuracy: 0.9933 - val_loss: 0.2337 - val_accuracy: 0.9674\n",
            "Model training completed.\n"
          ]
        }
      ]
    },
    {
      "cell_type": "code",
      "source": [
        "plot_training_history(history_more_complex_model)"
      ],
      "metadata": {
        "id": "1ZIG9-9wVd4C",
        "colab": {
          "base_uri": "https://localhost:8080/",
          "height": 369
        },
        "outputId": "a398ce8d-193c-4505-b5a6-d27015f8d40f"
      },
      "execution_count": 38,
      "outputs": [
        {
          "output_type": "display_data",
          "data": {
            "text/plain": [
              "<Figure size 1200x600 with 2 Axes>"
            ],
            "image/png": "[encoded data removed]"
          },
          "metadata": {}
        }
      ]
    },
    {
      "cell_type": "code",
      "source": [
        "# Increasing rate\n",
        "train_rate_mComplex, val_rate_mComplex = calculate_accuracy_increase_rate(history_more_complex_model)\n",
        "print(\"Training Accuracy Increase Rate:\", train_rate_mComplex)\n",
        "print(\"Validation Accuracy Increase Rate:\", val_rate_mComplex)"
      ],
      "metadata": {
        "id": "BlPptPKHjZOQ",
        "colab": {
          "base_uri": "https://localhost:8080/"
        },
        "outputId": "2f6fdfba-00c7-4ab1-f8be-e5f08037bac2"
      },
      "execution_count": 39,
      "outputs": [
        {
          "output_type": "stream",
          "name": "stdout",
          "text": [
            "Training Accuracy Increase Rate: 0.020911477506160736\n",
            "Validation Accuracy Increase Rate: 0.009558192321232386\n"
          ]
        }
      ]
    },
    {
      "cell_type": "code",
      "source": [
        "# Test the model with the test data\n",
        "test_loss_mComplex, test_accuracy_mComplex = model_more_complex.evaluate(test_generator)\n",
        "\n",
        "print(f\"Test Loss: {test_loss_mComplex:.4f}\")\n",
        "print(f\"Test Accuracy: {test_accuracy_mComplex:.4f}\")"
      ],
      "metadata": {
        "id": "lOQJcz2duiua",
        "colab": {
          "base_uri": "https://localhost:8080/"
        },
        "outputId": "4890f34b-32af-4f1d-df13-fb4ae9ff349f"
      },
      "execution_count": 40,
      "outputs": [
        {
          "output_type": "stream",
          "name": "stdout",
          "text": [
            "395/395 [==============================] - 11s 27ms/step - loss: 0.4653 - accuracy: 0.9071\n",
            "Test Loss: 0.4653\n",
            "Test Accuracy: 0.9071\n"
          ]
        }
      ]
    },
    {
      "cell_type": "code",
      "source": [
        "# Make predictions on the test data\n",
        "test_pred_mComplex = model_more_complex.predict(test_generator)\n",
        "\n",
        "# Convert one-hot encoded predictions back to class labels\n",
        "predicted_labels_mComplex = np.argmax(test_pred_mComplex, axis=1)\n",
        "\n",
        "# Calculate the precision score\n",
        "precision_mComplex = precision_score(true_labels, predicted_labels_mComplex, average='weighted')\n",
        "\n",
        "print(f\"Precision Score: {precision_mComplex:.4f}\") # 85 87"
      ],
      "metadata": {
        "id": "9r6PFojTuqq9",
        "colab": {
          "base_uri": "https://localhost:8080/"
        },
        "outputId": "fc286778-25fa-413b-d13a-2decd9cb6ced"
      },
      "execution_count": 41,
      "outputs": [
        {
          "output_type": "stream",
          "name": "stdout",
          "text": [
            "395/395 [==============================] - 9s 23ms/step\n",
            "Precision Score: 0.9208\n"
          ]
        }
      ]
    },
    {
      "cell_type": "code",
      "source": [
        "# Generate a classification report\n",
        "class_rep_mComplex = classification_report(true_labels, predicted_labels_mComplex, target_names=class_names)\n",
        "\n",
        "print(\"Classification Report:\\n\", class_rep_mComplex)"
      ],
      "metadata": {
        "colab": {
          "base_uri": "https://localhost:8080/"
        },
        "id": "omduGPdyO7Nz",
        "outputId": "b32c4ef8-47c9-4c37-cd24-c9b2e5a65725"
      },
      "execution_count": 42,
      "outputs": [
        {
          "output_type": "stream",
          "name": "stdout",
          "text": [
            "Classification Report:\n",
            "               precision    recall  f1-score   support\n",
            "\n",
            "           0       0.60      0.77      0.67        60\n",
            "           1       0.97      0.93      0.95       720\n",
            "           2       1.00      0.93      0.96       660\n",
            "           3       1.00      0.85      0.91       420\n",
            "           4       0.99      1.00      0.99       690\n",
            "           5       1.00      1.00      1.00       720\n",
            "           6       1.00      1.00      1.00       270\n",
            "           7       0.83      0.99      0.90       210\n",
            "           8       0.96      1.00      0.98       150\n",
            "           9       1.00      0.98      0.99       360\n",
            "          10       0.99      0.79      0.88       390\n",
            "          11       0.42      0.93      0.58        60\n",
            "          12       0.95      0.90      0.92       750\n",
            "          13       0.45      0.73      0.55        90\n",
            "          14       0.84      0.77      0.80        90\n",
            "          15       0.81      0.93      0.87       120\n",
            "          16       0.84      0.83      0.84       150\n",
            "          17       0.71      0.98      0.82        90\n",
            "          18       0.98      0.95      0.96       480\n",
            "          19       0.85      0.69      0.76       180\n",
            "          20       0.43      0.53      0.47        60\n",
            "          21       0.83      0.89      0.86       150\n",
            "          22       0.65      0.99      0.78        90\n",
            "          23       0.67      0.93      0.78       450\n",
            "          24       0.71      0.67      0.69       150\n",
            "          25       0.84      0.91      0.88       270\n",
            "          26       1.00      1.00      1.00        60\n",
            "          27       1.00      0.99      1.00       210\n",
            "          28       0.94      1.00      0.97       120\n",
            "          29       1.00      0.98      0.99       390\n",
            "          30       0.99      1.00      1.00       120\n",
            "          31       0.91      1.00      0.95        60\n",
            "          32       1.00      0.96      0.98       690\n",
            "          33       0.97      0.98      0.97        90\n",
            "          34       0.95      0.88      0.91       660\n",
            "          35       0.99      0.88      0.93        90\n",
            "          36       0.96      0.82      0.88        60\n",
            "          37       0.84      0.96      0.90        90\n",
            "          38       0.74      0.74      0.74       630\n",
            "          39       0.94      0.77      0.85       150\n",
            "          40       0.96      0.79      0.87       450\n",
            "          41       0.90      0.86      0.88       450\n",
            "          42       0.97      1.00      0.98       480\n",
            "\n",
            "    accuracy                           0.91     12630\n",
            "   macro avg       0.87      0.89      0.87     12630\n",
            "weighted avg       0.92      0.91      0.91     12630\n",
            "\n"
          ]
        }
      ]
    },
    {
      "cell_type": "markdown",
      "source": [
        "<h2> Model 4: Even more complex CNN with regularization and more layers</h2>\n"
      ],
      "metadata": {
        "id": "kOkTitWY6R32"
      }
    },
    {
      "cell_type": "code",
      "source": [
        "# Define a more complex CNN architecture\n",
        "input_layer = Input(shape=(30, 30, 1))\n",
        "x = Conv2D(64, (3, 3), activation='relu', kernel_regularizer=regularizers.l2(0.01))(input_layer)\n",
        "x = BatchNormalization()(x)\n",
        "x = MaxPooling2D(2, 2)(x)\n",
        "\n",
        "x = Conv2D(128, (3, 3), activation='relu', kernel_regularizer=regularizers.l2(0.01))(x)\n",
        "x = BatchNormalization()(x)\n",
        "x = MaxPooling2D(2, 2)(x)\n",
        "\n",
        "x = Conv2D(256, (3, 3), activation='relu', kernel_regularizer=regularizers.l2(0.01))(x)\n",
        "x = BatchNormalization()(x)\n",
        "x = MaxPooling2D(2, 2)(x)\n",
        "\n",
        "x = Flatten()(x)\n",
        "x = Dense(512, activation='relu', kernel_regularizer=regularizers.l2(0.01))(x)\n",
        "x = Dropout(0.5)(x)\n",
        "\n",
        "# Add another dense layer with dropout\n",
        "x = Dense(256, activation='relu', kernel_regularizer=regularizers.l2(0.01))(x)\n",
        "x = Dropout(0.4)(x)\n",
        "\n",
        "output_layer = Dense(num_classes, activation='softmax')(x)\n",
        "\n",
        "# Create the model\n",
        "model_modified = Model(inputs=input_layer, outputs=output_layer)\n",
        "\n",
        "# Compile the model with a lower learning rate\n",
        "model_modified.compile(optimizer=RMSprop(learning_rate=0.0001), loss='categorical_crossentropy', metrics=['accuracy'])\n"
      ],
      "metadata": {
        "id": "v7zUnmfG4p-a"
      },
      "execution_count": 45,
      "outputs": []
    },
    {
      "cell_type": "code",
      "source": [
        "# Early stopping callback\n",
        "early_stopping = EarlyStopping(monitor='val_loss', patience=3, restore_best_weights=True)\n",
        "\n",
        "# Train the model\n",
        "num_epochs = 50\n",
        "history_modified_model = model_modified.fit(train_generator, epochs=num_epochs, validation_data=valid_generator, callbacks=[early_stopping])\n",
        "\n",
        "print(\"Model training completed.\")"
      ],
      "metadata": {
        "colab": {
          "base_uri": "https://localhost:8080/"
        },
        "id": "WaUAF2Uv6jUu",
        "outputId": "1edf440e-2bc5-447e-9417-6d6c88f61cc3"
      },
      "execution_count": 46,
      "outputs": [
        {
          "output_type": "stream",
          "name": "stdout",
          "text": [
            "Epoch 1/50\n",
            "667/667 [==============================] - 17s 20ms/step - loss: 14.0249 - accuracy: 0.2224 - val_loss: 11.2183 - val_accuracy: 0.5775\n",
            "Epoch 2/50\n",
            "667/667 [==============================] - 13s 20ms/step - loss: 9.9001 - accuracy: 0.5050 - val_loss: 8.1507 - val_accuracy: 0.7494\n",
            "Epoch 3/50\n",
            "667/667 [==============================] - 13s 19ms/step - loss: 7.4628 - accuracy: 0.6617 - val_loss: 6.2330 - val_accuracy: 0.8271\n",
            "Epoch 4/50\n",
            "667/667 [==============================] - 13s 19ms/step - loss: 5.6353 - accuracy: 0.7733 - val_loss: 4.7073 - val_accuracy: 0.8682\n",
            "Epoch 5/50\n",
            "667/667 [==============================] - 13s 20ms/step - loss: 4.2397 - accuracy: 0.8371 - val_loss: 3.5635 - val_accuracy: 0.8991\n",
            "Epoch 6/50\n",
            "667/667 [==============================] - 13s 20ms/step - loss: 3.1710 - accuracy: 0.8776 - val_loss: 2.7024 - val_accuracy: 0.9250\n",
            "Epoch 7/50\n",
            "667/667 [==============================] - 13s 20ms/step - loss: 2.3922 - accuracy: 0.9092 - val_loss: 2.0655 - val_accuracy: 0.9255\n",
            "Epoch 8/50\n",
            "667/667 [==============================] - 13s 20ms/step - loss: 1.8192 - accuracy: 0.9333 - val_loss: 1.5869 - val_accuracy: 0.9407\n",
            "Epoch 9/50\n",
            "667/667 [==============================] - 13s 20ms/step - loss: 1.4176 - accuracy: 0.9467 - val_loss: 1.3277 - val_accuracy: 0.9349\n",
            "Epoch 10/50\n",
            "667/667 [==============================] - 14s 21ms/step - loss: 1.1329 - accuracy: 0.9582 - val_loss: 1.0544 - val_accuracy: 0.9475\n",
            "Epoch 11/50\n",
            "667/667 [==============================] - 13s 20ms/step - loss: 0.9360 - accuracy: 0.9665 - val_loss: 0.9335 - val_accuracy: 0.9460\n",
            "Epoch 12/50\n",
            "667/667 [==============================] - 16s 24ms/step - loss: 0.7960 - accuracy: 0.9703 - val_loss: 0.8243 - val_accuracy: 0.9404\n",
            "Epoch 13/50\n",
            "667/667 [==============================] - 13s 20ms/step - loss: 0.6879 - accuracy: 0.9770 - val_loss: 0.7377 - val_accuracy: 0.9477\n",
            "Epoch 14/50\n",
            "667/667 [==============================] - 13s 19ms/step - loss: 0.6114 - accuracy: 0.9784 - val_loss: 0.6478 - val_accuracy: 0.9505\n",
            "Epoch 15/50\n",
            "667/667 [==============================] - 13s 20ms/step - loss: 0.5472 - accuracy: 0.9813 - val_loss: 0.6071 - val_accuracy: 0.9458\n",
            "Epoch 16/50\n",
            "667/667 [==============================] - 15s 23ms/step - loss: 0.4978 - accuracy: 0.9824 - val_loss: 0.5312 - val_accuracy: 0.9606\n",
            "Epoch 17/50\n",
            "667/667 [==============================] - 13s 20ms/step - loss: 0.4507 - accuracy: 0.9862 - val_loss: 0.5051 - val_accuracy: 0.9591\n",
            "Epoch 18/50\n",
            "667/667 [==============================] - 13s 20ms/step - loss: 0.4190 - accuracy: 0.9848 - val_loss: 0.4636 - val_accuracy: 0.9646\n",
            "Epoch 19/50\n",
            "667/667 [==============================] - 15s 23ms/step - loss: 0.3879 - accuracy: 0.9865 - val_loss: 0.4340 - val_accuracy: 0.9640\n",
            "Epoch 20/50\n",
            "667/667 [==============================] - 13s 19ms/step - loss: 0.3667 - accuracy: 0.9860 - val_loss: 0.4266 - val_accuracy: 0.9625\n",
            "Epoch 21/50\n",
            "667/667 [==============================] - 13s 20ms/step - loss: 0.3434 - accuracy: 0.9873 - val_loss: 0.4257 - val_accuracy: 0.9552\n",
            "Epoch 22/50\n",
            "667/667 [==============================] - 13s 20ms/step - loss: 0.3232 - accuracy: 0.9884 - val_loss: 0.3809 - val_accuracy: 0.9646\n",
            "Epoch 23/50\n",
            "667/667 [==============================] - 13s 19ms/step - loss: 0.3089 - accuracy: 0.9880 - val_loss: 0.3839 - val_accuracy: 0.9614\n",
            "Epoch 24/50\n",
            "667/667 [==============================] - 13s 20ms/step - loss: 0.2966 - accuracy: 0.9893 - val_loss: 0.3600 - val_accuracy: 0.9636\n",
            "Epoch 25/50\n",
            "667/667 [==============================] - 13s 20ms/step - loss: 0.2854 - accuracy: 0.9897 - val_loss: 0.3512 - val_accuracy: 0.9629\n",
            "Epoch 26/50\n",
            "667/667 [==============================] - 13s 20ms/step - loss: 0.2782 - accuracy: 0.9891 - val_loss: 0.3360 - val_accuracy: 0.9664\n",
            "Epoch 27/50\n",
            "667/667 [==============================] - 13s 19ms/step - loss: 0.2706 - accuracy: 0.9884 - val_loss: 0.3401 - val_accuracy: 0.9647\n",
            "Epoch 28/50\n",
            "667/667 [==============================] - 13s 19ms/step - loss: 0.2634 - accuracy: 0.9892 - val_loss: 0.3324 - val_accuracy: 0.9632\n",
            "Epoch 29/50\n",
            "667/667 [==============================] - 14s 21ms/step - loss: 0.2582 - accuracy: 0.9892 - val_loss: 0.3291 - val_accuracy: 0.9625\n",
            "Epoch 30/50\n",
            "667/667 [==============================] - 13s 19ms/step - loss: 0.2502 - accuracy: 0.9900 - val_loss: 0.3096 - val_accuracy: 0.9661\n",
            "Epoch 31/50\n",
            "667/667 [==============================] - 15s 22ms/step - loss: 0.2434 - accuracy: 0.9911 - val_loss: 0.3723 - val_accuracy: 0.9531\n",
            "Epoch 32/50\n",
            "667/667 [==============================] - 13s 20ms/step - loss: 0.2383 - accuracy: 0.9905 - val_loss: 0.3269 - val_accuracy: 0.9608\n",
            "Epoch 33/50\n",
            "667/667 [==============================] - 13s 19ms/step - loss: 0.2353 - accuracy: 0.9902 - val_loss: 0.3333 - val_accuracy: 0.9584\n",
            "Model training completed.\n"
          ]
        }
      ]
    },
    {
      "cell_type": "code",
      "source": [
        "# Test the model with the test data\n",
        "test_loss_mComplex, test_accuracy_mComplex = model_modified.evaluate(test_generator)\n",
        "\n",
        "print(f\"Test Loss: {test_loss_mComplex:.4f}\")\n",
        "print(f\"Test Accuracy: {test_accuracy_mComplex:.4f}\")"
      ],
      "metadata": {
        "id": "fqa7qLr162ml",
        "colab": {
          "base_uri": "https://localhost:8080/"
        },
        "outputId": "ff896ab7-92d2-40e3-894f-ecf3556c932f"
      },
      "execution_count": 48,
      "outputs": [
        {
          "output_type": "stream",
          "name": "stdout",
          "text": [
            "395/395 [==============================] - 13s 33ms/step - loss: 0.5075 - accuracy: 0.9146\n",
            "Test Loss: 0.5075\n",
            "Test Accuracy: 0.9146\n"
          ]
        }
      ]
    },
    {
      "cell_type": "markdown",
      "source": [
        "<h1> 2.3 Saving the model</h1>"
      ],
      "metadata": {
        "id": "hPIoN9AEBbSc"
      }
    },
    {
      "cell_type": "code",
      "source": [
        "model.save(\"final_CNN_model.h5\")"
      ],
      "metadata": {
        "id": "Xfuln5m4C3R7"
      },
      "execution_count": null,
      "outputs": []
    },
    {
      "cell_type": "code",
      "source": [
        "def save_training_history(history, filename):\n",
        "    # Create a DataFrame from the training history\n",
        "    history_df = pd.DataFrame(history.history)\n",
        "\n",
        "    # Save the DataFrame to a CSV file\n",
        "    history_df.to_csv(filename, index=False)\n",
        "\n",
        "    # Print the first few rows of the history DataFrame\n",
        "    print(history_df.head())"
      ],
      "metadata": {
        "id": "jD8a_DTcBd5C"
      },
      "execution_count": null,
      "outputs": []
    },
    {
      "cell_type": "code",
      "source": [
        "save_training_history(history_simpleCNN, 'training_history_simpleCNN.csv')"
      ],
      "metadata": {
        "id": "hIWdpGeiBwBV"
      },
      "execution_count": null,
      "outputs": []
    },
    {
      "cell_type": "code",
      "source": [
        "save_training_history(history_normCNN, 'training_history_normCNN.csv')"
      ],
      "metadata": {
        "id": "J6DAvrGfBpQB"
      },
      "execution_count": null,
      "outputs": []
    },
    {
      "cell_type": "code",
      "source": [
        "import shutil\n",
        "import os\n",
        "\n",
        "# Define the destination directory in Google Drive\n",
        "dest_dir = '/content/drive/MyDrive/final/training_models/CNN/'\n",
        "\n",
        "# Create the destination directory if it doesn't exist\n",
        "os.makedirs(dest_dir, exist_ok=True)\n",
        "\n",
        "# Define the source paths\n",
        "src_paths = [\n",
        "    'final_CNN_model.h5',\n",
        "    'training_history_simpleCNN.csv',\n",
        "    'training_history_normCNN.csv',\n",
        "]\n",
        "\n",
        "# Copy files to Google Drive\n",
        "for src_path in src_paths:\n",
        "    shutil.copy(src_path, dest_dir)\n",
        "\n",
        "print(\"Files copied to Google Drive successfully.\")"
      ],
      "metadata": {
        "id": "INCKfh3KDhys"
      },
      "execution_count": null,
      "outputs": []
    }
  ]
}