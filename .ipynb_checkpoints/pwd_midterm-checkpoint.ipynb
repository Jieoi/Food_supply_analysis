{
 "cells": [
  {
   "cell_type": "markdown",
   "id": "fa2ba6ce",
   "metadata": {},
   "source": [
    "<h1>1. Introduction to the research space</h1>"
   ]
  },
  {
   "cell_type": "markdown",
   "id": "ffcd342f",
   "metadata": {},
   "source": [
    "<h3>1.1 Summary of research area</h3>"
   ]
  },
  {
   "cell_type": "markdown",
   "id": "71b11c6d",
   "metadata": {},
   "source": [
    "<p>This research is</p>"
   ]
  },
  {
   "cell_type": "markdown",
   "id": "60d976a2",
   "metadata": {},
   "source": [
    "<h3>1.2 Aims and objectives</h3>\n",
    "<p>This research project aims to understand the general trend of the food security in Singapore by analysing the supply of live stock. While this may not be an accurate representation of the general food supply in Singapore, however, it offers a view of the local food security. Ideally, this research could help policymakers to understand the changes in the supply of meat and aid them in making policies concerning food. The research question is how the supply of live stock for food in Singapore changes over time.</p>"
   ]
  },
  {
   "cell_type": "markdown",
   "id": "053970f1",
   "metadata": {},
   "source": [
    "<h3>1.3 Acquire of dataset</h3>\n",
    "<p>The information regarding the historical data on the Livestock Slaughtered was acquired from the official website of the Singapore Department of Statistics (SingStats) via web API. The code for web scrapping is shown below.</p>"
   ]
  },
  {
   "cell_type": "code",
   "execution_count": 1,
   "id": "cc2b0552",
   "metadata": {},
   "outputs": [],
   "source": [
    "#importing the relevent library\n",
    "import requests\n",
    "import json\n",
    "import pandas as pd"
   ]
  },
  {
   "cell_type": "markdown",
   "id": "5edc7d59",
   "metadata": {},
   "source": [
    "<p>I have imported the above libraries for these following reasons:</p>\n",
    "<p>requests library is used to initiate HTTP get request to the website so that the python program is able to scrape for the data</p>\n",
    "<p>json library is used to load the data scraped from the website into text file so that it is readable by other parts of the program</p>\n",
    "<p>pandas library is used as it is a common data analytic tool to process and handle data frames in python. It is used to write to and read from csv files that saves the data. It also handles and processes the data to a proper format.</p> "
   ]
  },
  {
   "cell_type": "code",
   "execution_count": 2,
   "id": "8ccc9fb0",
   "metadata": {},
   "outputs": [],
   "source": [
    "#function to return the url for the data\n",
    "def getRequesturl():\n",
    "    url = \"https://tablebuilder.singstat.gov.sg/api/table/tabledata/M890521\"\n",
    "    return url"
   ]
  },
  {
   "cell_type": "code",
   "execution_count": 3,
   "id": "69edb523",
   "metadata": {},
   "outputs": [],
   "source": [
    "#functions to scrap the singstats website for the data\n",
    "def getApiData(requestUrl):\n",
    "    response = requests.get(requestUrl)\n",
    "    data = json.loads(response.text)\n",
    "    poultry =  data[\"Data\"][\"row\"][0][\"columns\"]\n",
    "    chicken = data[\"Data\"][\"row\"][1][\"columns\"]\n",
    "    duck = data[\"Data\"][\"row\"][2][\"columns\"]\n",
    "    quail = data[\"Data\"][\"row\"][2][\"columns\"]\n",
    "    pigs = data[\"Data\"][\"row\"][2][\"columns\"]\n",
    "\n",
    "    return poultry, chicken, duck, quail, pigs\n",
    "\n",
    "def getApiDataPoultry(requestUrl):\n",
    "    response = requests.get(requestUrl)\n",
    "    data = json.loads(response.text)\n",
    "    poultry =  data[\"Data\"][\"row\"][0][\"columns\"]\n",
    "    return poultry\n",
    "\n",
    "def getApiDataChickens(requestUrl):\n",
    "    response = requests.get(requestUrl)\n",
    "    data = json.loads(response.text)\n",
    "    chickens =  data[\"Data\"][\"row\"][1][\"columns\"]\n",
    "    return chickens\n",
    "\n",
    "def getApiDataDucks(requestUrl):\n",
    "    response = requests.get(requestUrl)\n",
    "    data = json.loads(response.text)\n",
    "    ducks =  data[\"Data\"][\"row\"][2][\"columns\"]\n",
    "    return ducks\n",
    "\n",
    "def getApiDataQuails(requestUrl):\n",
    "    response = requests.get(requestUrl)\n",
    "    data = json.loads(response.text)\n",
    "    quails =  data[\"Data\"][\"row\"][3][\"columns\"]\n",
    "    return quails\n",
    "\n",
    "def getApiDataPigs(requestUrl):\n",
    "    response = requests.get(requestUrl)\n",
    "    data = json.loads(response.text)\n",
    "    pigs =  data[\"Data\"][\"row\"][4][\"columns\"]\n",
    "    return pigs"
   ]
  },
  {
   "cell_type": "code",
   "execution_count": 4,
   "id": "a91e6837",
   "metadata": {},
   "outputs": [],
   "source": [
    "#scraping for poultry\n",
    "requestUrl = getRequesturl()\n",
    "\n",
    "poultry = getApiDataPoultry(requestUrl)\n",
    "dfPoul = pd.DataFrame(poultry)\n",
    "# dfPoul #uncomment to view the dataframe"
   ]
  },
  {
   "cell_type": "code",
   "execution_count": 5,
   "id": "8c26032a",
   "metadata": {},
   "outputs": [],
   "source": [
    "#scraping for chicken\n",
    "chicken = getApiDataChickens(requestUrl)\n",
    "dfChick = pd.DataFrame(chicken)\n",
    "# dfchick #uncomment to view the dataframe"
   ]
  },
  {
   "cell_type": "code",
   "execution_count": 6,
   "id": "41896ccd",
   "metadata": {},
   "outputs": [],
   "source": [
    "#scraping for Duck\n",
    "ducks = getApiDataDucks(requestUrl)\n",
    "dfDuck = pd.DataFrame(ducks)\n",
    "# dfduck #uncomment to view the dataframe"
   ]
  },
  {
   "cell_type": "code",
   "execution_count": 7,
   "id": "a626a967",
   "metadata": {},
   "outputs": [],
   "source": [
    "#scraping for Quails\n",
    "quail = getApiDataQuails(requestUrl)\n",
    "dfQuail = pd.DataFrame(quail)\n",
    "# dfquail #uncomment to view the dataframe"
   ]
  },
  {
   "cell_type": "code",
   "execution_count": 8,
   "id": "eab6fab1",
   "metadata": {},
   "outputs": [],
   "source": [
    "#scraping for pig\n",
    "pigs = getApiDataPigs(requestUrl)\n",
    "dfPig = pd.DataFrame(pigs)\n",
    "# dfpig #uncomment to view the dataframe"
   ]
  },
  {
   "cell_type": "markdown",
   "id": "f8bfd188",
   "metadata": {},
   "source": [
    "<p> The data acquired are saved in CSV files. (note, in case the website brokes down or prohibits web scrapping in the future, a backup of the files is available in the data folder. At the time of writing, both copies of data are identical.) Please run the code that is commended out below to continue if the website is unavaliable.</p>"
   ]
  },
  {
   "cell_type": "code",
   "execution_count": 9,
   "id": "b6712b07",
   "metadata": {},
   "outputs": [],
   "source": [
    "#save to csv\n",
    "dfPoul.to_csv(\"poul.csv\")\n",
    "dfChick.to_csv(\"chick.csv\")\n",
    "dfDuck.to_csv(\"duck.csv\")\n",
    "dfQuail.to_csv(\"quail.csv\")\n",
    "dfPig.to_csv(\"pig.csv\")\n",
    "\n",
    "########## The code below are for the backup incase the website fails###########\n",
    "# #read from saved files\n",
    "# dfPoul=pd.read_csv(\"data/poul.csv\")\n",
    "# dfChick=pd.read_csv(\"data/chick.csv\")\n",
    "# dfDuck=pd.read_csv(\"data/duck.csv\")\n",
    "# dfQuail=pd.read_csv(\"data/quail.csv\")\n",
    "# dfPig=pd.read_csv(\"data/pig.csv\")"
   ]
  },
  {
   "cell_type": "markdown",
   "id": "480859a6",
   "metadata": {},
   "source": [
    "</br>"
   ]
  },
  {
   "cell_type": "markdown",
   "id": "5f97420b",
   "metadata": {},
   "source": [
    "<h3> 1.4 Exploratory data analysis</h3>"
   ]
  },
  {
   "cell_type": "markdown",
   "id": "9ff65a23",
   "metadata": {},
   "source": [
    "<p>In the exploratory data analysis, I am finding the maximum value of the particular Livestock Slaughtered and the corresponding year. I am also finding the possible none values.</p>"
   ]
  },
  {
   "cell_type": "markdown",
   "id": "ff6da895",
   "metadata": {},
   "source": [
    "<img src=\"img/notation.jpg\" alt=\"original data in singstats\" width=\"200\" height=\"200\">"
   ]
  },
  {
   "cell_type": "markdown",
   "id": "b19730f9",
   "metadata": {},
   "source": [
    "<p>The picture above is a screen shot of the Singstats, it mentions the notation they use when the data is missing. With referece to this picture, the possible none values to be find will be \"na\", \"nec\", \"nes\" and \"-\"</p>"
   ]
  },
  {
   "cell_type": "markdown",
   "id": "a67a9944",
   "metadata": {},
   "source": [
    "<h4>Exploratory data analysis for Chicken:</h4>"
   ]
  },
  {
   "cell_type": "code",
   "execution_count": 10,
   "id": "d41ea7ae",
   "metadata": {},
   "outputs": [
    {
     "name": "stdout",
     "output_type": "stream",
     "text": [
      "max number slaughtered:\n"
     ]
    },
    {
     "data": {
      "text/html": [
       "<div>\n",
       "<style scoped>\n",
       "    .dataframe tbody tr th:only-of-type {\n",
       "        vertical-align: middle;\n",
       "    }\n",
       "\n",
       "    .dataframe tbody tr th {\n",
       "        vertical-align: top;\n",
       "    }\n",
       "\n",
       "    .dataframe thead th {\n",
       "        text-align: right;\n",
       "    }\n",
       "</style>\n",
       "<table border=\"1\" class=\"dataframe\">\n",
       "  <thead>\n",
       "    <tr style=\"text-align: right;\">\n",
       "      <th></th>\n",
       "      <th>key</th>\n",
       "      <th>value</th>\n",
       "    </tr>\n",
       "  </thead>\n",
       "  <tbody>\n",
       "    <tr>\n",
       "      <th>25</th>\n",
       "      <td>2018</td>\n",
       "      <td>51400</td>\n",
       "    </tr>\n",
       "  </tbody>\n",
       "</table>\n",
       "</div>"
      ],
      "text/plain": [
       "     key  value\n",
       "25  2018  51400"
      ]
     },
     "metadata": {},
     "output_type": "display_data"
    },
    {
     "name": "stdout",
     "output_type": "stream",
     "text": [
      "starting year:\n"
     ]
    },
    {
     "data": {
      "text/html": [
       "<div>\n",
       "<style scoped>\n",
       "    .dataframe tbody tr th:only-of-type {\n",
       "        vertical-align: middle;\n",
       "    }\n",
       "\n",
       "    .dataframe tbody tr th {\n",
       "        vertical-align: top;\n",
       "    }\n",
       "\n",
       "    .dataframe thead th {\n",
       "        text-align: right;\n",
       "    }\n",
       "</style>\n",
       "<table border=\"1\" class=\"dataframe\">\n",
       "  <thead>\n",
       "    <tr style=\"text-align: right;\">\n",
       "      <th></th>\n",
       "      <th>key</th>\n",
       "      <th>value</th>\n",
       "    </tr>\n",
       "  </thead>\n",
       "  <tbody>\n",
       "    <tr>\n",
       "      <th>0</th>\n",
       "      <td>1993</td>\n",
       "      <td>35506</td>\n",
       "    </tr>\n",
       "  </tbody>\n",
       "</table>\n",
       "</div>"
      ],
      "text/plain": [
       "    key  value\n",
       "0  1993  35506"
      ]
     },
     "metadata": {},
     "output_type": "display_data"
    },
    {
     "name": "stdout",
     "output_type": "stream",
     "text": [
      "none value(s):\n"
     ]
    },
    {
     "data": {
      "text/html": [
       "<div>\n",
       "<style scoped>\n",
       "    .dataframe tbody tr th:only-of-type {\n",
       "        vertical-align: middle;\n",
       "    }\n",
       "\n",
       "    .dataframe tbody tr th {\n",
       "        vertical-align: top;\n",
       "    }\n",
       "\n",
       "    .dataframe thead th {\n",
       "        text-align: right;\n",
       "    }\n",
       "</style>\n",
       "<table border=\"1\" class=\"dataframe\">\n",
       "  <thead>\n",
       "    <tr style=\"text-align: right;\">\n",
       "      <th></th>\n",
       "      <th>key</th>\n",
       "      <th>value</th>\n",
       "    </tr>\n",
       "  </thead>\n",
       "  <tbody>\n",
       "  </tbody>\n",
       "</table>\n",
       "</div>"
      ],
      "text/plain": [
       "Empty DataFrame\n",
       "Columns: [key, value]\n",
       "Index: []"
      ]
     },
     "metadata": {},
     "output_type": "display_data"
    },
    {
     "data": {
      "text/html": [
       "<div>\n",
       "<style scoped>\n",
       "    .dataframe tbody tr th:only-of-type {\n",
       "        vertical-align: middle;\n",
       "    }\n",
       "\n",
       "    .dataframe tbody tr th {\n",
       "        vertical-align: top;\n",
       "    }\n",
       "\n",
       "    .dataframe thead th {\n",
       "        text-align: right;\n",
       "    }\n",
       "</style>\n",
       "<table border=\"1\" class=\"dataframe\">\n",
       "  <thead>\n",
       "    <tr style=\"text-align: right;\">\n",
       "      <th></th>\n",
       "      <th>key</th>\n",
       "      <th>value</th>\n",
       "    </tr>\n",
       "  </thead>\n",
       "  <tbody>\n",
       "  </tbody>\n",
       "</table>\n",
       "</div>"
      ],
      "text/plain": [
       "Empty DataFrame\n",
       "Columns: [key, value]\n",
       "Index: []"
      ]
     },
     "metadata": {},
     "output_type": "display_data"
    }
   ],
   "source": [
    "max=dfChick[dfChick['value']==dfChick['value'].max()]#check for max value\n",
    "min_year=dfChick[dfChick['key']==dfChick['key'].min()]#check for starting year\n",
    "\n",
    "\n",
    "none1=dfChick[dfChick.isna().any(axis=1)]#check for na value\n",
    "none2=dfChick.loc[dfChick['value'].isin(['na', 'nec', 'nes', '-'])]#possible none values\n",
    "\n",
    "#print the output\n",
    "print(\"max number slaughtered:\")\n",
    "display(max)\n",
    "\n",
    "print(\"starting year:\")\n",
    "display(min_year)\n",
    "\n",
    "print(\"none value(s):\")\n",
    "display(none1,none2)"
   ]
  },
  {
   "cell_type": "markdown",
   "id": "2decc586",
   "metadata": {},
   "source": [
    "<h4>Exploratory data analysis for Duck:</h4>"
   ]
  },
  {
   "cell_type": "code",
   "execution_count": 11,
   "id": "a22b2744",
   "metadata": {},
   "outputs": [
    {
     "name": "stdout",
     "output_type": "stream",
     "text": [
      "max number slaughtered:\n"
     ]
    },
    {
     "data": {
      "text/html": [
       "<div>\n",
       "<style scoped>\n",
       "    .dataframe tbody tr th:only-of-type {\n",
       "        vertical-align: middle;\n",
       "    }\n",
       "\n",
       "    .dataframe tbody tr th {\n",
       "        vertical-align: top;\n",
       "    }\n",
       "\n",
       "    .dataframe thead th {\n",
       "        text-align: right;\n",
       "    }\n",
       "</style>\n",
       "<table border=\"1\" class=\"dataframe\">\n",
       "  <thead>\n",
       "    <tr style=\"text-align: right;\">\n",
       "      <th></th>\n",
       "      <th>key</th>\n",
       "      <th>value</th>\n",
       "    </tr>\n",
       "  </thead>\n",
       "  <tbody>\n",
       "    <tr>\n",
       "      <th>7</th>\n",
       "      <td>2000</td>\n",
       "      <td>7428</td>\n",
       "    </tr>\n",
       "  </tbody>\n",
       "</table>\n",
       "</div>"
      ],
      "text/plain": [
       "    key value\n",
       "7  2000  7428"
      ]
     },
     "metadata": {},
     "output_type": "display_data"
    },
    {
     "name": "stdout",
     "output_type": "stream",
     "text": [
      "starting year:\n"
     ]
    },
    {
     "data": {
      "text/html": [
       "<div>\n",
       "<style scoped>\n",
       "    .dataframe tbody tr th:only-of-type {\n",
       "        vertical-align: middle;\n",
       "    }\n",
       "\n",
       "    .dataframe tbody tr th {\n",
       "        vertical-align: top;\n",
       "    }\n",
       "\n",
       "    .dataframe thead th {\n",
       "        text-align: right;\n",
       "    }\n",
       "</style>\n",
       "<table border=\"1\" class=\"dataframe\">\n",
       "  <thead>\n",
       "    <tr style=\"text-align: right;\">\n",
       "      <th></th>\n",
       "      <th>key</th>\n",
       "      <th>value</th>\n",
       "    </tr>\n",
       "  </thead>\n",
       "  <tbody>\n",
       "    <tr>\n",
       "      <th>0</th>\n",
       "      <td>1993</td>\n",
       "      <td>6318</td>\n",
       "    </tr>\n",
       "  </tbody>\n",
       "</table>\n",
       "</div>"
      ],
      "text/plain": [
       "    key value\n",
       "0  1993  6318"
      ]
     },
     "metadata": {},
     "output_type": "display_data"
    },
    {
     "name": "stdout",
     "output_type": "stream",
     "text": [
      "none value(s):\n"
     ]
    },
    {
     "data": {
      "text/html": [
       "<div>\n",
       "<style scoped>\n",
       "    .dataframe tbody tr th:only-of-type {\n",
       "        vertical-align: middle;\n",
       "    }\n",
       "\n",
       "    .dataframe tbody tr th {\n",
       "        vertical-align: top;\n",
       "    }\n",
       "\n",
       "    .dataframe thead th {\n",
       "        text-align: right;\n",
       "    }\n",
       "</style>\n",
       "<table border=\"1\" class=\"dataframe\">\n",
       "  <thead>\n",
       "    <tr style=\"text-align: right;\">\n",
       "      <th></th>\n",
       "      <th>key</th>\n",
       "      <th>value</th>\n",
       "    </tr>\n",
       "  </thead>\n",
       "  <tbody>\n",
       "  </tbody>\n",
       "</table>\n",
       "</div>"
      ],
      "text/plain": [
       "Empty DataFrame\n",
       "Columns: [key, value]\n",
       "Index: []"
      ]
     },
     "metadata": {},
     "output_type": "display_data"
    },
    {
     "data": {
      "text/html": [
       "<div>\n",
       "<style scoped>\n",
       "    .dataframe tbody tr th:only-of-type {\n",
       "        vertical-align: middle;\n",
       "    }\n",
       "\n",
       "    .dataframe tbody tr th {\n",
       "        vertical-align: top;\n",
       "    }\n",
       "\n",
       "    .dataframe thead th {\n",
       "        text-align: right;\n",
       "    }\n",
       "</style>\n",
       "<table border=\"1\" class=\"dataframe\">\n",
       "  <thead>\n",
       "    <tr style=\"text-align: right;\">\n",
       "      <th></th>\n",
       "      <th>key</th>\n",
       "      <th>value</th>\n",
       "    </tr>\n",
       "  </thead>\n",
       "  <tbody>\n",
       "  </tbody>\n",
       "</table>\n",
       "</div>"
      ],
      "text/plain": [
       "Empty DataFrame\n",
       "Columns: [key, value]\n",
       "Index: []"
      ]
     },
     "metadata": {},
     "output_type": "display_data"
    }
   ],
   "source": [
    "max=dfDuck[dfDuck['value']==dfDuck['value'].max()]#check for max value\n",
    "min_year=dfDuck[dfDuck['key']==dfDuck['key'].min()]#check for starting year\n",
    "\n",
    "none1=dfDuck[dfDuck.isna().any(axis=1)]#check for na value\n",
    "none2=dfDuck.loc[dfDuck['value'].isin(['na', 'nec', 'nes', '-'])]#possible none values\n",
    "\n",
    "#print the output\n",
    "print(\"max number slaughtered:\")\n",
    "display(max)\n",
    "\n",
    "print(\"starting year:\")\n",
    "display(min_year)\n",
    "\n",
    "print(\"none value(s):\")\n",
    "display(none1,none2)"
   ]
  },
  {
   "cell_type": "markdown",
   "id": "ea39d009",
   "metadata": {},
   "source": [
    "<h4>Exploratory data analysis for Quail:</h4>"
   ]
  },
  {
   "cell_type": "code",
   "execution_count": 12,
   "id": "6429f811",
   "metadata": {},
   "outputs": [
    {
     "name": "stdout",
     "output_type": "stream",
     "text": [
      "max number slaughtered:\n"
     ]
    },
    {
     "data": {
      "text/html": [
       "<div>\n",
       "<style scoped>\n",
       "    .dataframe tbody tr th:only-of-type {\n",
       "        vertical-align: middle;\n",
       "    }\n",
       "\n",
       "    .dataframe tbody tr th {\n",
       "        vertical-align: top;\n",
       "    }\n",
       "\n",
       "    .dataframe thead th {\n",
       "        text-align: right;\n",
       "    }\n",
       "</style>\n",
       "<table border=\"1\" class=\"dataframe\">\n",
       "  <thead>\n",
       "    <tr style=\"text-align: right;\">\n",
       "      <th></th>\n",
       "      <th>key</th>\n",
       "      <th>value</th>\n",
       "    </tr>\n",
       "  </thead>\n",
       "  <tbody>\n",
       "    <tr>\n",
       "      <th>7</th>\n",
       "      <td>2019</td>\n",
       "      <td>85</td>\n",
       "    </tr>\n",
       "  </tbody>\n",
       "</table>\n",
       "</div>"
      ],
      "text/plain": [
       "    key value\n",
       "7  2019    85"
      ]
     },
     "metadata": {},
     "output_type": "display_data"
    },
    {
     "name": "stdout",
     "output_type": "stream",
     "text": [
      "starting year:\n"
     ]
    },
    {
     "data": {
      "text/html": [
       "<div>\n",
       "<style scoped>\n",
       "    .dataframe tbody tr th:only-of-type {\n",
       "        vertical-align: middle;\n",
       "    }\n",
       "\n",
       "    .dataframe tbody tr th {\n",
       "        vertical-align: top;\n",
       "    }\n",
       "\n",
       "    .dataframe thead th {\n",
       "        text-align: right;\n",
       "    }\n",
       "</style>\n",
       "<table border=\"1\" class=\"dataframe\">\n",
       "  <thead>\n",
       "    <tr style=\"text-align: right;\">\n",
       "      <th></th>\n",
       "      <th>key</th>\n",
       "      <th>value</th>\n",
       "    </tr>\n",
       "  </thead>\n",
       "  <tbody>\n",
       "    <tr>\n",
       "      <th>0</th>\n",
       "      <td>2012</td>\n",
       "      <td>80</td>\n",
       "    </tr>\n",
       "  </tbody>\n",
       "</table>\n",
       "</div>"
      ],
      "text/plain": [
       "    key value\n",
       "0  2012    80"
      ]
     },
     "metadata": {},
     "output_type": "display_data"
    },
    {
     "name": "stdout",
     "output_type": "stream",
     "text": [
      "none value(s):\n"
     ]
    },
    {
     "data": {
      "text/html": [
       "<div>\n",
       "<style scoped>\n",
       "    .dataframe tbody tr th:only-of-type {\n",
       "        vertical-align: middle;\n",
       "    }\n",
       "\n",
       "    .dataframe tbody tr th {\n",
       "        vertical-align: top;\n",
       "    }\n",
       "\n",
       "    .dataframe thead th {\n",
       "        text-align: right;\n",
       "    }\n",
       "</style>\n",
       "<table border=\"1\" class=\"dataframe\">\n",
       "  <thead>\n",
       "    <tr style=\"text-align: right;\">\n",
       "      <th></th>\n",
       "      <th>key</th>\n",
       "      <th>value</th>\n",
       "    </tr>\n",
       "  </thead>\n",
       "  <tbody>\n",
       "  </tbody>\n",
       "</table>\n",
       "</div>"
      ],
      "text/plain": [
       "Empty DataFrame\n",
       "Columns: [key, value]\n",
       "Index: []"
      ]
     },
     "metadata": {},
     "output_type": "display_data"
    },
    {
     "data": {
      "text/html": [
       "<div>\n",
       "<style scoped>\n",
       "    .dataframe tbody tr th:only-of-type {\n",
       "        vertical-align: middle;\n",
       "    }\n",
       "\n",
       "    .dataframe tbody tr th {\n",
       "        vertical-align: top;\n",
       "    }\n",
       "\n",
       "    .dataframe thead th {\n",
       "        text-align: right;\n",
       "    }\n",
       "</style>\n",
       "<table border=\"1\" class=\"dataframe\">\n",
       "  <thead>\n",
       "    <tr style=\"text-align: right;\">\n",
       "      <th></th>\n",
       "      <th>key</th>\n",
       "      <th>value</th>\n",
       "    </tr>\n",
       "  </thead>\n",
       "  <tbody>\n",
       "  </tbody>\n",
       "</table>\n",
       "</div>"
      ],
      "text/plain": [
       "Empty DataFrame\n",
       "Columns: [key, value]\n",
       "Index: []"
      ]
     },
     "metadata": {},
     "output_type": "display_data"
    }
   ],
   "source": [
    "max=dfQuail[dfQuail['value']==dfQuail['value'].max()]#check for max value\n",
    "min_year=dfQuail[dfQuail['key']==dfQuail['key'].min()]#check for starting year\n",
    "\n",
    "\n",
    "none1=dfQuail[dfQuail.isna().any(axis=1)]#check for na value\n",
    "none2=dfQuail.loc[dfQuail['value'].isin(['na', 'nec', 'nes', '-'])]#possible none values\n",
    "\n",
    "#print the output\n",
    "print(\"max number slaughtered:\")\n",
    "display(max)\n",
    "\n",
    "print(\"starting year:\")\n",
    "display(min_year)\n",
    "\n",
    "print(\"none value(s):\")\n",
    "display(none1,none2)"
   ]
  },
  {
   "cell_type": "markdown",
   "id": "61303c10",
   "metadata": {},
   "source": [
    "<h4>Exploratory data analysis for Pigs</h4>"
   ]
  },
  {
   "cell_type": "code",
   "execution_count": 13,
   "id": "fafb5b6e",
   "metadata": {},
   "outputs": [
    {
     "name": "stdout",
     "output_type": "stream",
     "text": [
      "max number slaughtered:\n"
     ]
    },
    {
     "data": {
      "text/html": [
       "<div>\n",
       "<style scoped>\n",
       "    .dataframe tbody tr th:only-of-type {\n",
       "        vertical-align: middle;\n",
       "    }\n",
       "\n",
       "    .dataframe tbody tr th {\n",
       "        vertical-align: top;\n",
       "    }\n",
       "\n",
       "    .dataframe thead th {\n",
       "        text-align: right;\n",
       "    }\n",
       "</style>\n",
       "<table border=\"1\" class=\"dataframe\">\n",
       "  <thead>\n",
       "    <tr style=\"text-align: right;\">\n",
       "      <th></th>\n",
       "      <th>key</th>\n",
       "      <th>value</th>\n",
       "    </tr>\n",
       "  </thead>\n",
       "  <tbody>\n",
       "    <tr>\n",
       "      <th>5</th>\n",
       "      <td>2020</td>\n",
       "      <td>431</td>\n",
       "    </tr>\n",
       "  </tbody>\n",
       "</table>\n",
       "</div>"
      ],
      "text/plain": [
       "    key value\n",
       "5  2020   431"
      ]
     },
     "metadata": {},
     "output_type": "display_data"
    },
    {
     "name": "stdout",
     "output_type": "stream",
     "text": [
      "starting year:\n"
     ]
    },
    {
     "data": {
      "text/html": [
       "<div>\n",
       "<style scoped>\n",
       "    .dataframe tbody tr th:only-of-type {\n",
       "        vertical-align: middle;\n",
       "    }\n",
       "\n",
       "    .dataframe tbody tr th {\n",
       "        vertical-align: top;\n",
       "    }\n",
       "\n",
       "    .dataframe thead th {\n",
       "        text-align: right;\n",
       "    }\n",
       "</style>\n",
       "<table border=\"1\" class=\"dataframe\">\n",
       "  <thead>\n",
       "    <tr style=\"text-align: right;\">\n",
       "      <th></th>\n",
       "      <th>key</th>\n",
       "      <th>value</th>\n",
       "    </tr>\n",
       "  </thead>\n",
       "  <tbody>\n",
       "    <tr>\n",
       "      <th>0</th>\n",
       "      <td>2015</td>\n",
       "      <td>334</td>\n",
       "    </tr>\n",
       "  </tbody>\n",
       "</table>\n",
       "</div>"
      ],
      "text/plain": [
       "    key value\n",
       "0  2015   334"
      ]
     },
     "metadata": {},
     "output_type": "display_data"
    },
    {
     "name": "stdout",
     "output_type": "stream",
     "text": [
      "none value(s):\n"
     ]
    },
    {
     "data": {
      "text/html": [
       "<div>\n",
       "<style scoped>\n",
       "    .dataframe tbody tr th:only-of-type {\n",
       "        vertical-align: middle;\n",
       "    }\n",
       "\n",
       "    .dataframe tbody tr th {\n",
       "        vertical-align: top;\n",
       "    }\n",
       "\n",
       "    .dataframe thead th {\n",
       "        text-align: right;\n",
       "    }\n",
       "</style>\n",
       "<table border=\"1\" class=\"dataframe\">\n",
       "  <thead>\n",
       "    <tr style=\"text-align: right;\">\n",
       "      <th></th>\n",
       "      <th>key</th>\n",
       "      <th>value</th>\n",
       "    </tr>\n",
       "  </thead>\n",
       "  <tbody>\n",
       "  </tbody>\n",
       "</table>\n",
       "</div>"
      ],
      "text/plain": [
       "Empty DataFrame\n",
       "Columns: [key, value]\n",
       "Index: []"
      ]
     },
     "metadata": {},
     "output_type": "display_data"
    },
    {
     "data": {
      "text/html": [
       "<div>\n",
       "<style scoped>\n",
       "    .dataframe tbody tr th:only-of-type {\n",
       "        vertical-align: middle;\n",
       "    }\n",
       "\n",
       "    .dataframe tbody tr th {\n",
       "        vertical-align: top;\n",
       "    }\n",
       "\n",
       "    .dataframe thead th {\n",
       "        text-align: right;\n",
       "    }\n",
       "</style>\n",
       "<table border=\"1\" class=\"dataframe\">\n",
       "  <thead>\n",
       "    <tr style=\"text-align: right;\">\n",
       "      <th></th>\n",
       "      <th>key</th>\n",
       "      <th>value</th>\n",
       "    </tr>\n",
       "  </thead>\n",
       "  <tbody>\n",
       "  </tbody>\n",
       "</table>\n",
       "</div>"
      ],
      "text/plain": [
       "Empty DataFrame\n",
       "Columns: [key, value]\n",
       "Index: []"
      ]
     },
     "metadata": {},
     "output_type": "display_data"
    }
   ],
   "source": [
    "max=dfPig[dfPig['value']==dfPig['value'].max()]#check for max value\n",
    "min_year=dfPig[dfPig['key']==dfPig['key'].min()]#check for starting year\n",
    "\n",
    "\n",
    "none1=dfPig[dfPig.isna().any(axis=1)]#check for na value\n",
    "none2=dfPig.loc[dfPig['value'].isin(['na', 'nec', 'nes', '-'])]#possible none values\n",
    "\n",
    "#print the output\n",
    "print(\"max number slaughtered:\")\n",
    "display(max)\n",
    "\n",
    "print(\"starting year:\")\n",
    "display(min_year)\n",
    "\n",
    "print(\"none value(s):\")\n",
    "display(none1,none2)"
   ]
  },
  {
   "cell_type": "markdown",
   "id": "83b6269e",
   "metadata": {},
   "source": [
    "<p>From the analysis above, I can conclude that the number of livestock slaughtered is generally in an increasing trend(except for duck). There is no na or none values in any of the data gathered, however, the data starts at different year. </p>"
   ]
  },
  {
   "cell_type": "markdown",
   "id": "c55cbad3",
   "metadata": {},
   "source": [
    "</br>"
   ]
  },
  {
   "cell_type": "markdown",
   "id": "33f5c265",
   "metadata": {},
   "source": [
    "<h1>2. Justification of the relevance of data to the aims/objective and use of data source</h1>"
   ]
  },
  {
   "cell_type": "markdown",
   "id": "9ee36887",
   "metadata": {},
   "source": [
    "<h3>2.1 Origin of the data</h3>"
   ]
  },
  {
   "cell_type": "markdown",
   "id": "2280d6c8",
   "metadata": {},
   "source": [
    "<p>The data is originate from the official website of the Singapore Department of Statistics (<a href=\"https://www.singstat.gov.sg/)\">link to Singstat</a>). It offers a service called the SingStat Table Builder where the statistics in Singapore are displayed. The data chosen was the yearly data of Livestock Slaughtered in Singapore (<a href=\"https://tablebuilder.singstat.gov.sg/table/TS/M890521)\">link to data</a>).\n",
    "    \n",
    "Web API is used to retrieve the JSON(JavaScript Object Notation) file of the data. The .json file can be found <a href=\"https://tablebuilder.singstat.gov.sg/api/table/tabledata/M890521\">here</a>. The method of retriving the similar to that of week 10's lecture. \n",
    "</p>"
   ]
  },
  {
   "cell_type": "markdown",
   "id": "4efb9a04",
   "metadata": {},
   "source": [
    "<h3>2.2 Appropriateness of the data</h3>"
   ]
  },
  {
   "cell_type": "markdown",
   "id": "42a31cce",
   "metadata": {},
   "source": [
    "<p>This data is appropriate as it offers an overview of the food supply in Singapore in terms of meat. The data also covers majority sources of the meat consumed in Singapore. The Livestock Slaughtered shows an insight of the meat supply to the local market. The number of Livestock Slaughtered influence the supply of meat greatly as it is one of the main source of fresh meat avaliable locally. \n",
    "    \n",
    "On the other hand, the data is published by the Singapore Department of Statistics citing the source as \"AGRI-FOOD AND VETERINARY AUTHORITY, SINGAPORE FOOD AGENCY\". All parties involved are part of the Singapore government, making the source credible.</p>"
   ]
  },
  {
   "cell_type": "markdown",
   "id": "7b068ad2",
   "metadata": {},
   "source": [
    "<h3>2.3 Case for working with this data</h3>"
   ]
  },
  {
   "cell_type": "markdown",
   "id": "0d2eca56",
   "metadata": {},
   "source": [
    "<img src=\"img/original.jpg\" alt=\"original data in singstats\" width=\"500\" height=\"600\">"
   ]
  },
  {
   "cell_type": "markdown",
   "id": "ae1bd441",
   "metadata": {},
   "source": [
    "<p>The image above shows the original data in the Singstats website. With reference to the research question mentioned in section 1.2. The rows concerning the analysis of the research questions are the Poultry, Chickens, Ducks, Quails and Pigs. The data in these rows shows the net number in thousands of the respective livestock slaughted. It answers the the changes in the supply of livestocks. The columns from 1993 to 2021 shows the time that the data is collected. This answers the part on how the data changes with respect to time.</p>"
   ]
  },
  {
   "cell_type": "markdown",
   "id": "e2a66dd1",
   "metadata": {},
   "source": [
    "<p>As for the current dataframe used, I will use that of the poultry (dfPoul) as an example. The other dataframes are of similar structure.</p>"
   ]
  },
  {
   "cell_type": "code",
   "execution_count": 14,
   "id": "f25bcc4d",
   "metadata": {},
   "outputs": [
    {
     "data": {
      "text/html": [
       "<div>\n",
       "<style scoped>\n",
       "    .dataframe tbody tr th:only-of-type {\n",
       "        vertical-align: middle;\n",
       "    }\n",
       "\n",
       "    .dataframe tbody tr th {\n",
       "        vertical-align: top;\n",
       "    }\n",
       "\n",
       "    .dataframe thead th {\n",
       "        text-align: right;\n",
       "    }\n",
       "</style>\n",
       "<table border=\"1\" class=\"dataframe\">\n",
       "  <thead>\n",
       "    <tr style=\"text-align: right;\">\n",
       "      <th></th>\n",
       "      <th>key</th>\n",
       "      <th>value</th>\n",
       "    </tr>\n",
       "  </thead>\n",
       "  <tbody>\n",
       "    <tr>\n",
       "      <th>0</th>\n",
       "      <td>1993</td>\n",
       "      <td>41824</td>\n",
       "    </tr>\n",
       "    <tr>\n",
       "      <th>1</th>\n",
       "      <td>1994</td>\n",
       "      <td>43012</td>\n",
       "    </tr>\n",
       "    <tr>\n",
       "      <th>2</th>\n",
       "      <td>1995</td>\n",
       "      <td>37429</td>\n",
       "    </tr>\n",
       "    <tr>\n",
       "      <th>3</th>\n",
       "      <td>1996</td>\n",
       "      <td>42505</td>\n",
       "    </tr>\n",
       "    <tr>\n",
       "      <th>4</th>\n",
       "      <td>1997</td>\n",
       "      <td>45514</td>\n",
       "    </tr>\n",
       "    <tr>\n",
       "      <th>5</th>\n",
       "      <td>1998</td>\n",
       "      <td>47391</td>\n",
       "    </tr>\n",
       "    <tr>\n",
       "      <th>6</th>\n",
       "      <td>1999</td>\n",
       "      <td>52215</td>\n",
       "    </tr>\n",
       "    <tr>\n",
       "      <th>7</th>\n",
       "      <td>2000</td>\n",
       "      <td>50155</td>\n",
       "    </tr>\n",
       "    <tr>\n",
       "      <th>8</th>\n",
       "      <td>2001</td>\n",
       "      <td>50213</td>\n",
       "    </tr>\n",
       "    <tr>\n",
       "      <th>9</th>\n",
       "      <td>2002</td>\n",
       "      <td>51721</td>\n",
       "    </tr>\n",
       "    <tr>\n",
       "      <th>10</th>\n",
       "      <td>2003</td>\n",
       "      <td>49315</td>\n",
       "    </tr>\n",
       "    <tr>\n",
       "      <th>11</th>\n",
       "      <td>2004</td>\n",
       "      <td>38653</td>\n",
       "    </tr>\n",
       "    <tr>\n",
       "      <th>12</th>\n",
       "      <td>2005</td>\n",
       "      <td>44336</td>\n",
       "    </tr>\n",
       "    <tr>\n",
       "      <th>13</th>\n",
       "      <td>2006</td>\n",
       "      <td>43327</td>\n",
       "    </tr>\n",
       "    <tr>\n",
       "      <th>14</th>\n",
       "      <td>2007</td>\n",
       "      <td>47912</td>\n",
       "    </tr>\n",
       "    <tr>\n",
       "      <th>15</th>\n",
       "      <td>2008</td>\n",
       "      <td>47709</td>\n",
       "    </tr>\n",
       "    <tr>\n",
       "      <th>16</th>\n",
       "      <td>2009</td>\n",
       "      <td>48922</td>\n",
       "    </tr>\n",
       "    <tr>\n",
       "      <th>17</th>\n",
       "      <td>2010</td>\n",
       "      <td>50976</td>\n",
       "    </tr>\n",
       "    <tr>\n",
       "      <th>18</th>\n",
       "      <td>2011</td>\n",
       "      <td>52140</td>\n",
       "    </tr>\n",
       "    <tr>\n",
       "      <th>19</th>\n",
       "      <td>2012</td>\n",
       "      <td>52075</td>\n",
       "    </tr>\n",
       "    <tr>\n",
       "      <th>20</th>\n",
       "      <td>2013</td>\n",
       "      <td>53110</td>\n",
       "    </tr>\n",
       "    <tr>\n",
       "      <th>21</th>\n",
       "      <td>2014</td>\n",
       "      <td>52321</td>\n",
       "    </tr>\n",
       "    <tr>\n",
       "      <th>22</th>\n",
       "      <td>2015</td>\n",
       "      <td>53709</td>\n",
       "    </tr>\n",
       "    <tr>\n",
       "      <th>23</th>\n",
       "      <td>2016</td>\n",
       "      <td>54420</td>\n",
       "    </tr>\n",
       "    <tr>\n",
       "      <th>24</th>\n",
       "      <td>2017</td>\n",
       "      <td>53572</td>\n",
       "    </tr>\n",
       "    <tr>\n",
       "      <th>25</th>\n",
       "      <td>2018</td>\n",
       "      <td>56932</td>\n",
       "    </tr>\n",
       "    <tr>\n",
       "      <th>26</th>\n",
       "      <td>2019</td>\n",
       "      <td>56608</td>\n",
       "    </tr>\n",
       "    <tr>\n",
       "      <th>27</th>\n",
       "      <td>2020</td>\n",
       "      <td>55949</td>\n",
       "    </tr>\n",
       "    <tr>\n",
       "      <th>28</th>\n",
       "      <td>2021</td>\n",
       "      <td>54684</td>\n",
       "    </tr>\n",
       "  </tbody>\n",
       "</table>\n",
       "</div>"
      ],
      "text/plain": [
       "     key  value\n",
       "0   1993  41824\n",
       "1   1994  43012\n",
       "2   1995  37429\n",
       "3   1996  42505\n",
       "4   1997  45514\n",
       "5   1998  47391\n",
       "6   1999  52215\n",
       "7   2000  50155\n",
       "8   2001  50213\n",
       "9   2002  51721\n",
       "10  2003  49315\n",
       "11  2004  38653\n",
       "12  2005  44336\n",
       "13  2006  43327\n",
       "14  2007  47912\n",
       "15  2008  47709\n",
       "16  2009  48922\n",
       "17  2010  50976\n",
       "18  2011  52140\n",
       "19  2012  52075\n",
       "20  2013  53110\n",
       "21  2014  52321\n",
       "22  2015  53709\n",
       "23  2016  54420\n",
       "24  2017  53572\n",
       "25  2018  56932\n",
       "26  2019  56608\n",
       "27  2020  55949\n",
       "28  2021  54684"
      ]
     },
     "metadata": {},
     "output_type": "display_data"
    }
   ],
   "source": [
    "display(dfPoul)"
   ]
  },
  {
   "cell_type": "markdown",
   "id": "8083a06b",
   "metadata": {},
   "source": [
    "<p>The column heading \"key\" in the dataframe shown above refers to the year which the data is gathered. While the column heading \"value\" refers to the number of this particular livestock slaughtered. The current headings are identical for all other dataframes</p>"
   ]
  },
  {
   "cell_type": "markdown",
   "id": "7b30ecea",
   "metadata": {},
   "source": [
    "</br>"
   ]
  },
  {
   "cell_type": "markdown",
   "id": "a4bc5ff7",
   "metadata": {},
   "source": [
    "<h3>2.4 Formating the data </h3>"
   ]
  },
  {
   "cell_type": "markdown",
   "id": "cbf4a60b",
   "metadata": {},
   "source": [
    "<p> The current five dataframes (dfPoul, dfChick, dfDuck, dfQuail, dfPig) will be combined into one dataframe for the easy of analysis. The dataframe dfPoul will be discarted as it is not a representative of a particular livestock.<p>"
   ]
  },
  {
   "cell_type": "markdown",
   "id": "9e8d2ef3",
   "metadata": {},
   "source": [
    "<p> I will rename the column of each dataframe to a unique name and then combine them into one dataframe. </p>"
   ]
  },
  {
   "cell_type": "code",
   "execution_count": 15,
   "id": "60fc2f1d",
   "metadata": {},
   "outputs": [],
   "source": [
    "#dataframe changed and reindexed to regroup \n",
    "#renaming df for chicken\n",
    "dfChick. rename(columns = {'key':'year', 'value':'chi_num'}, inplace = True)\n",
    "dfChick=dfChick.set_index('year')\n",
    "\n",
    "#renaming df for duck\n",
    "dfDuck. rename(columns = {'key':'year', 'value':'duck_num'}, inplace = True)\n",
    "dfDuck=dfDuck.set_index('year')\n",
    "\n",
    "#renaming df for quail\n",
    "dfQuail. rename(columns = {'key':'year', 'value':'qui_num'}, inplace = True)\n",
    "dfQuail=dfQuail.set_index('year')\n",
    "\n",
    "#renaming df for pig\n",
    "dfPig. rename(columns = {'key':'year', 'value':'pig_num'}, inplace = True)\n",
    "dfPig=dfPig.set_index('year')"
   ]
  },
  {
   "cell_type": "code",
   "execution_count": 16,
   "id": "4d487e66",
   "metadata": {},
   "outputs": [
    {
     "data": {
      "text/html": [
       "<div>\n",
       "<style scoped>\n",
       "    .dataframe tbody tr th:only-of-type {\n",
       "        vertical-align: middle;\n",
       "    }\n",
       "\n",
       "    .dataframe tbody tr th {\n",
       "        vertical-align: top;\n",
       "    }\n",
       "\n",
       "    .dataframe thead th {\n",
       "        text-align: right;\n",
       "    }\n",
       "</style>\n",
       "<table border=\"1\" class=\"dataframe\">\n",
       "  <thead>\n",
       "    <tr style=\"text-align: right;\">\n",
       "      <th></th>\n",
       "      <th>chi_num</th>\n",
       "      <th>duck_num</th>\n",
       "      <th>qui_num</th>\n",
       "      <th>pig_num</th>\n",
       "    </tr>\n",
       "    <tr>\n",
       "      <th>year</th>\n",
       "      <th></th>\n",
       "      <th></th>\n",
       "      <th></th>\n",
       "      <th></th>\n",
       "    </tr>\n",
       "  </thead>\n",
       "  <tbody>\n",
       "    <tr>\n",
       "      <th>1993</th>\n",
       "      <td>35506</td>\n",
       "      <td>6318</td>\n",
       "      <td>NaN</td>\n",
       "      <td>NaN</td>\n",
       "    </tr>\n",
       "    <tr>\n",
       "      <th>1994</th>\n",
       "      <td>35956</td>\n",
       "      <td>7056</td>\n",
       "      <td>NaN</td>\n",
       "      <td>NaN</td>\n",
       "    </tr>\n",
       "    <tr>\n",
       "      <th>1995</th>\n",
       "      <td>31264</td>\n",
       "      <td>6166</td>\n",
       "      <td>NaN</td>\n",
       "      <td>NaN</td>\n",
       "    </tr>\n",
       "    <tr>\n",
       "      <th>1996</th>\n",
       "      <td>36312</td>\n",
       "      <td>6193</td>\n",
       "      <td>NaN</td>\n",
       "      <td>NaN</td>\n",
       "    </tr>\n",
       "    <tr>\n",
       "      <th>1997</th>\n",
       "      <td>38631</td>\n",
       "      <td>6884</td>\n",
       "      <td>NaN</td>\n",
       "      <td>NaN</td>\n",
       "    </tr>\n",
       "    <tr>\n",
       "      <th>1998</th>\n",
       "      <td>41124</td>\n",
       "      <td>6268</td>\n",
       "      <td>NaN</td>\n",
       "      <td>NaN</td>\n",
       "    </tr>\n",
       "    <tr>\n",
       "      <th>1999</th>\n",
       "      <td>44858</td>\n",
       "      <td>7357</td>\n",
       "      <td>NaN</td>\n",
       "      <td>NaN</td>\n",
       "    </tr>\n",
       "    <tr>\n",
       "      <th>2000</th>\n",
       "      <td>42727</td>\n",
       "      <td>7428</td>\n",
       "      <td>NaN</td>\n",
       "      <td>NaN</td>\n",
       "    </tr>\n",
       "    <tr>\n",
       "      <th>2001</th>\n",
       "      <td>43484</td>\n",
       "      <td>6729</td>\n",
       "      <td>NaN</td>\n",
       "      <td>NaN</td>\n",
       "    </tr>\n",
       "    <tr>\n",
       "      <th>2002</th>\n",
       "      <td>44768</td>\n",
       "      <td>6953</td>\n",
       "      <td>NaN</td>\n",
       "      <td>NaN</td>\n",
       "    </tr>\n",
       "    <tr>\n",
       "      <th>2003</th>\n",
       "      <td>42838</td>\n",
       "      <td>6477</td>\n",
       "      <td>NaN</td>\n",
       "      <td>NaN</td>\n",
       "    </tr>\n",
       "    <tr>\n",
       "      <th>2004</th>\n",
       "      <td>34363</td>\n",
       "      <td>4290</td>\n",
       "      <td>NaN</td>\n",
       "      <td>NaN</td>\n",
       "    </tr>\n",
       "    <tr>\n",
       "      <th>2005</th>\n",
       "      <td>37845</td>\n",
       "      <td>6491</td>\n",
       "      <td>NaN</td>\n",
       "      <td>NaN</td>\n",
       "    </tr>\n",
       "    <tr>\n",
       "      <th>2006</th>\n",
       "      <td>37996</td>\n",
       "      <td>5331</td>\n",
       "      <td>NaN</td>\n",
       "      <td>NaN</td>\n",
       "    </tr>\n",
       "    <tr>\n",
       "      <th>2007</th>\n",
       "      <td>41537</td>\n",
       "      <td>6375</td>\n",
       "      <td>NaN</td>\n",
       "      <td>NaN</td>\n",
       "    </tr>\n",
       "    <tr>\n",
       "      <th>2008</th>\n",
       "      <td>41312</td>\n",
       "      <td>6398</td>\n",
       "      <td>NaN</td>\n",
       "      <td>NaN</td>\n",
       "    </tr>\n",
       "    <tr>\n",
       "      <th>2009</th>\n",
       "      <td>43075</td>\n",
       "      <td>5847</td>\n",
       "      <td>NaN</td>\n",
       "      <td>NaN</td>\n",
       "    </tr>\n",
       "    <tr>\n",
       "      <th>2010</th>\n",
       "      <td>44659</td>\n",
       "      <td>6317</td>\n",
       "      <td>NaN</td>\n",
       "      <td>NaN</td>\n",
       "    </tr>\n",
       "    <tr>\n",
       "      <th>2011</th>\n",
       "      <td>46193</td>\n",
       "      <td>5947</td>\n",
       "      <td>NaN</td>\n",
       "      <td>NaN</td>\n",
       "    </tr>\n",
       "    <tr>\n",
       "      <th>2012</th>\n",
       "      <td>46099</td>\n",
       "      <td>5896</td>\n",
       "      <td>80</td>\n",
       "      <td>NaN</td>\n",
       "    </tr>\n",
       "    <tr>\n",
       "      <th>2013</th>\n",
       "      <td>47036</td>\n",
       "      <td>6012</td>\n",
       "      <td>62</td>\n",
       "      <td>NaN</td>\n",
       "    </tr>\n",
       "    <tr>\n",
       "      <th>2014</th>\n",
       "      <td>46154</td>\n",
       "      <td>6084</td>\n",
       "      <td>83</td>\n",
       "      <td>NaN</td>\n",
       "    </tr>\n",
       "    <tr>\n",
       "      <th>2015</th>\n",
       "      <td>48008</td>\n",
       "      <td>5601</td>\n",
       "      <td>100</td>\n",
       "      <td>334</td>\n",
       "    </tr>\n",
       "    <tr>\n",
       "      <th>2016</th>\n",
       "      <td>48820</td>\n",
       "      <td>5489</td>\n",
       "      <td>111</td>\n",
       "      <td>333</td>\n",
       "    </tr>\n",
       "    <tr>\n",
       "      <th>2017</th>\n",
       "      <td>48323</td>\n",
       "      <td>5177</td>\n",
       "      <td>72</td>\n",
       "      <td>323</td>\n",
       "    </tr>\n",
       "    <tr>\n",
       "      <th>2018</th>\n",
       "      <td>51400</td>\n",
       "      <td>5429</td>\n",
       "      <td>103</td>\n",
       "      <td>306</td>\n",
       "    </tr>\n",
       "    <tr>\n",
       "      <th>2019</th>\n",
       "      <td>51212</td>\n",
       "      <td>5312</td>\n",
       "      <td>85</td>\n",
       "      <td>355</td>\n",
       "    </tr>\n",
       "    <tr>\n",
       "      <th>2020</th>\n",
       "      <td>50997</td>\n",
       "      <td>4869</td>\n",
       "      <td>83</td>\n",
       "      <td>431</td>\n",
       "    </tr>\n",
       "    <tr>\n",
       "      <th>2021</th>\n",
       "      <td>49384</td>\n",
       "      <td>5225</td>\n",
       "      <td>75</td>\n",
       "      <td>408</td>\n",
       "    </tr>\n",
       "  </tbody>\n",
       "</table>\n",
       "</div>"
      ],
      "text/plain": [
       "     chi_num duck_num qui_num pig_num\n",
       "year                                 \n",
       "1993   35506     6318     NaN     NaN\n",
       "1994   35956     7056     NaN     NaN\n",
       "1995   31264     6166     NaN     NaN\n",
       "1996   36312     6193     NaN     NaN\n",
       "1997   38631     6884     NaN     NaN\n",
       "1998   41124     6268     NaN     NaN\n",
       "1999   44858     7357     NaN     NaN\n",
       "2000   42727     7428     NaN     NaN\n",
       "2001   43484     6729     NaN     NaN\n",
       "2002   44768     6953     NaN     NaN\n",
       "2003   42838     6477     NaN     NaN\n",
       "2004   34363     4290     NaN     NaN\n",
       "2005   37845     6491     NaN     NaN\n",
       "2006   37996     5331     NaN     NaN\n",
       "2007   41537     6375     NaN     NaN\n",
       "2008   41312     6398     NaN     NaN\n",
       "2009   43075     5847     NaN     NaN\n",
       "2010   44659     6317     NaN     NaN\n",
       "2011   46193     5947     NaN     NaN\n",
       "2012   46099     5896      80     NaN\n",
       "2013   47036     6012      62     NaN\n",
       "2014   46154     6084      83     NaN\n",
       "2015   48008     5601     100     334\n",
       "2016   48820     5489     111     333\n",
       "2017   48323     5177      72     323\n",
       "2018   51400     5429     103     306\n",
       "2019   51212     5312      85     355\n",
       "2020   50997     4869      83     431\n",
       "2021   49384     5225      75     408"
      ]
     },
     "metadata": {},
     "output_type": "display_data"
    }
   ],
   "source": [
    "#create new dataframe for everything\n",
    "frames = [dfChick, dfDuck, dfQuail, dfPig]\n",
    "df_livestock = pd.concat(frames,axis=1).reindex(dfChick.index)\n",
    "\n",
    "#store data as csv\n",
    "df_livestock.to_csv(\"livestock.csv\",index=False)\n",
    "display(df_livestock)"
   ]
  },
  {
   "cell_type": "code",
   "execution_count": 17,
   "id": "7cc0cf4f",
   "metadata": {},
   "outputs": [],
   "source": [
    "# download=pd.read_csv(\"data/M890521-table.csv\")\n",
    "# download"
   ]
  },
  {
   "cell_type": "markdown",
   "id": "aeec1131",
   "metadata": {},
   "source": [
    "<p>The data is now in one panda dataframe which is suitable for analysis</p>"
   ]
  },
  {
   "cell_type": "markdown",
   "id": "1ed9c2d8",
   "metadata": {},
   "source": [
    "<h3> 2.5 Comparison of other data avaliable</h3>"
   ]
  },
  {
   "cell_type": "markdown",
   "id": "3df5345c",
   "metadata": {},
   "source": [
    "<p>During the ideation phase of this project, I have also considered a range of other data sets available. In particular, the Singapore Food Statistics from Singapore Food Agency (<a href=\"https://www.sfa.gov.sg/files/SingaporeFoodStatistics/SFA_SingaporeFoodStatistics1/mobile/index.html\">link to data</a>) and Local Production And Local Landings by the Department of Statistic Singapore(<a href=\"https://tablebuilder.singstat.gov.sg/table/TS/M890721)\">link to data</a>). </p>"
   ]
  },
  {
   "cell_type": "markdown",
   "id": "a5dc20c9",
   "metadata": {},
   "source": [
    "<p>The Singapore Food Statistics provides more in-depth analyzed data on food supply in Singapore. It contains more indicators to analyze and thus gives a bigger picture of the issue. However, it is a complete report on a yearly basis. It is difficult to get the data as the arrangement of the report differs year to year.</p>"
   ]
  },
  {
   "cell_type": "markdown",
   "id": "e198cf4f",
   "metadata": {},
   "source": [
    "<p>The Local Production And Local Landings are from the same authority in my analysis. It is equally detailed and credible. However, Singapore is a tiny city-state with little emphasis on local agriculture and farm production. The local production of food is insignificant compared to that of locally slaughtered livestock which is mostly imported.</p>"
   ]
  },
  {
   "cell_type": "markdown",
   "id": "d1b17d99",
   "metadata": {},
   "source": [
    "</br>"
   ]
  },
  {
   "cell_type": "markdown",
   "id": "497daabe",
   "metadata": {},
   "source": [
    "<h1>3. Background Analysis</h3>"
   ]
  },
  {
   "cell_type": "markdown",
   "id": "8a9365ab",
   "metadata": {},
   "source": [
    "<p>Singapore has always been a resource-poor country due to its limited size. She is heavily reliant on imports even daily necessities like food and water. The current supply chain disruption has worsened the matter as one of its main supplier of chicken, Malaysia, has decided to stop the export of the bird due to shortage in supply. Singapore has responded by importing chicken from other sources, however, the price of chicken and eggs still risen significantly locally.</p>\n",
    "</br>\n",
    "<p>Personally, I have felt the rise in food and beverages in eateries and school canteens. Thus I have decided to conduct a study on the supply of food in Singapore, in particular, the supply of meat.</p>"
   ]
  },
  {
   "cell_type": "markdown",
   "id": "4812d4fa",
   "metadata": {},
   "source": [
    "<h1>4. Exploration of data</h1>"
   ]
  },
  {
   "cell_type": "markdown",
   "id": "b64f93f9",
   "metadata": {},
   "source": [
    "<h3>4.1 removing illegal values</h3>"
   ]
  },
  {
   "cell_type": "code",
   "execution_count": null,
   "id": "e985e03d",
   "metadata": {},
   "outputs": [],
   "source": []
  },
  {
   "cell_type": "code",
   "execution_count": null,
   "id": "50fdff9f",
   "metadata": {},
   "outputs": [],
   "source": []
  },
  {
   "cell_type": "markdown",
   "id": "49ebc584",
   "metadata": {},
   "source": [
    "<h1>5. Ethics of use of data</h1>"
   ]
  },
  {
   "cell_type": "code",
   "execution_count": null,
   "id": "8e3d708a",
   "metadata": {},
   "outputs": [],
   "source": []
  }
 ],
 "metadata": {
  "kernelspec": {
   "display_name": "Python 3 (ipykernel)",
   "language": "python",
   "name": "python3"
  },
  "language_info": {
   "codemirror_mode": {
    "name": "ipython",
    "version": 3
   },
   "file_extension": ".py",
   "mimetype": "text/x-python",
   "name": "python",
   "nbconvert_exporter": "python",
   "pygments_lexer": "ipython3",
   "version": "3.10.2"
  }
 },
 "nbformat": 4,
 "nbformat_minor": 5
}
